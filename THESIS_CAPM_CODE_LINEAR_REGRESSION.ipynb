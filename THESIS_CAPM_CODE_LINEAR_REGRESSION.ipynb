{
  "nbformat": 4,
  "nbformat_minor": 0,
  "metadata": {
    "colab": {
      "name": "THESIS - CAPM CODE -LINEAR REGRESSION.ipynb",
      "provenance": [],
      "collapsed_sections": [],
      "include_colab_link": true
    },
    "kernelspec": {
      "name": "python3",
      "display_name": "Python 3"
    }
  },
  "cells": [
    {
      "cell_type": "markdown",
      "metadata": {
        "id": "view-in-github",
        "colab_type": "text"
      },
      "source": [
        "<a href=\"https://colab.research.google.com/github/sahada19/AIMS_project_code/blob/master/THESIS_CAPM_CODE_LINEAR_REGRESSION.ipynb\" target=\"_parent\"><img src=\"https://colab.research.google.com/assets/colab-badge.svg\" alt=\"Open In Colab\"/></a>"
      ]
    },
    {
      "cell_type": "markdown",
      "metadata": {
        "id": "qFgjTvFM43DW",
        "colab_type": "text"
      },
      "source": [
        "**CAPM - SIMPLE LINEAR REGRESSION MODEL USING SCIKIT LEARN**\n",
        "\n"
      ]
    },
    {
      "cell_type": "markdown",
      "metadata": {
        "id": "k9TSl-8bsMRv",
        "colab_type": "text"
      },
      "source": [
        "Importation of libraries"
      ]
    },
    {
      "cell_type": "code",
      "metadata": {
        "id": "8X0bYZvsYQgZ",
        "colab_type": "code",
        "colab": {}
      },
      "source": [
        "import math\n",
        "import pandas as pd \n",
        "import seaborn as sns \n",
        "import matplotlib.pyplot as plt\n",
        "%matplotlib inline\n",
        "import numpy as np\n",
        "import numpy.random as nr\n",
        "from sklearn import preprocessing\n",
        "import sklearn.model_selection as ms\n",
        "from sklearn import linear_model\n",
        "from scipy import stats\n",
        "import statsmodels.api as sm\n",
        "import sklearn.metrics as sklm\n",
        "from sklearn.model_selection import train_test_split\n",
        "from sklearn.linear_model import LinearRegression\n"
      ],
      "execution_count": null,
      "outputs": []
    },
    {
      "cell_type": "code",
      "metadata": {
        "id": "BAkrEsVrFqJ7",
        "colab_type": "code",
        "colab": {
          "base_uri": "https://localhost:8080/",
          "height": 245
        },
        "outputId": "afb844a1-5593-4f61-a240-11151ae9ecb8"
      },
      "source": [
        "####install yfinance to download stock data\n",
        "!pip3 install yfinance --upgrade "
      ],
      "execution_count": null,
      "outputs": [
        {
          "output_type": "stream",
          "text": [
            "Requirement already up-to-date: yfinance in /usr/local/lib/python3.6/dist-packages (0.1.54)\n",
            "Requirement already satisfied, skipping upgrade: numpy>=1.15 in /usr/local/lib/python3.6/dist-packages (from yfinance) (1.18.4)\n",
            "Requirement already satisfied, skipping upgrade: requests>=2.20 in /usr/local/lib/python3.6/dist-packages (from yfinance) (2.23.0)\n",
            "Requirement already satisfied, skipping upgrade: pandas>=0.24 in /usr/local/lib/python3.6/dist-packages (from yfinance) (1.0.3)\n",
            "Requirement already satisfied, skipping upgrade: multitasking>=0.0.7 in /usr/local/lib/python3.6/dist-packages (from yfinance) (0.0.9)\n",
            "Requirement already satisfied, skipping upgrade: chardet<4,>=3.0.2 in /usr/local/lib/python3.6/dist-packages (from requests>=2.20->yfinance) (3.0.4)\n",
            "Requirement already satisfied, skipping upgrade: urllib3!=1.25.0,!=1.25.1,<1.26,>=1.21.1 in /usr/local/lib/python3.6/dist-packages (from requests>=2.20->yfinance) (1.24.3)\n",
            "Requirement already satisfied, skipping upgrade: certifi>=2017.4.17 in /usr/local/lib/python3.6/dist-packages (from requests>=2.20->yfinance) (2020.4.5.1)\n",
            "Requirement already satisfied, skipping upgrade: idna<3,>=2.5 in /usr/local/lib/python3.6/dist-packages (from requests>=2.20->yfinance) (2.9)\n",
            "Requirement already satisfied, skipping upgrade: pytz>=2017.2 in /usr/local/lib/python3.6/dist-packages (from pandas>=0.24->yfinance) (2018.9)\n",
            "Requirement already satisfied, skipping upgrade: python-dateutil>=2.6.1 in /usr/local/lib/python3.6/dist-packages (from pandas>=0.24->yfinance) (2.8.1)\n",
            "Requirement already satisfied, skipping upgrade: six>=1.5 in /usr/local/lib/python3.6/dist-packages (from python-dateutil>=2.6.1->pandas>=0.24->yfinance) (1.12.0)\n"
          ],
          "name": "stdout"
        }
      ]
    },
    {
      "cell_type": "markdown",
      "metadata": {
        "id": "HvVVrJsJ3M3p",
        "colab_type": "text"
      },
      "source": [
        "Data preprocessing"
      ]
    },
    {
      "cell_type": "code",
      "metadata": {
        "id": "BBPel_dhF3Vy",
        "colab_type": "code",
        "colab": {
          "base_uri": "https://localhost:8080/",
          "height": 121
        },
        "outputId": "6170b810-42d4-4e14-ae5a-8514697c719f"
      },
      "source": [
        "#####download the datasets########\n",
        "import yfinance as yf\n",
        "dta1=yf.download (\"AAPL\",start=\"2000-01-01\",end=\"2019-12-31\") #download the data for Apple\n",
        "dta2=yf.download (\"^GSPC\",start=\"2000-01-01\",end=\"2019-12-31\")  #download the data for S&P500 index\n",
        "dta3=yf.download (\"GOOGL\",start=\"2000-01-01\",end=\"2019-12-31\")  #download the data for Google \n",
        "dta4=yf.download (\"AMZN\",start=\"2000-01-01\",end=\"2019-12-31\")   #download the data for Amazon \n",
        "dta5=yf.download (\"MSFT\",start=\"2000-01-01\",end=\"2019-12-31\")   #download the data for Mirosoft \n",
        "dta6=yf.download (\"JPM\",start=\"2000-01-01\",end=\"2019-12-31\")   #download the data for JPM "
      ],
      "execution_count": null,
      "outputs": [
        {
          "output_type": "stream",
          "text": [
            "[*********************100%***********************]  1 of 1 completed\n",
            "[*********************100%***********************]  1 of 1 completed\n",
            "[*********************100%***********************]  1 of 1 completed\n",
            "[*********************100%***********************]  1 of 1 completed\n",
            "[*********************100%***********************]  1 of 1 completed\n",
            "[*********************100%***********************]  1 of 1 completed\n"
          ],
          "name": "stdout"
        }
      ]
    },
    {
      "cell_type": "code",
      "metadata": {
        "id": "2-L0rvIwF3Rd",
        "colab_type": "code",
        "colab": {}
      },
      "source": [
        "###assign the data sets to names\n",
        "apple_data = dta1 \n",
        "sp500_data = dta2 \n",
        "goog_data = dta3\n",
        "amzn_data = dta4 \n",
        "micr_data = dta5\n",
        "jpm_data =dta6"
      ],
      "execution_count": null,
      "outputs": []
    },
    {
      "cell_type": "markdown",
      "metadata": {
        "id": "wMkD4En2s_2a",
        "colab_type": "text"
      },
      "source": [
        "View the first five data sets"
      ]
    },
    {
      "cell_type": "code",
      "metadata": {
        "id": "UY2T0NtAGdpx",
        "colab_type": "code",
        "colab": {
          "base_uri": "https://localhost:8080/",
          "height": 238
        },
        "outputId": "8f6e519a-cdaf-447d-b8dd-db43a605e22c"
      },
      "source": [
        "#view the first five data for Apple\n",
        "apple_data.head()  "
      ],
      "execution_count": null,
      "outputs": [
        {
          "output_type": "execute_result",
          "data": {
            "text/html": [
              "<div>\n",
              "<style scoped>\n",
              "    .dataframe tbody tr th:only-of-type {\n",
              "        vertical-align: middle;\n",
              "    }\n",
              "\n",
              "    .dataframe tbody tr th {\n",
              "        vertical-align: top;\n",
              "    }\n",
              "\n",
              "    .dataframe thead th {\n",
              "        text-align: right;\n",
              "    }\n",
              "</style>\n",
              "<table border=\"1\" class=\"dataframe\">\n",
              "  <thead>\n",
              "    <tr style=\"text-align: right;\">\n",
              "      <th></th>\n",
              "      <th>Open</th>\n",
              "      <th>High</th>\n",
              "      <th>Low</th>\n",
              "      <th>Close</th>\n",
              "      <th>Adj Close</th>\n",
              "      <th>Volume</th>\n",
              "    </tr>\n",
              "    <tr>\n",
              "      <th>Date</th>\n",
              "      <th></th>\n",
              "      <th></th>\n",
              "      <th></th>\n",
              "      <th></th>\n",
              "      <th></th>\n",
              "      <th></th>\n",
              "    </tr>\n",
              "  </thead>\n",
              "  <tbody>\n",
              "    <tr>\n",
              "      <th>2000-01-03</th>\n",
              "      <td>3.745536</td>\n",
              "      <td>4.017857</td>\n",
              "      <td>3.631696</td>\n",
              "      <td>3.997768</td>\n",
              "      <td>3.460857</td>\n",
              "      <td>133949200</td>\n",
              "    </tr>\n",
              "    <tr>\n",
              "      <th>2000-01-04</th>\n",
              "      <td>3.866071</td>\n",
              "      <td>3.950893</td>\n",
              "      <td>3.613839</td>\n",
              "      <td>3.660714</td>\n",
              "      <td>3.169071</td>\n",
              "      <td>128094400</td>\n",
              "    </tr>\n",
              "    <tr>\n",
              "      <th>2000-01-05</th>\n",
              "      <td>3.705357</td>\n",
              "      <td>3.948661</td>\n",
              "      <td>3.678571</td>\n",
              "      <td>3.714286</td>\n",
              "      <td>3.215448</td>\n",
              "      <td>194580400</td>\n",
              "    </tr>\n",
              "    <tr>\n",
              "      <th>2000-01-06</th>\n",
              "      <td>3.790179</td>\n",
              "      <td>3.821429</td>\n",
              "      <td>3.392857</td>\n",
              "      <td>3.392857</td>\n",
              "      <td>2.937188</td>\n",
              "      <td>191993200</td>\n",
              "    </tr>\n",
              "    <tr>\n",
              "      <th>2000-01-07</th>\n",
              "      <td>3.446429</td>\n",
              "      <td>3.607143</td>\n",
              "      <td>3.410714</td>\n",
              "      <td>3.553571</td>\n",
              "      <td>3.076317</td>\n",
              "      <td>115183600</td>\n",
              "    </tr>\n",
              "  </tbody>\n",
              "</table>\n",
              "</div>"
            ],
            "text/plain": [
              "                Open      High       Low     Close  Adj Close     Volume\n",
              "Date                                                                    \n",
              "2000-01-03  3.745536  4.017857  3.631696  3.997768   3.460857  133949200\n",
              "2000-01-04  3.866071  3.950893  3.613839  3.660714   3.169071  128094400\n",
              "2000-01-05  3.705357  3.948661  3.678571  3.714286   3.215448  194580400\n",
              "2000-01-06  3.790179  3.821429  3.392857  3.392857   2.937188  191993200\n",
              "2000-01-07  3.446429  3.607143  3.410714  3.553571   3.076317  115183600"
            ]
          },
          "metadata": {
            "tags": []
          },
          "execution_count": 93
        }
      ]
    },
    {
      "cell_type": "code",
      "metadata": {
        "id": "AHeQ1bdsGiTW",
        "colab_type": "code",
        "colab": {
          "base_uri": "https://localhost:8080/",
          "height": 238
        },
        "outputId": "00daa117-31a2-4b7e-d0ad-ded473911b36"
      },
      "source": [
        "#view the first five data for S&P500\n",
        "sp500_data.head() "
      ],
      "execution_count": null,
      "outputs": [
        {
          "output_type": "execute_result",
          "data": {
            "text/html": [
              "<div>\n",
              "<style scoped>\n",
              "    .dataframe tbody tr th:only-of-type {\n",
              "        vertical-align: middle;\n",
              "    }\n",
              "\n",
              "    .dataframe tbody tr th {\n",
              "        vertical-align: top;\n",
              "    }\n",
              "\n",
              "    .dataframe thead th {\n",
              "        text-align: right;\n",
              "    }\n",
              "</style>\n",
              "<table border=\"1\" class=\"dataframe\">\n",
              "  <thead>\n",
              "    <tr style=\"text-align: right;\">\n",
              "      <th></th>\n",
              "      <th>Open</th>\n",
              "      <th>High</th>\n",
              "      <th>Low</th>\n",
              "      <th>Close</th>\n",
              "      <th>Adj Close</th>\n",
              "      <th>Volume</th>\n",
              "    </tr>\n",
              "    <tr>\n",
              "      <th>Date</th>\n",
              "      <th></th>\n",
              "      <th></th>\n",
              "      <th></th>\n",
              "      <th></th>\n",
              "      <th></th>\n",
              "      <th></th>\n",
              "    </tr>\n",
              "  </thead>\n",
              "  <tbody>\n",
              "    <tr>\n",
              "      <th>2000-01-03</th>\n",
              "      <td>1469.250000</td>\n",
              "      <td>1478.000000</td>\n",
              "      <td>1438.359985</td>\n",
              "      <td>1455.219971</td>\n",
              "      <td>1455.219971</td>\n",
              "      <td>931800000</td>\n",
              "    </tr>\n",
              "    <tr>\n",
              "      <th>2000-01-04</th>\n",
              "      <td>1455.219971</td>\n",
              "      <td>1455.219971</td>\n",
              "      <td>1397.430054</td>\n",
              "      <td>1399.420044</td>\n",
              "      <td>1399.420044</td>\n",
              "      <td>1009000000</td>\n",
              "    </tr>\n",
              "    <tr>\n",
              "      <th>2000-01-05</th>\n",
              "      <td>1399.420044</td>\n",
              "      <td>1413.270020</td>\n",
              "      <td>1377.680054</td>\n",
              "      <td>1402.109985</td>\n",
              "      <td>1402.109985</td>\n",
              "      <td>1085500000</td>\n",
              "    </tr>\n",
              "    <tr>\n",
              "      <th>2000-01-06</th>\n",
              "      <td>1402.109985</td>\n",
              "      <td>1411.900024</td>\n",
              "      <td>1392.099976</td>\n",
              "      <td>1403.449951</td>\n",
              "      <td>1403.449951</td>\n",
              "      <td>1092300000</td>\n",
              "    </tr>\n",
              "    <tr>\n",
              "      <th>2000-01-07</th>\n",
              "      <td>1403.449951</td>\n",
              "      <td>1441.469971</td>\n",
              "      <td>1400.729980</td>\n",
              "      <td>1441.469971</td>\n",
              "      <td>1441.469971</td>\n",
              "      <td>1225200000</td>\n",
              "    </tr>\n",
              "  </tbody>\n",
              "</table>\n",
              "</div>"
            ],
            "text/plain": [
              "                   Open         High  ...    Adj Close      Volume\n",
              "Date                                  ...                         \n",
              "2000-01-03  1469.250000  1478.000000  ...  1455.219971   931800000\n",
              "2000-01-04  1455.219971  1455.219971  ...  1399.420044  1009000000\n",
              "2000-01-05  1399.420044  1413.270020  ...  1402.109985  1085500000\n",
              "2000-01-06  1402.109985  1411.900024  ...  1403.449951  1092300000\n",
              "2000-01-07  1403.449951  1441.469971  ...  1441.469971  1225200000\n",
              "\n",
              "[5 rows x 6 columns]"
            ]
          },
          "metadata": {
            "tags": []
          },
          "execution_count": 94
        }
      ]
    },
    {
      "cell_type": "code",
      "metadata": {
        "id": "z5MvlwX0gZyf",
        "colab_type": "code",
        "colab": {
          "base_uri": "https://localhost:8080/",
          "height": 238
        },
        "outputId": "c52faf28-18ff-42d7-9bc7-b7c4d1ce8daf"
      },
      "source": [
        "#view the first five data for Amazon\n",
        "amzn_data.head() "
      ],
      "execution_count": null,
      "outputs": [
        {
          "output_type": "execute_result",
          "data": {
            "text/html": [
              "<div>\n",
              "<style scoped>\n",
              "    .dataframe tbody tr th:only-of-type {\n",
              "        vertical-align: middle;\n",
              "    }\n",
              "\n",
              "    .dataframe tbody tr th {\n",
              "        vertical-align: top;\n",
              "    }\n",
              "\n",
              "    .dataframe thead th {\n",
              "        text-align: right;\n",
              "    }\n",
              "</style>\n",
              "<table border=\"1\" class=\"dataframe\">\n",
              "  <thead>\n",
              "    <tr style=\"text-align: right;\">\n",
              "      <th></th>\n",
              "      <th>Open</th>\n",
              "      <th>High</th>\n",
              "      <th>Low</th>\n",
              "      <th>Close</th>\n",
              "      <th>Adj Close</th>\n",
              "      <th>Volume</th>\n",
              "    </tr>\n",
              "    <tr>\n",
              "      <th>Date</th>\n",
              "      <th></th>\n",
              "      <th></th>\n",
              "      <th></th>\n",
              "      <th></th>\n",
              "      <th></th>\n",
              "      <th></th>\n",
              "    </tr>\n",
              "  </thead>\n",
              "  <tbody>\n",
              "    <tr>\n",
              "      <th>2000-01-03</th>\n",
              "      <td>81.5000</td>\n",
              "      <td>89.5625</td>\n",
              "      <td>79.046875</td>\n",
              "      <td>89.3750</td>\n",
              "      <td>89.3750</td>\n",
              "      <td>16117600</td>\n",
              "    </tr>\n",
              "    <tr>\n",
              "      <th>2000-01-04</th>\n",
              "      <td>85.3750</td>\n",
              "      <td>91.5000</td>\n",
              "      <td>81.750000</td>\n",
              "      <td>81.9375</td>\n",
              "      <td>81.9375</td>\n",
              "      <td>17487400</td>\n",
              "    </tr>\n",
              "    <tr>\n",
              "      <th>2000-01-05</th>\n",
              "      <td>70.5000</td>\n",
              "      <td>75.1250</td>\n",
              "      <td>68.000000</td>\n",
              "      <td>69.7500</td>\n",
              "      <td>69.7500</td>\n",
              "      <td>38457400</td>\n",
              "    </tr>\n",
              "    <tr>\n",
              "      <th>2000-01-06</th>\n",
              "      <td>71.3125</td>\n",
              "      <td>72.6875</td>\n",
              "      <td>64.000000</td>\n",
              "      <td>65.5625</td>\n",
              "      <td>65.5625</td>\n",
              "      <td>18752000</td>\n",
              "    </tr>\n",
              "    <tr>\n",
              "      <th>2000-01-07</th>\n",
              "      <td>67.0000</td>\n",
              "      <td>70.5000</td>\n",
              "      <td>66.187500</td>\n",
              "      <td>69.5625</td>\n",
              "      <td>69.5625</td>\n",
              "      <td>10505400</td>\n",
              "    </tr>\n",
              "  </tbody>\n",
              "</table>\n",
              "</div>"
            ],
            "text/plain": [
              "               Open     High        Low    Close  Adj Close    Volume\n",
              "Date                                                                 \n",
              "2000-01-03  81.5000  89.5625  79.046875  89.3750    89.3750  16117600\n",
              "2000-01-04  85.3750  91.5000  81.750000  81.9375    81.9375  17487400\n",
              "2000-01-05  70.5000  75.1250  68.000000  69.7500    69.7500  38457400\n",
              "2000-01-06  71.3125  72.6875  64.000000  65.5625    65.5625  18752000\n",
              "2000-01-07  67.0000  70.5000  66.187500  69.5625    69.5625  10505400"
            ]
          },
          "metadata": {
            "tags": []
          },
          "execution_count": 95
        }
      ]
    },
    {
      "cell_type": "code",
      "metadata": {
        "id": "ynW0eIovgZmf",
        "colab_type": "code",
        "colab": {
          "base_uri": "https://localhost:8080/",
          "height": 238
        },
        "outputId": "4302ca3d-6f2f-4473-8544-63c65176db8d"
      },
      "source": [
        "#view the first five data for Microsoft\n",
        "micr_data.head()  "
      ],
      "execution_count": null,
      "outputs": [
        {
          "output_type": "execute_result",
          "data": {
            "text/html": [
              "<div>\n",
              "<style scoped>\n",
              "    .dataframe tbody tr th:only-of-type {\n",
              "        vertical-align: middle;\n",
              "    }\n",
              "\n",
              "    .dataframe tbody tr th {\n",
              "        vertical-align: top;\n",
              "    }\n",
              "\n",
              "    .dataframe thead th {\n",
              "        text-align: right;\n",
              "    }\n",
              "</style>\n",
              "<table border=\"1\" class=\"dataframe\">\n",
              "  <thead>\n",
              "    <tr style=\"text-align: right;\">\n",
              "      <th></th>\n",
              "      <th>Open</th>\n",
              "      <th>High</th>\n",
              "      <th>Low</th>\n",
              "      <th>Close</th>\n",
              "      <th>Adj Close</th>\n",
              "      <th>Volume</th>\n",
              "    </tr>\n",
              "    <tr>\n",
              "      <th>Date</th>\n",
              "      <th></th>\n",
              "      <th></th>\n",
              "      <th></th>\n",
              "      <th></th>\n",
              "      <th></th>\n",
              "      <th></th>\n",
              "    </tr>\n",
              "  </thead>\n",
              "  <tbody>\n",
              "    <tr>\n",
              "      <th>2000-01-03</th>\n",
              "      <td>58.68750</td>\n",
              "      <td>59.3125</td>\n",
              "      <td>56.00000</td>\n",
              "      <td>58.28125</td>\n",
              "      <td>37.393559</td>\n",
              "      <td>53228400</td>\n",
              "    </tr>\n",
              "    <tr>\n",
              "      <th>2000-01-04</th>\n",
              "      <td>56.78125</td>\n",
              "      <td>58.5625</td>\n",
              "      <td>56.12500</td>\n",
              "      <td>56.31250</td>\n",
              "      <td>36.130390</td>\n",
              "      <td>54119000</td>\n",
              "    </tr>\n",
              "    <tr>\n",
              "      <th>2000-01-05</th>\n",
              "      <td>55.56250</td>\n",
              "      <td>58.1875</td>\n",
              "      <td>54.68750</td>\n",
              "      <td>56.90625</td>\n",
              "      <td>36.511333</td>\n",
              "      <td>64059600</td>\n",
              "    </tr>\n",
              "    <tr>\n",
              "      <th>2000-01-06</th>\n",
              "      <td>56.09375</td>\n",
              "      <td>56.9375</td>\n",
              "      <td>54.18750</td>\n",
              "      <td>55.00000</td>\n",
              "      <td>35.288280</td>\n",
              "      <td>54976600</td>\n",
              "    </tr>\n",
              "    <tr>\n",
              "      <th>2000-01-07</th>\n",
              "      <td>54.31250</td>\n",
              "      <td>56.1250</td>\n",
              "      <td>53.65625</td>\n",
              "      <td>55.71875</td>\n",
              "      <td>35.749432</td>\n",
              "      <td>62013600</td>\n",
              "    </tr>\n",
              "  </tbody>\n",
              "</table>\n",
              "</div>"
            ],
            "text/plain": [
              "                Open     High       Low     Close  Adj Close    Volume\n",
              "Date                                                                  \n",
              "2000-01-03  58.68750  59.3125  56.00000  58.28125  37.393559  53228400\n",
              "2000-01-04  56.78125  58.5625  56.12500  56.31250  36.130390  54119000\n",
              "2000-01-05  55.56250  58.1875  54.68750  56.90625  36.511333  64059600\n",
              "2000-01-06  56.09375  56.9375  54.18750  55.00000  35.288280  54976600\n",
              "2000-01-07  54.31250  56.1250  53.65625  55.71875  35.749432  62013600"
            ]
          },
          "metadata": {
            "tags": []
          },
          "execution_count": 96
        }
      ]
    },
    {
      "cell_type": "code",
      "metadata": {
        "id": "3XYU9LutUd_j",
        "colab_type": "code",
        "colab": {
          "base_uri": "https://localhost:8080/",
          "height": 238
        },
        "outputId": "061f2969-7a16-46fc-83bb-7e6b4f244c65"
      },
      "source": [
        "#view the first five data for JPM\n",
        "jpm_data.head()"
      ],
      "execution_count": null,
      "outputs": [
        {
          "output_type": "execute_result",
          "data": {
            "text/html": [
              "<div>\n",
              "<style scoped>\n",
              "    .dataframe tbody tr th:only-of-type {\n",
              "        vertical-align: middle;\n",
              "    }\n",
              "\n",
              "    .dataframe tbody tr th {\n",
              "        vertical-align: top;\n",
              "    }\n",
              "\n",
              "    .dataframe thead th {\n",
              "        text-align: right;\n",
              "    }\n",
              "</style>\n",
              "<table border=\"1\" class=\"dataframe\">\n",
              "  <thead>\n",
              "    <tr style=\"text-align: right;\">\n",
              "      <th></th>\n",
              "      <th>Open</th>\n",
              "      <th>High</th>\n",
              "      <th>Low</th>\n",
              "      <th>Close</th>\n",
              "      <th>Adj Close</th>\n",
              "      <th>Volume</th>\n",
              "    </tr>\n",
              "    <tr>\n",
              "      <th>Date</th>\n",
              "      <th></th>\n",
              "      <th></th>\n",
              "      <th></th>\n",
              "      <th></th>\n",
              "      <th></th>\n",
              "      <th></th>\n",
              "    </tr>\n",
              "  </thead>\n",
              "  <tbody>\n",
              "    <tr>\n",
              "      <th>2000-01-03</th>\n",
              "      <td>49.833332</td>\n",
              "      <td>50.250000</td>\n",
              "      <td>48.083332</td>\n",
              "      <td>48.583332</td>\n",
              "      <td>26.407299</td>\n",
              "      <td>12019200</td>\n",
              "    </tr>\n",
              "    <tr>\n",
              "      <th>2000-01-04</th>\n",
              "      <td>47.083332</td>\n",
              "      <td>47.458332</td>\n",
              "      <td>46.125000</td>\n",
              "      <td>47.250000</td>\n",
              "      <td>25.901106</td>\n",
              "      <td>11723400</td>\n",
              "    </tr>\n",
              "    <tr>\n",
              "      <th>2000-01-05</th>\n",
              "      <td>46.833332</td>\n",
              "      <td>48.375000</td>\n",
              "      <td>46.000000</td>\n",
              "      <td>46.958332</td>\n",
              "      <td>25.741232</td>\n",
              "      <td>8714500</td>\n",
              "    </tr>\n",
              "    <tr>\n",
              "      <th>2000-01-06</th>\n",
              "      <td>46.750000</td>\n",
              "      <td>48.625000</td>\n",
              "      <td>46.500000</td>\n",
              "      <td>47.625000</td>\n",
              "      <td>26.106668</td>\n",
              "      <td>8369200</td>\n",
              "    </tr>\n",
              "    <tr>\n",
              "      <th>2000-01-07</th>\n",
              "      <td>48.416668</td>\n",
              "      <td>49.000000</td>\n",
              "      <td>47.333332</td>\n",
              "      <td>48.500000</td>\n",
              "      <td>26.586336</td>\n",
              "      <td>6571900</td>\n",
              "    </tr>\n",
              "  </tbody>\n",
              "</table>\n",
              "</div>"
            ],
            "text/plain": [
              "                 Open       High        Low      Close  Adj Close    Volume\n",
              "Date                                                                       \n",
              "2000-01-03  49.833332  50.250000  48.083332  48.583332  26.407299  12019200\n",
              "2000-01-04  47.083332  47.458332  46.125000  47.250000  25.901106  11723400\n",
              "2000-01-05  46.833332  48.375000  46.000000  46.958332  25.741232   8714500\n",
              "2000-01-06  46.750000  48.625000  46.500000  47.625000  26.106668   8369200\n",
              "2000-01-07  48.416668  49.000000  47.333332  48.500000  26.586336   6571900"
            ]
          },
          "metadata": {
            "tags": []
          },
          "execution_count": 97
        }
      ]
    },
    {
      "cell_type": "markdown",
      "metadata": {
        "id": "VJ4ThdgPvJO2",
        "colab_type": "text"
      },
      "source": [
        "View the data shape"
      ]
    },
    {
      "cell_type": "code",
      "metadata": {
        "id": "WbD7t-UCS6DW",
        "colab_type": "code",
        "colab": {
          "base_uri": "https://localhost:8080/",
          "height": 34
        },
        "outputId": "0eb7c319-a8a5-4608-ef0f-81d86f6e5e21"
      },
      "source": [
        "#view the shape of the data for Apple\n",
        "apple_data.shape  "
      ],
      "execution_count": null,
      "outputs": [
        {
          "output_type": "execute_result",
          "data": {
            "text/plain": [
              "(5030, 6)"
            ]
          },
          "metadata": {
            "tags": []
          },
          "execution_count": 98
        }
      ]
    },
    {
      "cell_type": "code",
      "metadata": {
        "id": "SboxwcdAYSmK",
        "colab_type": "code",
        "colab": {
          "base_uri": "https://localhost:8080/",
          "height": 34
        },
        "outputId": "d9fc0772-ed70-4195-b2d2-e87b5a68abd4"
      },
      "source": [
        "#view the shape of the data for S&P500 index\n",
        "sp500_data.shape "
      ],
      "execution_count": null,
      "outputs": [
        {
          "output_type": "execute_result",
          "data": {
            "text/plain": [
              "(5030, 6)"
            ]
          },
          "metadata": {
            "tags": []
          },
          "execution_count": 99
        }
      ]
    },
    {
      "cell_type": "code",
      "metadata": {
        "id": "7Jeoni7qDG7Q",
        "colab_type": "code",
        "colab": {
          "base_uri": "https://localhost:8080/",
          "height": 34
        },
        "outputId": "b720447f-02ae-4397-be08-321a3cdd30f7"
      },
      "source": [
        "#view the shape of the data for Google\n",
        "goog_data.shape"
      ],
      "execution_count": null,
      "outputs": [
        {
          "output_type": "execute_result",
          "data": {
            "text/plain": [
              "(3868, 6)"
            ]
          },
          "metadata": {
            "tags": []
          },
          "execution_count": 100
        }
      ]
    },
    {
      "cell_type": "code",
      "metadata": {
        "id": "ltxJr66qhEDA",
        "colab_type": "code",
        "colab": {
          "base_uri": "https://localhost:8080/",
          "height": 34
        },
        "outputId": "43f865e2-9e1f-4e2a-fe13-ca42b5b82483"
      },
      "source": [
        "#view the shape for Amazon\n",
        "amzn_data.shape"
      ],
      "execution_count": null,
      "outputs": [
        {
          "output_type": "execute_result",
          "data": {
            "text/plain": [
              "(5030, 6)"
            ]
          },
          "metadata": {
            "tags": []
          },
          "execution_count": 101
        }
      ]
    },
    {
      "cell_type": "code",
      "metadata": {
        "id": "GcLWcHHahD7E",
        "colab_type": "code",
        "colab": {
          "base_uri": "https://localhost:8080/",
          "height": 34
        },
        "outputId": "286e970d-0b71-4a7e-8f9e-6fc664159523"
      },
      "source": [
        "#view the shape for Microsoft\n",
        "micr_data.shape"
      ],
      "execution_count": null,
      "outputs": [
        {
          "output_type": "execute_result",
          "data": {
            "text/plain": [
              "(5030, 6)"
            ]
          },
          "metadata": {
            "tags": []
          },
          "execution_count": 102
        }
      ]
    },
    {
      "cell_type": "code",
      "metadata": {
        "id": "whU0E9hvUrk7",
        "colab_type": "code",
        "colab": {
          "base_uri": "https://localhost:8080/",
          "height": 34
        },
        "outputId": "886c419d-4209-4a37-d772-b2a79d6b0a00"
      },
      "source": [
        "#view the shape for JPM\n",
        "jpm_data.shape"
      ],
      "execution_count": null,
      "outputs": [
        {
          "output_type": "execute_result",
          "data": {
            "text/plain": [
              "(5030, 6)"
            ]
          },
          "metadata": {
            "tags": []
          },
          "execution_count": 103
        }
      ]
    },
    {
      "cell_type": "markdown",
      "metadata": {
        "id": "TzxI7M7Cz17E",
        "colab_type": "text"
      },
      "source": [
        "Picking the Adjusted Close Price"
      ]
    },
    {
      "cell_type": "code",
      "metadata": {
        "id": "XYovN0vXdio6",
        "colab_type": "code",
        "colab": {}
      },
      "source": [
        "data1 = apple_data[['Adj Close']] \n",
        "data2 = sp500_data[['Adj Close']] \n",
        "data3 = goog_data[['Adj Close']] \n",
        "data4 = amzn_data[['Adj Close']] \n",
        "data5 = micr_data[['Adj Close']] \n",
        "data6 = jpm_data[['Adj Close']] \n"
      ],
      "execution_count": null,
      "outputs": []
    },
    {
      "cell_type": "code",
      "metadata": {
        "id": "0_VaTZY7dibn",
        "colab_type": "code",
        "colab": {
          "base_uri": "https://localhost:8080/",
          "height": 238
        },
        "outputId": "86e780aa-04b9-4bc9-ae24-a48b362f4a8e"
      },
      "source": [
        "#view first five values for apple\n",
        "data1.head()      "
      ],
      "execution_count": null,
      "outputs": [
        {
          "output_type": "execute_result",
          "data": {
            "text/html": [
              "<div>\n",
              "<style scoped>\n",
              "    .dataframe tbody tr th:only-of-type {\n",
              "        vertical-align: middle;\n",
              "    }\n",
              "\n",
              "    .dataframe tbody tr th {\n",
              "        vertical-align: top;\n",
              "    }\n",
              "\n",
              "    .dataframe thead th {\n",
              "        text-align: right;\n",
              "    }\n",
              "</style>\n",
              "<table border=\"1\" class=\"dataframe\">\n",
              "  <thead>\n",
              "    <tr style=\"text-align: right;\">\n",
              "      <th></th>\n",
              "      <th>Adj Close</th>\n",
              "    </tr>\n",
              "    <tr>\n",
              "      <th>Date</th>\n",
              "      <th></th>\n",
              "    </tr>\n",
              "  </thead>\n",
              "  <tbody>\n",
              "    <tr>\n",
              "      <th>2000-01-03</th>\n",
              "      <td>3.460857</td>\n",
              "    </tr>\n",
              "    <tr>\n",
              "      <th>2000-01-04</th>\n",
              "      <td>3.169071</td>\n",
              "    </tr>\n",
              "    <tr>\n",
              "      <th>2000-01-05</th>\n",
              "      <td>3.215448</td>\n",
              "    </tr>\n",
              "    <tr>\n",
              "      <th>2000-01-06</th>\n",
              "      <td>2.937188</td>\n",
              "    </tr>\n",
              "    <tr>\n",
              "      <th>2000-01-07</th>\n",
              "      <td>3.076317</td>\n",
              "    </tr>\n",
              "  </tbody>\n",
              "</table>\n",
              "</div>"
            ],
            "text/plain": [
              "            Adj Close\n",
              "Date                 \n",
              "2000-01-03   3.460857\n",
              "2000-01-04   3.169071\n",
              "2000-01-05   3.215448\n",
              "2000-01-06   2.937188\n",
              "2000-01-07   3.076317"
            ]
          },
          "metadata": {
            "tags": []
          },
          "execution_count": 105
        }
      ]
    },
    {
      "cell_type": "markdown",
      "metadata": {
        "id": "Te_T5dgq1M4A",
        "colab_type": "text"
      },
      "source": [
        "Constructing a dataframe"
      ]
    },
    {
      "cell_type": "code",
      "metadata": {
        "id": "M4S2QgzYgUgu",
        "colab_type": "code",
        "colab": {}
      },
      "source": [
        "apple=pd.DataFrame(data1['Adj Close'].values,columns=['AAPL']) \n",
        "sp500=pd.DataFrame(data2['Adj Close'].values,columns=['SP500'])  \n",
        "google=pd.DataFrame(data3['Adj Close'].values,columns=['GOOG'])  \n",
        "amazon=pd.DataFrame(data4['Adj Close'].values,columns=['AMZN'])  \n",
        "microsoft=pd.DataFrame(data5['Adj Close'].values,columns=['MIC'])  \n",
        "jpm=pd.DataFrame(data6['Adj Close'].values,columns=['JPM'])  "
      ],
      "execution_count": null,
      "outputs": []
    },
    {
      "cell_type": "code",
      "metadata": {
        "id": "0uvIxHQNgUWY",
        "colab_type": "code",
        "colab": {
          "base_uri": "https://localhost:8080/",
          "height": 206
        },
        "outputId": "ea81c475-c29d-4e85-d7f2-0ba2c930b67e"
      },
      "source": [
        "apple.head()  #view first five values for Apple"
      ],
      "execution_count": null,
      "outputs": [
        {
          "output_type": "execute_result",
          "data": {
            "text/html": [
              "<div>\n",
              "<style scoped>\n",
              "    .dataframe tbody tr th:only-of-type {\n",
              "        vertical-align: middle;\n",
              "    }\n",
              "\n",
              "    .dataframe tbody tr th {\n",
              "        vertical-align: top;\n",
              "    }\n",
              "\n",
              "    .dataframe thead th {\n",
              "        text-align: right;\n",
              "    }\n",
              "</style>\n",
              "<table border=\"1\" class=\"dataframe\">\n",
              "  <thead>\n",
              "    <tr style=\"text-align: right;\">\n",
              "      <th></th>\n",
              "      <th>AAPL</th>\n",
              "    </tr>\n",
              "  </thead>\n",
              "  <tbody>\n",
              "    <tr>\n",
              "      <th>0</th>\n",
              "      <td>3.460857</td>\n",
              "    </tr>\n",
              "    <tr>\n",
              "      <th>1</th>\n",
              "      <td>3.169071</td>\n",
              "    </tr>\n",
              "    <tr>\n",
              "      <th>2</th>\n",
              "      <td>3.215448</td>\n",
              "    </tr>\n",
              "    <tr>\n",
              "      <th>3</th>\n",
              "      <td>2.937188</td>\n",
              "    </tr>\n",
              "    <tr>\n",
              "      <th>4</th>\n",
              "      <td>3.076317</td>\n",
              "    </tr>\n",
              "  </tbody>\n",
              "</table>\n",
              "</div>"
            ],
            "text/plain": [
              "       AAPL\n",
              "0  3.460857\n",
              "1  3.169071\n",
              "2  3.215448\n",
              "3  2.937188\n",
              "4  3.076317"
            ]
          },
          "metadata": {
            "tags": []
          },
          "execution_count": 81
        }
      ]
    },
    {
      "cell_type": "code",
      "metadata": {
        "id": "yu_1B_LDgUTk",
        "colab_type": "code",
        "colab": {
          "base_uri": "https://localhost:8080/",
          "height": 206
        },
        "outputId": "7dd9185f-5d3b-43b8-d1d9-d72119747c1b"
      },
      "source": [
        "sp500.head()  #view first five values for S&P500"
      ],
      "execution_count": null,
      "outputs": [
        {
          "output_type": "execute_result",
          "data": {
            "text/html": [
              "<div>\n",
              "<style scoped>\n",
              "    .dataframe tbody tr th:only-of-type {\n",
              "        vertical-align: middle;\n",
              "    }\n",
              "\n",
              "    .dataframe tbody tr th {\n",
              "        vertical-align: top;\n",
              "    }\n",
              "\n",
              "    .dataframe thead th {\n",
              "        text-align: right;\n",
              "    }\n",
              "</style>\n",
              "<table border=\"1\" class=\"dataframe\">\n",
              "  <thead>\n",
              "    <tr style=\"text-align: right;\">\n",
              "      <th></th>\n",
              "      <th>SP500</th>\n",
              "    </tr>\n",
              "  </thead>\n",
              "  <tbody>\n",
              "    <tr>\n",
              "      <th>0</th>\n",
              "      <td>1455.219971</td>\n",
              "    </tr>\n",
              "    <tr>\n",
              "      <th>1</th>\n",
              "      <td>1399.420044</td>\n",
              "    </tr>\n",
              "    <tr>\n",
              "      <th>2</th>\n",
              "      <td>1402.109985</td>\n",
              "    </tr>\n",
              "    <tr>\n",
              "      <th>3</th>\n",
              "      <td>1403.449951</td>\n",
              "    </tr>\n",
              "    <tr>\n",
              "      <th>4</th>\n",
              "      <td>1441.469971</td>\n",
              "    </tr>\n",
              "  </tbody>\n",
              "</table>\n",
              "</div>"
            ],
            "text/plain": [
              "         SP500\n",
              "0  1455.219971\n",
              "1  1399.420044\n",
              "2  1402.109985\n",
              "3  1403.449951\n",
              "4  1441.469971"
            ]
          },
          "metadata": {
            "tags": []
          },
          "execution_count": 82
        }
      ]
    },
    {
      "cell_type": "code",
      "metadata": {
        "id": "_9GBihLzi4_R",
        "colab_type": "code",
        "colab": {
          "base_uri": "https://localhost:8080/",
          "height": 206
        },
        "outputId": "02f85d9d-b649-4324-efa4-ffdcae4bd0ce"
      },
      "source": [
        "google.head()"
      ],
      "execution_count": null,
      "outputs": [
        {
          "output_type": "execute_result",
          "data": {
            "text/html": [
              "<div>\n",
              "<style scoped>\n",
              "    .dataframe tbody tr th:only-of-type {\n",
              "        vertical-align: middle;\n",
              "    }\n",
              "\n",
              "    .dataframe tbody tr th {\n",
              "        vertical-align: top;\n",
              "    }\n",
              "\n",
              "    .dataframe thead th {\n",
              "        text-align: right;\n",
              "    }\n",
              "</style>\n",
              "<table border=\"1\" class=\"dataframe\">\n",
              "  <thead>\n",
              "    <tr style=\"text-align: right;\">\n",
              "      <th></th>\n",
              "      <th>GOOG</th>\n",
              "    </tr>\n",
              "  </thead>\n",
              "  <tbody>\n",
              "    <tr>\n",
              "      <th>0</th>\n",
              "      <td>50.220219</td>\n",
              "    </tr>\n",
              "    <tr>\n",
              "      <th>1</th>\n",
              "      <td>54.209209</td>\n",
              "    </tr>\n",
              "    <tr>\n",
              "      <th>2</th>\n",
              "      <td>54.754753</td>\n",
              "    </tr>\n",
              "    <tr>\n",
              "      <th>3</th>\n",
              "      <td>52.487488</td>\n",
              "    </tr>\n",
              "    <tr>\n",
              "      <th>4</th>\n",
              "      <td>53.053055</td>\n",
              "    </tr>\n",
              "  </tbody>\n",
              "</table>\n",
              "</div>"
            ],
            "text/plain": [
              "        GOOG\n",
              "0  50.220219\n",
              "1  54.209209\n",
              "2  54.754753\n",
              "3  52.487488\n",
              "4  53.053055"
            ]
          },
          "metadata": {
            "tags": []
          },
          "execution_count": 83
        }
      ]
    },
    {
      "cell_type": "code",
      "metadata": {
        "id": "wu30gBgri4s0",
        "colab_type": "code",
        "colab": {
          "base_uri": "https://localhost:8080/",
          "height": 206
        },
        "outputId": "87b44d91-2420-4e20-f8f1-bef4a1f9b0cd"
      },
      "source": [
        "amazon.head()"
      ],
      "execution_count": null,
      "outputs": [
        {
          "output_type": "execute_result",
          "data": {
            "text/html": [
              "<div>\n",
              "<style scoped>\n",
              "    .dataframe tbody tr th:only-of-type {\n",
              "        vertical-align: middle;\n",
              "    }\n",
              "\n",
              "    .dataframe tbody tr th {\n",
              "        vertical-align: top;\n",
              "    }\n",
              "\n",
              "    .dataframe thead th {\n",
              "        text-align: right;\n",
              "    }\n",
              "</style>\n",
              "<table border=\"1\" class=\"dataframe\">\n",
              "  <thead>\n",
              "    <tr style=\"text-align: right;\">\n",
              "      <th></th>\n",
              "      <th>AMZN</th>\n",
              "    </tr>\n",
              "  </thead>\n",
              "  <tbody>\n",
              "    <tr>\n",
              "      <th>0</th>\n",
              "      <td>89.3750</td>\n",
              "    </tr>\n",
              "    <tr>\n",
              "      <th>1</th>\n",
              "      <td>81.9375</td>\n",
              "    </tr>\n",
              "    <tr>\n",
              "      <th>2</th>\n",
              "      <td>69.7500</td>\n",
              "    </tr>\n",
              "    <tr>\n",
              "      <th>3</th>\n",
              "      <td>65.5625</td>\n",
              "    </tr>\n",
              "    <tr>\n",
              "      <th>4</th>\n",
              "      <td>69.5625</td>\n",
              "    </tr>\n",
              "  </tbody>\n",
              "</table>\n",
              "</div>"
            ],
            "text/plain": [
              "      AMZN\n",
              "0  89.3750\n",
              "1  81.9375\n",
              "2  69.7500\n",
              "3  65.5625\n",
              "4  69.5625"
            ]
          },
          "metadata": {
            "tags": []
          },
          "execution_count": 84
        }
      ]
    },
    {
      "cell_type": "code",
      "metadata": {
        "id": "x2wDUhh6i4i1",
        "colab_type": "code",
        "colab": {
          "base_uri": "https://localhost:8080/",
          "height": 206
        },
        "outputId": "37b905de-2bfa-48d9-b4ba-6bffb3904d2d"
      },
      "source": [
        "microsoft.head()"
      ],
      "execution_count": null,
      "outputs": [
        {
          "output_type": "execute_result",
          "data": {
            "text/html": [
              "<div>\n",
              "<style scoped>\n",
              "    .dataframe tbody tr th:only-of-type {\n",
              "        vertical-align: middle;\n",
              "    }\n",
              "\n",
              "    .dataframe tbody tr th {\n",
              "        vertical-align: top;\n",
              "    }\n",
              "\n",
              "    .dataframe thead th {\n",
              "        text-align: right;\n",
              "    }\n",
              "</style>\n",
              "<table border=\"1\" class=\"dataframe\">\n",
              "  <thead>\n",
              "    <tr style=\"text-align: right;\">\n",
              "      <th></th>\n",
              "      <th>MIC</th>\n",
              "    </tr>\n",
              "  </thead>\n",
              "  <tbody>\n",
              "    <tr>\n",
              "      <th>0</th>\n",
              "      <td>37.393559</td>\n",
              "    </tr>\n",
              "    <tr>\n",
              "      <th>1</th>\n",
              "      <td>36.130390</td>\n",
              "    </tr>\n",
              "    <tr>\n",
              "      <th>2</th>\n",
              "      <td>36.511333</td>\n",
              "    </tr>\n",
              "    <tr>\n",
              "      <th>3</th>\n",
              "      <td>35.288280</td>\n",
              "    </tr>\n",
              "    <tr>\n",
              "      <th>4</th>\n",
              "      <td>35.749432</td>\n",
              "    </tr>\n",
              "  </tbody>\n",
              "</table>\n",
              "</div>"
            ],
            "text/plain": [
              "         MIC\n",
              "0  37.393559\n",
              "1  36.130390\n",
              "2  36.511333\n",
              "3  35.288280\n",
              "4  35.749432"
            ]
          },
          "metadata": {
            "tags": []
          },
          "execution_count": 85
        }
      ]
    },
    {
      "cell_type": "code",
      "metadata": {
        "id": "XPsgf3DrVG_5",
        "colab_type": "code",
        "colab": {
          "base_uri": "https://localhost:8080/",
          "height": 206
        },
        "outputId": "6e213ff3-a563-417a-b1ac-0c4b1d3f9245"
      },
      "source": [
        "jpm.head()"
      ],
      "execution_count": null,
      "outputs": [
        {
          "output_type": "execute_result",
          "data": {
            "text/html": [
              "<div>\n",
              "<style scoped>\n",
              "    .dataframe tbody tr th:only-of-type {\n",
              "        vertical-align: middle;\n",
              "    }\n",
              "\n",
              "    .dataframe tbody tr th {\n",
              "        vertical-align: top;\n",
              "    }\n",
              "\n",
              "    .dataframe thead th {\n",
              "        text-align: right;\n",
              "    }\n",
              "</style>\n",
              "<table border=\"1\" class=\"dataframe\">\n",
              "  <thead>\n",
              "    <tr style=\"text-align: right;\">\n",
              "      <th></th>\n",
              "      <th>JPM</th>\n",
              "    </tr>\n",
              "  </thead>\n",
              "  <tbody>\n",
              "    <tr>\n",
              "      <th>0</th>\n",
              "      <td>26.407299</td>\n",
              "    </tr>\n",
              "    <tr>\n",
              "      <th>1</th>\n",
              "      <td>25.901106</td>\n",
              "    </tr>\n",
              "    <tr>\n",
              "      <th>2</th>\n",
              "      <td>25.741232</td>\n",
              "    </tr>\n",
              "    <tr>\n",
              "      <th>3</th>\n",
              "      <td>26.106668</td>\n",
              "    </tr>\n",
              "    <tr>\n",
              "      <th>4</th>\n",
              "      <td>26.586336</td>\n",
              "    </tr>\n",
              "  </tbody>\n",
              "</table>\n",
              "</div>"
            ],
            "text/plain": [
              "         JPM\n",
              "0  26.407299\n",
              "1  25.901106\n",
              "2  25.741232\n",
              "3  26.106668\n",
              "4  26.586336"
            ]
          },
          "metadata": {
            "tags": []
          },
          "execution_count": 86
        }
      ]
    },
    {
      "cell_type": "code",
      "metadata": {
        "id": "0oyI-3Zl1PWU",
        "colab_type": "code",
        "colab": {
          "base_uri": "https://localhost:8080/",
          "height": 206
        },
        "outputId": "8854f23d-e885-4fb2-ea62-c29862835104"
      },
      "source": [
        "apple['AAPL'] = apple['AAPL'].astype(float)  #change values to float and view\n",
        "sp500['SP500'] = sp500['SP500'].astype(float)\n",
        "google['GOOG'] = google['GOOG'].astype(float)\n",
        "amazon['AMZN'] = amazon['AMZN'].astype(float)\n",
        "microsoft['MIC'] = microsoft['MIC'].astype(float)\n",
        "jpm['JPM'] = jpm['JPM'].astype(float)\n",
        "apple.head()   "
      ],
      "execution_count": null,
      "outputs": [
        {
          "output_type": "execute_result",
          "data": {
            "text/html": [
              "<div>\n",
              "<style scoped>\n",
              "    .dataframe tbody tr th:only-of-type {\n",
              "        vertical-align: middle;\n",
              "    }\n",
              "\n",
              "    .dataframe tbody tr th {\n",
              "        vertical-align: top;\n",
              "    }\n",
              "\n",
              "    .dataframe thead th {\n",
              "        text-align: right;\n",
              "    }\n",
              "</style>\n",
              "<table border=\"1\" class=\"dataframe\">\n",
              "  <thead>\n",
              "    <tr style=\"text-align: right;\">\n",
              "      <th></th>\n",
              "      <th>AAPL</th>\n",
              "    </tr>\n",
              "  </thead>\n",
              "  <tbody>\n",
              "    <tr>\n",
              "      <th>0</th>\n",
              "      <td>3.460857</td>\n",
              "    </tr>\n",
              "    <tr>\n",
              "      <th>1</th>\n",
              "      <td>3.169071</td>\n",
              "    </tr>\n",
              "    <tr>\n",
              "      <th>2</th>\n",
              "      <td>3.215448</td>\n",
              "    </tr>\n",
              "    <tr>\n",
              "      <th>3</th>\n",
              "      <td>2.937188</td>\n",
              "    </tr>\n",
              "    <tr>\n",
              "      <th>4</th>\n",
              "      <td>3.076317</td>\n",
              "    </tr>\n",
              "  </tbody>\n",
              "</table>\n",
              "</div>"
            ],
            "text/plain": [
              "       AAPL\n",
              "0  3.460857\n",
              "1  3.169071\n",
              "2  3.215448\n",
              "3  2.937188\n",
              "4  3.076317"
            ]
          },
          "metadata": {
            "tags": []
          },
          "execution_count": 87
        }
      ]
    },
    {
      "cell_type": "code",
      "metadata": {
        "id": "h7mSatukXa2w",
        "colab_type": "code",
        "colab": {
          "base_uri": "https://localhost:8080/",
          "height": 206
        },
        "outputId": "2ae965c0-3c65-42f1-8593-0a415cf119a3"
      },
      "source": [
        "sp500.head() #change values to float and view"
      ],
      "execution_count": null,
      "outputs": [
        {
          "output_type": "execute_result",
          "data": {
            "text/html": [
              "<div>\n",
              "<style scoped>\n",
              "    .dataframe tbody tr th:only-of-type {\n",
              "        vertical-align: middle;\n",
              "    }\n",
              "\n",
              "    .dataframe tbody tr th {\n",
              "        vertical-align: top;\n",
              "    }\n",
              "\n",
              "    .dataframe thead th {\n",
              "        text-align: right;\n",
              "    }\n",
              "</style>\n",
              "<table border=\"1\" class=\"dataframe\">\n",
              "  <thead>\n",
              "    <tr style=\"text-align: right;\">\n",
              "      <th></th>\n",
              "      <th>SP500</th>\n",
              "    </tr>\n",
              "  </thead>\n",
              "  <tbody>\n",
              "    <tr>\n",
              "      <th>0</th>\n",
              "      <td>1455.219971</td>\n",
              "    </tr>\n",
              "    <tr>\n",
              "      <th>1</th>\n",
              "      <td>1399.420044</td>\n",
              "    </tr>\n",
              "    <tr>\n",
              "      <th>2</th>\n",
              "      <td>1402.109985</td>\n",
              "    </tr>\n",
              "    <tr>\n",
              "      <th>3</th>\n",
              "      <td>1403.449951</td>\n",
              "    </tr>\n",
              "    <tr>\n",
              "      <th>4</th>\n",
              "      <td>1441.469971</td>\n",
              "    </tr>\n",
              "  </tbody>\n",
              "</table>\n",
              "</div>"
            ],
            "text/plain": [
              "         SP500\n",
              "0  1455.219971\n",
              "1  1399.420044\n",
              "2  1402.109985\n",
              "3  1403.449951\n",
              "4  1441.469971"
            ]
          },
          "metadata": {
            "tags": []
          },
          "execution_count": 88
        }
      ]
    },
    {
      "cell_type": "markdown",
      "metadata": {
        "id": "yt80jX8r5eUO",
        "colab_type": "text"
      },
      "source": [
        "Checking for missing values"
      ]
    },
    {
      "cell_type": "code",
      "metadata": {
        "id": "WfjJRGK2pXq9",
        "colab_type": "code",
        "colab": {
          "base_uri": "https://localhost:8080/",
          "height": 286
        },
        "outputId": "a89b9e2b-1818-4366-e638-43d4fb1a758c"
      },
      "source": [
        "sns.heatmap(apple.isnull()) #check for missing values for apple"
      ],
      "execution_count": null,
      "outputs": [
        {
          "output_type": "execute_result",
          "data": {
            "text/plain": [
              "<matplotlib.axes._subplots.AxesSubplot at 0x7f23993f9518>"
            ]
          },
          "metadata": {
            "tags": []
          },
          "execution_count": 34
        },
        {
          "output_type": "display_data",
          "data": {
            "image/png": "[encoded data removed]",
            "text/plain": [
              "<Figure size 432x288 with 2 Axes>"
            ]
          },
          "metadata": {
            "tags": [],
            "needs_background": "light"
          }
        }
      ]
    },
    {
      "cell_type": "code",
      "metadata": {
        "id": "WVFVfjdhp1ZQ",
        "colab_type": "code",
        "colab": {
          "base_uri": "https://localhost:8080/",
          "height": 286
        },
        "outputId": "1d80f639-463e-4b5c-8dcf-347e985814d9"
      },
      "source": [
        "sns.heatmap(sp500.isnull()) #check for missing values for s&p500 index"
      ],
      "execution_count": null,
      "outputs": [
        {
          "output_type": "execute_result",
          "data": {
            "text/plain": [
              "<matplotlib.axes._subplots.AxesSubplot at 0x7f2399399240>"
            ]
          },
          "metadata": {
            "tags": []
          },
          "execution_count": 35
        },
        {
          "output_type": "display_data",
          "data": {
            "image/png": "[encoded data removed]",
            "text/plain": [
              "<Figure size 432x288 with 2 Axes>"
            ]
          },
          "metadata": {
            "tags": [],
            "needs_background": "light"
          }
        }
      ]
    },
    {
      "cell_type": "code",
      "metadata": {
        "id": "DKpgJkCajq9l",
        "colab_type": "code",
        "colab": {
          "base_uri": "https://localhost:8080/",
          "height": 286
        },
        "outputId": "66401799-284a-4810-d481-f1e29bede0d5"
      },
      "source": [
        "sns.heatmap(google.isnull()) #check for google "
      ],
      "execution_count": null,
      "outputs": [
        {
          "output_type": "execute_result",
          "data": {
            "text/plain": [
              "<matplotlib.axes._subplots.AxesSubplot at 0x7f2397327fd0>"
            ]
          },
          "metadata": {
            "tags": []
          },
          "execution_count": 36
        },
        {
          "output_type": "display_data",
          "data": {
            "image/png": "[encoded data removed]",
            "text/plain": [
              "<Figure size 432x288 with 2 Axes>"
            ]
          },
          "metadata": {
            "tags": [],
            "needs_background": "light"
          }
        }
      ]
    },
    {
      "cell_type": "code",
      "metadata": {
        "id": "VVFjAIIfjzCo",
        "colab_type": "code",
        "colab": {
          "base_uri": "https://localhost:8080/",
          "height": 286
        },
        "outputId": "b18c7653-bd0a-4120-936d-e9307a14c0c0"
      },
      "source": [
        "sns.heatmap(amazon.isnull()) #check for Amazon"
      ],
      "execution_count": null,
      "outputs": [
        {
          "output_type": "execute_result",
          "data": {
            "text/plain": [
              "<matplotlib.axes._subplots.AxesSubplot at 0x7f2396cd8b70>"
            ]
          },
          "metadata": {
            "tags": []
          },
          "execution_count": 37
        },
        {
          "output_type": "display_data",
          "data": {
            "image/png": "[encoded data removed]",
            "text/plain": [
              "<Figure size 432x288 with 2 Axes>"
            ]
          },
          "metadata": {
            "tags": [],
            "needs_background": "light"
          }
        }
      ]
    },
    {
      "cell_type": "code",
      "metadata": {
        "id": "PXMU9rCnj5p6",
        "colab_type": "code",
        "colab": {
          "base_uri": "https://localhost:8080/",
          "height": 286
        },
        "outputId": "3eaf88ea-73bf-41d4-9025-2766574d1c5c"
      },
      "source": [
        "sns.heatmap(microsoft.isnull()) #check for Microsoft\n"
      ],
      "execution_count": null,
      "outputs": [
        {
          "output_type": "execute_result",
          "data": {
            "text/plain": [
              "<matplotlib.axes._subplots.AxesSubplot at 0x7f2396c23390>"
            ]
          },
          "metadata": {
            "tags": []
          },
          "execution_count": 38
        },
        {
          "output_type": "display_data",
          "data": {
            "image/png": "[encoded data removed]",
            "text/plain": [
              "<Figure size 432x288 with 2 Axes>"
            ]
          },
          "metadata": {
            "tags": [],
            "needs_background": "light"
          }
        }
      ]
    },
    {
      "cell_type": "code",
      "metadata": {
        "id": "9IjiYIF2VVDV",
        "colab_type": "code",
        "colab": {
          "base_uri": "https://localhost:8080/",
          "height": 286
        },
        "outputId": "644c59b2-6e2a-45d7-9ab0-cb415640f694"
      },
      "source": [
        "sns.heatmap(jpm.isnull()) #CHECK FOR JPM"
      ],
      "execution_count": null,
      "outputs": [
        {
          "output_type": "execute_result",
          "data": {
            "text/plain": [
              "<matplotlib.axes._subplots.AxesSubplot at 0x7f2396b77da0>"
            ]
          },
          "metadata": {
            "tags": []
          },
          "execution_count": 39
        },
        {
          "output_type": "display_data",
          "data": {
            "image/png": "[encoded data removed]",
            "text/plain": [
              "<Figure size 432x288 with 2 Axes>"
            ]
          },
          "metadata": {
            "tags": [],
            "needs_background": "light"
          }
        }
      ]
    },
    {
      "cell_type": "markdown",
      "metadata": {
        "id": "CjxRJ_-k7EOY",
        "colab_type": "text"
      },
      "source": [
        "PLOT OF THE ADJUSTED CLOSING PRICES"
      ]
    },
    {
      "cell_type": "code",
      "metadata": {
        "id": "mYTu2f6NXTO5",
        "colab_type": "code",
        "colab": {
          "base_uri": "https://localhost:8080/",
          "height": 404
        },
        "outputId": "ea75d49d-384d-4b46-df90-4d81ba549ba1"
      },
      "source": [
        "##PLOT OF S&P 500 ADJUSTED CLOSING PRICES\n",
        "sp500['SP500'].plot(label='SP500',figsize=(7,6))\n",
        "plt.xlabel(\"time\")\n",
        "plt.ylabel(\"s&p500 adjusted closing prices\")\n",
        "plt.title('Plot of sp500 adjusted closing stock prices')\n",
        "plt.show()"
      ],
      "execution_count": null,
      "outputs": [
        {
          "output_type": "display_data",
          "data": {
            "image/png": "[encoded data removed]",
            "text/plain": [
              "<Figure size 504x432 with 1 Axes>"
            ]
          },
          "metadata": {
            "tags": [],
            "needs_background": "light"
          }
        }
      ]
    },
    {
      "cell_type": "code",
      "metadata": {
        "id": "13SBitV_2UZg",
        "colab_type": "code",
        "colab": {
          "base_uri": "https://localhost:8080/",
          "height": 404
        },
        "outputId": "5e764e7c-707e-48b8-a19b-1605e2b90d1d"
      },
      "source": [
        "##PLOT OF APPLE ADJUSTED CLOSING PRICES\n",
        "apple['AAPL'].plot(label='APPLE',figsize=(7,6))\n",
        "plt.xlabel(\"time\")\n",
        "plt.ylabel(\"apple adjusted closing prices\")\n",
        "plt.title('Plot of Apple adjusted closing stock prices')\n",
        "plt.show()"
      ],
      "execution_count": null,
      "outputs": [
        {
          "output_type": "display_data",
          "data": {
            "image/png": "[encoded data removed]",
            "text/plain": [
              "<Figure size 504x432 with 1 Axes>"
            ]
          },
          "metadata": {
            "tags": [],
            "needs_background": "light"
          }
        }
      ]
    },
    {
      "cell_type": "code",
      "metadata": {
        "id": "bnr7QM73kGFM",
        "colab_type": "code",
        "colab": {
          "base_uri": "https://localhost:8080/",
          "height": 404
        },
        "outputId": "934b3ae0-14f9-4f13-dd5c-e389c6ccceae"
      },
      "source": [
        "##PLOT OF GOOGLE ADJUSTED CLOSING PRICES\n",
        "google['GOOG'].plot(label='GOOGLE',figsize=(7,6))\n",
        "plt.xlabel(\"time\")\n",
        "plt.ylabel(\"apple adjusted closing prices\")\n",
        "plt.title('Plot of Google adjusted closing stock prices')\n",
        "plt.show()"
      ],
      "execution_count": null,
      "outputs": [
        {
          "output_type": "display_data",
          "data": {
            "image/png": "[encoded data removed]",
            "text/plain": [
              "<Figure size 504x432 with 1 Axes>"
            ]
          },
          "metadata": {
            "tags": [],
            "needs_background": "light"
          }
        }
      ]
    },
    {
      "cell_type": "code",
      "metadata": {
        "id": "KLlvhK-6kF98",
        "colab_type": "code",
        "colab": {
          "base_uri": "https://localhost:8080/",
          "height": 404
        },
        "outputId": "69c04541-b11e-40d5-edad-6f1c1307c975"
      },
      "source": [
        "##PLOT OF AMAZON ADJUSTED CLOSING PRICES\n",
        "amazon['AMZN'].plot(label='AMAZON',figsize=(7,6))\n",
        "plt.xlabel(\"time\")\n",
        "plt.ylabel(\"apple adjusted closing prices\")\n",
        "plt.title('Plot of Amazon adjusted closing stock prices')\n",
        "plt.show()"
      ],
      "execution_count": null,
      "outputs": [
        {
          "output_type": "display_data",
          "data": {
            "image/png": "[encoded data removed]",
            "text/plain": [
              "<Figure size 504x432 with 1 Axes>"
            ]
          },
          "metadata": {
            "tags": [],
            "needs_background": "light"
          }
        }
      ]
    },
    {
      "cell_type": "code",
      "metadata": {
        "id": "bj0i_SdgkF3r",
        "colab_type": "code",
        "colab": {
          "base_uri": "https://localhost:8080/",
          "height": 404
        },
        "outputId": "5fa2478d-5871-4024-894c-5c5f85dfa770"
      },
      "source": [
        "##PLOT OF MICROSOFT ADJUSTED CLOSING PRICES\n",
        "microsoft['MIC'].plot(label='MICROSOFT',figsize=(7,6))\n",
        "plt.xlabel(\"time\")\n",
        "plt.ylabel(\"apple adjusted closing prices\")\n",
        "plt.title('Plot of Microsoft adjusted closing stock prices')\n",
        "plt.show()"
      ],
      "execution_count": null,
      "outputs": [
        {
          "output_type": "display_data",
          "data": {
            "image/png": "[encoded data removed]",
            "text/plain": [
              "<Figure size 504x432 with 1 Axes>"
            ]
          },
          "metadata": {
            "tags": [],
            "needs_background": "light"
          }
        }
      ]
    },
    {
      "cell_type": "code",
      "metadata": {
        "id": "xMo6X3tlVg4L",
        "colab_type": "code",
        "colab": {
          "base_uri": "https://localhost:8080/",
          "height": 404
        },
        "outputId": "fb4e619b-0425-4fe2-d345-c6293d22fb1a"
      },
      "source": [
        "##PLOT OF JPM ADJUSTED CLOSING PRICES\n",
        "jpm['JPM'].plot(label='JPM',figsize=(7,6))\n",
        "plt.xlabel(\"time\")\n",
        "plt.ylabel(\"apple adjusted closing prices\")\n",
        "plt.title('Plot of Microsoft adjusted closing stock prices')\n",
        "plt.show()"
      ],
      "execution_count": null,
      "outputs": [
        {
          "output_type": "display_data",
          "data": {
            "image/png": "[encoded data removed]",
            "text/plain": [
              "<Figure size 504x432 with 1 Axes>"
            ]
          },
          "metadata": {
            "tags": [],
            "needs_background": "light"
          }
        }
      ]
    },
    {
      "cell_type": "markdown",
      "metadata": {
        "id": "vAUh_xDS7tKR",
        "colab_type": "text"
      },
      "source": [
        "CALCULATING AND PLOTTING RETURNS"
      ]
    },
    {
      "cell_type": "code",
      "metadata": {
        "id": "ilXj4UJyXEFE",
        "colab_type": "code",
        "colab": {
          "base_uri": "https://localhost:8080/",
          "height": 612
        },
        "outputId": "327ffe4b-0be4-432d-e0d0-79fc4ad02c4b"
      },
      "source": [
        "#CALCULATE THE RETURNS OF APPLE AND PLOT \n",
        "apple_returns = apple['AAPL'] / apple['AAPL'] .shift(1) - 1 ##calculating the value of the returns\n",
        "apple_returns.plot(figsize=(8, 6))        ##plotting of the returns\n",
        "plt.xlabel(\"time\")\n",
        "plt.ylabel(\"returns\")\n",
        "plt.title('Plot of Apple returns')\n",
        "print(apple_returns) #view the returns"
      ],
      "execution_count": null,
      "outputs": [
        {
          "output_type": "stream",
          "text": [
            "0            NaN\n",
            "1      -0.084310\n",
            "2       0.014634\n",
            "3      -0.086539\n",
            "4       0.047368\n",
            "          ...   \n",
            "5025    0.016318\n",
            "5026    0.000951\n",
            "5027    0.019840\n",
            "5028   -0.000380\n",
            "5029    0.005935\n",
            "Name: AAPL, Length: 5030, dtype: float64\n"
          ],
          "name": "stdout"
        },
        {
          "output_type": "display_data",
          "data": {
            "image/png": "[encoded data removed]",
            "text/plain": [
              "<Figure size 576x432 with 1 Axes>"
            ]
          },
          "metadata": {
            "tags": [],
            "needs_background": "light"
          }
        }
      ]
    },
    {
      "cell_type": "code",
      "metadata": {
        "id": "tYGnNiSjUcTV",
        "colab_type": "code",
        "colab": {
          "base_uri": "https://localhost:8080/",
          "height": 612
        },
        "outputId": "c27cd19e-4aeb-47f6-a9a5-3572e0b8950b"
      },
      "source": [
        "#CALCULATE THE RETURNS OF S&P500 INDEX AND PLOT \n",
        "sp500_returns = sp500['SP500'] / sp500['SP500'].shift(1) - 1 ##calculating the value of the returns\n",
        "sp500_returns.plot(figsize=(8, 6))        ##plotting of the returns\n",
        "plt.xlabel(\"time\")\n",
        "plt.ylabel(\"returns\")\n",
        "plt.title('Plot of sp500 returns')\n",
        "print(sp500_returns) #view the returns"
      ],
      "execution_count": null,
      "outputs": [
        {
          "output_type": "stream",
          "text": [
            "0            NaN\n",
            "1      -0.038345\n",
            "2       0.001922\n",
            "3       0.000956\n",
            "4       0.027090\n",
            "          ...   \n",
            "5025    0.000866\n",
            "5026   -0.000195\n",
            "5027    0.005128\n",
            "5028    0.000034\n",
            "5029   -0.005781\n",
            "Name: SP500, Length: 5030, dtype: float64\n"
          ],
          "name": "stdout"
        },
        {
          "output_type": "display_data",
          "data": {
            "image/png": "[encoded data removed]",
            "text/plain": [
              "<Figure size 576x432 with 1 Axes>"
            ]
          },
          "metadata": {
            "tags": [],
            "needs_background": "light"
          }
        }
      ]
    },
    {
      "cell_type": "code",
      "metadata": {
        "colab_type": "code",
        "id": "y0-0_LNklck2",
        "colab": {
          "base_uri": "https://localhost:8080/",
          "height": 612
        },
        "outputId": "745f603f-4547-4a04-bf50-35b895ff84c8"
      },
      "source": [
        "#CALCULATE THE RETURNS OF GOOGLE AND PLOT \n",
        "google_returns = google['GOOG'] / google['GOOG'] .shift(1) - 1 ##calculating the value of the returns\n",
        "google_returns.plot(figsize=(8, 6))        ##plotting of the returns\n",
        "plt.xlabel(\"time\")\n",
        "plt.ylabel(\"returns\")\n",
        "plt.title('Plot of Google returns')\n",
        "print(google_returns) #view the returns"
      ],
      "execution_count": null,
      "outputs": [
        {
          "output_type": "stream",
          "text": [
            "0            NaN\n",
            "1       0.079430\n",
            "2       0.010064\n",
            "3      -0.041408\n",
            "4       0.010775\n",
            "          ...   \n",
            "3863   -0.000437\n",
            "3864   -0.004590\n",
            "3865    0.013418\n",
            "3866   -0.005747\n",
            "3867   -0.011021\n",
            "Name: GOOG, Length: 3868, dtype: float64\n"
          ],
          "name": "stdout"
        },
        {
          "output_type": "display_data",
          "data": {
            "image/png": "[encoded data removed]",
            "text/plain": [
              "<Figure size 576x432 with 1 Axes>"
            ]
          },
          "metadata": {
            "tags": [],
            "needs_background": "light"
          }
        }
      ]
    },
    {
      "cell_type": "code",
      "metadata": {
        "colab_type": "code",
        "id": "dGz3OzWElcMK",
        "colab": {
          "base_uri": "https://localhost:8080/",
          "height": 612
        },
        "outputId": "5f82d0a1-5604-4d16-d904-f6183139eaba"
      },
      "source": [
        "#CALCULATE THE RETURNS OF AMAZON AND PLOT \n",
        "amazon_returns = amazon['AMZN'] / amazon['AMZN'] .shift(1) - 1 ##calculating the value of the returns\n",
        "amazon_returns.plot(figsize=(8, 6))        ##plotting of the returns\n",
        "plt.xlabel(\"time\")\n",
        "plt.ylabel(\"returns\")\n",
        "plt.title('Plot of Amazon returns')\n",
        "print(amazon_returns) #view the returns"
      ],
      "execution_count": null,
      "outputs": [
        {
          "output_type": "stream",
          "text": [
            "0            NaN\n",
            "1      -0.083217\n",
            "2      -0.148741\n",
            "3      -0.060036\n",
            "4       0.061010\n",
            "          ...   \n",
            "5025    0.003638\n",
            "5026   -0.002114\n",
            "5027    0.044467\n",
            "5028    0.000551\n",
            "5029   -0.012253\n",
            "Name: AMZN, Length: 5030, dtype: float64\n"
          ],
          "name": "stdout"
        },
        {
          "output_type": "display_data",
          "data": {
            "image/png": "[encoded data removed]",
            "text/plain": [
              "<Figure size 576x432 with 1 Axes>"
            ]
          },
          "metadata": {
            "tags": [],
            "needs_background": "light"
          }
        }
      ]
    },
    {
      "cell_type": "code",
      "metadata": {
        "colab_type": "code",
        "id": "iWKS9HIzlbmx",
        "colab": {
          "base_uri": "https://localhost:8080/",
          "height": 612
        },
        "outputId": "4ef5a3f6-7ad5-431a-d33a-6b8fdadd6704"
      },
      "source": [
        "#CALCULATE THE RETURNS OF MICROSOFT AND PLOT \n",
        "microsoft_returns = microsoft['MIC'] / microsoft['MIC'] .shift(1) - 1 ##calculating the value of the returns\n",
        "microsoft_returns.plot(figsize=(8, 6))        ##plotting of the returns\n",
        "plt.xlabel(\"time\")\n",
        "plt.ylabel(\"returns\")\n",
        "plt.title('Plot of Microsoft returns')\n",
        "print(microsoft_returns) #view the returns"
      ],
      "execution_count": null,
      "outputs": [
        {
          "output_type": "stream",
          "text": [
            "0            NaN\n",
            "1      -0.033780\n",
            "2       0.010544\n",
            "3      -0.033498\n",
            "4       0.013068\n",
            "          ...   \n",
            "5025    0.000000\n",
            "5026   -0.000191\n",
            "5027    0.008197\n",
            "5028    0.001828\n",
            "5029   -0.008619\n",
            "Name: MIC, Length: 5030, dtype: float64\n"
          ],
          "name": "stdout"
        },
        {
          "output_type": "display_data",
          "data": {
            "image/png": "[encoded data removed]",
            "text/plain": [
              "<Figure size 576x432 with 1 Axes>"
            ]
          },
          "metadata": {
            "tags": [],
            "needs_background": "light"
          }
        }
      ]
    },
    {
      "cell_type": "code",
      "metadata": {
        "colab_type": "code",
        "id": "Pp3p2EkKV-zY",
        "colab": {
          "base_uri": "https://localhost:8080/",
          "height": 612
        },
        "outputId": "9f171054-1688-48fa-f478-7b1bbb2c6504"
      },
      "source": [
        "#CALCULATE THE RETURNS OF JPM AND PLOT \n",
        "jpm_returns = jpm['JPM'] / jpm['JPM']  .shift(1) - 1 ##calculating the value of the returns\n",
        "microsoft_returns.plot(figsize=(8, 6))        ##plotting of the returns\n",
        "plt.xlabel(\"time\")\n",
        "plt.ylabel(\"returns\")\n",
        "plt.title('Plot of JPM returns')\n",
        "print(jpm_returns) #view the returns"
      ],
      "execution_count": null,
      "outputs": [
        {
          "output_type": "stream",
          "text": [
            "0            NaN\n",
            "1      -0.019169\n",
            "2      -0.006172\n",
            "3       0.014197\n",
            "4       0.018373\n",
            "          ...   \n",
            "5025   -0.000291\n",
            "5026    0.002770\n",
            "5027    0.010612\n",
            "5028    0.000719\n",
            "5029   -0.003665\n",
            "Name: JPM, Length: 5030, dtype: float64\n"
          ],
          "name": "stdout"
        },
        {
          "output_type": "display_data",
          "data": {
            "image/png": "[encoded data removed]",
            "text/plain": [
              "<Figure size 576x432 with 1 Axes>"
            ]
          },
          "metadata": {
            "tags": [],
            "needs_background": "light"
          }
        }
      ]
    },
    {
      "cell_type": "markdown",
      "metadata": {
        "id": "APN7eM4riHsu",
        "colab_type": "text"
      },
      "source": [
        "ASSIGN RETURNS TO VARIABLES\n"
      ]
    },
    {
      "cell_type": "code",
      "metadata": {
        "colab_type": "code",
        "id": "sb73qSlcDCIb",
        "colab": {}
      },
      "source": [
        "Y = apple_returns[1:] #assign the target, Apple to Y\n",
        "Z = amazon_returns[1:] #assign the target, Amazon to Z\n",
        "G = google_returns[1:] #assign the target, Google to G\n",
        "M = microsoft_returns[1:] #assign the target, Amazon o Z\n",
        "X = sp500_returns[1:] #assign the feature, s&p500 index to X\n",
        "J = jpm_returns[1:] #assign the feature, JPM to J\n",
        "XG = sp500_returns[1163:]  #assign the sp500 data to be used for Google so we have the same dates and observations"
      ],
      "execution_count": null,
      "outputs": []
    },
    {
      "cell_type": "markdown",
      "metadata": {
        "id": "QCo5_pVv9ipZ",
        "colab_type": "text"
      },
      "source": [
        "AUTOCORRELATION PLOT"
      ]
    },
    {
      "cell_type": "code",
      "metadata": {
        "id": "fdGe19V22JgT",
        "colab_type": "code",
        "colab": {
          "base_uri": "https://localhost:8080/",
          "height": 298
        },
        "outputId": "2c132918-5448-417c-ef9b-f1e5c487a7a3"
      },
      "source": [
        "plt.acorr(G, maxlags=20,lw=4)  #plotting the autocorelation for Google\n",
        "plt.title('Autocorrelations of returns of Google')"
      ],
      "execution_count": null,
      "outputs": [
        {
          "output_type": "execute_result",
          "data": {
            "text/plain": [
              "Text(0.5, 1.0, 'Autocorrelations of returns of Google')"
            ]
          },
          "metadata": {
            "tags": []
          },
          "execution_count": 108
        },
        {
          "output_type": "display_data",
          "data": {
            "image/png": "[encoded data removed]",
            "text/plain": [
              "<Figure size 432x288 with 1 Axes>"
            ]
          },
          "metadata": {
            "tags": [],
            "needs_background": "light"
          }
        }
      ]
    },
    {
      "cell_type": "code",
      "metadata": {
        "id": "uu_KhC9j2MmB",
        "colab_type": "code",
        "colab": {
          "base_uri": "https://localhost:8080/",
          "height": 298
        },
        "outputId": "864316c5-7c9c-485c-dc3a-e6f51ec64de4"
      },
      "source": [
        "plt.acorr(Z, maxlags=20,lw=4)  #plotting the autocorelation\n",
        "plt.title('Autocorrelations of returns of Amazon')"
      ],
      "execution_count": null,
      "outputs": [
        {
          "output_type": "execute_result",
          "data": {
            "text/plain": [
              "Text(0.5, 1.0, 'Autocorrelations of returns of Amazon')"
            ]
          },
          "metadata": {
            "tags": []
          },
          "execution_count": 524
        },
        {
          "output_type": "display_data",
          "data": {
            "image/png": "[encoded data removed]",
            "text/plain": [
              "<Figure size 432x288 with 1 Axes>"
            ]
          },
          "metadata": {
            "tags": [],
            "needs_background": "light"
          }
        }
      ]
    },
    {
      "cell_type": "code",
      "metadata": {
        "id": "SdRo_MUI2Slg",
        "colab_type": "code",
        "colab": {
          "base_uri": "https://localhost:8080/",
          "height": 298
        },
        "outputId": "b0df8008-cb68-465a-fa1d-001e913a126d"
      },
      "source": [
        "plt.acorr(M, maxlags=20,lw=4)  #plotting the autocorelation\n",
        "plt.title('Autocorrelations of returns of Microsoft')"
      ],
      "execution_count": null,
      "outputs": [
        {
          "output_type": "execute_result",
          "data": {
            "text/plain": [
              "Text(0.5, 1.0, 'Autocorrelations of returns of Microsoft')"
            ]
          },
          "metadata": {
            "tags": []
          },
          "execution_count": 109
        },
        {
          "output_type": "display_data",
          "data": {
            "image/png": "[encoded data removed]",
            "text/plain": [
              "<Figure size 432x288 with 1 Axes>"
            ]
          },
          "metadata": {
            "tags": [],
            "needs_background": "light"
          }
        }
      ]
    },
    {
      "cell_type": "code",
      "metadata": {
        "id": "RPutuZgk2WhO",
        "colab_type": "code",
        "colab": {
          "base_uri": "https://localhost:8080/",
          "height": 298
        },
        "outputId": "d3e572a3-40b2-4d39-b4ee-c2bc9d8d6ed6"
      },
      "source": [
        "plt.acorr(J, maxlags=20,lw=4)  #plotting the autocorelation\n",
        "plt.title('Autocorrelations of returns of JPM')"
      ],
      "execution_count": null,
      "outputs": [
        {
          "output_type": "execute_result",
          "data": {
            "text/plain": [
              "Text(0.5, 1.0, 'Autocorrelations of returns of JPM')"
            ]
          },
          "metadata": {
            "tags": []
          },
          "execution_count": 110
        },
        {
          "output_type": "display_data",
          "data": {
            "image/png": "[encoded data removed]",
            "text/plain": [
              "<Figure size 432x288 with 1 Axes>"
            ]
          },
          "metadata": {
            "tags": [],
            "needs_background": "light"
          }
        }
      ]
    },
    {
      "cell_type": "code",
      "metadata": {
        "id": "oDxcsxjR2YwR",
        "colab_type": "code",
        "colab": {
          "base_uri": "https://localhost:8080/",
          "height": 298
        },
        "outputId": "55ece35f-f0fa-4774-dd2b-4b913931a665"
      },
      "source": [
        "plt.acorr(Y, maxlags=20,lw=4)  #plotting the autocorelation\n",
        "plt.title('Autocorrelations of returns of Apple')"
      ],
      "execution_count": null,
      "outputs": [
        {
          "output_type": "execute_result",
          "data": {
            "text/plain": [
              "Text(0.5, 1.0, 'Autocorrelations of returns of Apple')"
            ]
          },
          "metadata": {
            "tags": []
          },
          "execution_count": 111
        },
        {
          "output_type": "display_data",
          "data": {
            "image/png": "[encoded data removed]",
            "text/plain": [
              "<Figure size 432x288 with 1 Axes>"
            ]
          },
          "metadata": {
            "tags": [],
            "needs_background": "light"
          }
        }
      ]
    },
    {
      "cell_type": "markdown",
      "metadata": {
        "id": "nkK601na2o7d",
        "colab_type": "text"
      },
      "source": [
        "**MODEL 1 USING SCIKIT LEARN - LINEAR REGRESSION**"
      ]
    },
    {
      "cell_type": "markdown",
      "metadata": {
        "id": "2_zJFcd2-TdO",
        "colab_type": "text"
      },
      "source": [
        "Reshape the values"
      ]
    },
    {
      "cell_type": "code",
      "metadata": {
        "id": "IZkietR63L0u",
        "colab_type": "code",
        "colab": {}
      },
      "source": [
        "X =X.values.reshape(-1,1)\n",
        "Y = Y.values.reshape(-1,1)\n",
        "G = G.values.reshape(-1,1)\n",
        "M = M.values.reshape(-1,1)\n",
        "J = J.values.reshape(-1,1)\n",
        "Z = Z.values.reshape(-1,1)\n",
        "XG =XG.values.reshape(-1,1)"
      ],
      "execution_count": null,
      "outputs": []
    },
    {
      "cell_type": "markdown",
      "metadata": {
        "id": "USycoYCY-XNd",
        "colab_type": "text"
      },
      "source": [
        "Splitting the data into 75% training and 25% testing"
      ]
    },
    {
      "cell_type": "code",
      "metadata": {
        "id": "n8AaMS944F5u",
        "colab_type": "code",
        "colab": {}
      },
      "source": [
        "X_train, X_test, Y_train, Y_test = train_test_split(X, Y, random_state=1)\n",
        "X_train, X_test, Z_train, Z_test = train_test_split(X, Z, random_state=1)\n",
        "X_train, X_test, J_train, J_test = train_test_split(X, J, random_state=1)\n",
        "X_train, X_test, M_train, M_test = train_test_split(X, M, random_state=1)\n",
        "XG_train, XG_test, G_train, G_test = train_test_split(XG, G, random_state=1)"
      ],
      "execution_count": null,
      "outputs": []
    },
    {
      "cell_type": "code",
      "metadata": {
        "id": "6Wpe9kHJu6gV",
        "colab_type": "code",
        "colab": {
          "base_uri": "https://localhost:8080/",
          "height": 139
        },
        "outputId": "d6527795-257a-4da1-d535-5b0ffcbcd392"
      },
      "source": [
        "X_train  #view the feature train data"
      ],
      "execution_count": null,
      "outputs": [
        {
          "output_type": "execute_result",
          "data": {
            "text/plain": [
              "array([[ 0.01520834],\n",
              "       [ 0.00034959],\n",
              "       [-0.02929275],\n",
              "       ...,\n",
              "       [-0.00638153],\n",
              "       [-0.00044977],\n",
              "       [-0.00585286]])"
            ]
          },
          "metadata": {
            "tags": []
          },
          "execution_count": 114
        }
      ]
    },
    {
      "cell_type": "code",
      "metadata": {
        "id": "NGpnUaOGu4Ub",
        "colab_type": "code",
        "colab": {
          "base_uri": "https://localhost:8080/",
          "height": 139
        },
        "outputId": "bb6ee2c3-c548-4801-f2d8-b1c179cdfa5b"
      },
      "source": [
        "Y_test #view the target test data"
      ],
      "execution_count": null,
      "outputs": [
        {
          "output_type": "execute_result",
          "data": {
            "text/plain": [
              "array([[-0.00600211],\n",
              "       [ 0.04202072],\n",
              "       [ 0.01933364],\n",
              "       ...,\n",
              "       [ 0.02578706],\n",
              "       [ 0.00323029],\n",
              "       [-0.01587355]])"
            ]
          },
          "metadata": {
            "tags": []
          },
          "execution_count": 115
        }
      ]
    },
    {
      "cell_type": "code",
      "metadata": {
        "id": "1fXk4NmQ4Frb",
        "colab_type": "code",
        "colab": {
          "base_uri": "https://localhost:8080/",
          "height": 260
        },
        "outputId": "71a18251-99ac-4a46-9af2-f14a8c6c506c"
      },
      "source": [
        "#viewing the shapes of the training and testing data\n",
        "\n",
        "print(X_train.shape)\n",
        "print(Y_train.shape)\n",
        "print(XG_train.shape)\n",
        "print(G_train.shape)\n",
        "print(Z_train.shape)\n",
        "print(M_train.shape)\n",
        "print(J_train.shape)\n",
        "print(J_test.shape)\n",
        "print(X_test.shape)\n",
        "print(XG_test.shape)\n",
        "print(G_test.shape)\n",
        "print(Y_test.shape)\n",
        "print(Z_test.shape)\n",
        "print(M_test.shape)"
      ],
      "execution_count": null,
      "outputs": [
        {
          "output_type": "stream",
          "text": [
            "(3771, 1)\n",
            "(3771, 1)\n",
            "(2900, 1)\n",
            "(2900, 1)\n",
            "(3771, 1)\n",
            "(3771, 1)\n",
            "(3771, 1)\n",
            "(1258, 1)\n",
            "(1258, 1)\n",
            "(967, 1)\n",
            "(967, 1)\n",
            "(1258, 1)\n",
            "(1258, 1)\n",
            "(1258, 1)\n"
          ],
          "name": "stdout"
        }
      ]
    },
    {
      "cell_type": "markdown",
      "metadata": {
        "id": "bbTU3kUXsr3S",
        "colab_type": "text"
      },
      "source": [
        "## Linear Regression for Apple"
      ]
    },
    {
      "cell_type": "code",
      "metadata": {
        "id": "qyIJJ5_E-50a",
        "colab_type": "code",
        "colab": {}
      },
      "source": [
        "# setting the model\n",
        "linreg = LinearRegression()"
      ],
      "execution_count": null,
      "outputs": []
    },
    {
      "cell_type": "code",
      "metadata": {
        "colab_type": "code",
        "id": "ZBCxLOYP7yMF",
        "colab": {
          "base_uri": "https://localhost:8080/",
          "height": 34
        },
        "outputId": "1fb8f486-a256-457b-a26d-2a3c240f0b58"
      },
      "source": [
        "# fit the model to the training data (learn the coefficients)\n",
        "linreg.fit(X_train, Y_train)"
      ],
      "execution_count": null,
      "outputs": [
        {
          "output_type": "execute_result",
          "data": {
            "text/plain": [
              "LinearRegression(copy_X=True, fit_intercept=True, n_jobs=None, normalize=False)"
            ]
          },
          "metadata": {
            "tags": []
          },
          "execution_count": 123
        }
      ]
    },
    {
      "cell_type": "code",
      "metadata": {
        "colab_type": "code",
        "id": "DtOdGDN07yMR",
        "colab": {
          "base_uri": "https://localhost:8080/",
          "height": 52
        },
        "outputId": "331cf6df-98e5-424c-a1b6-ec879185ca7f"
      },
      "source": [
        "# print the intercept and coefficients\n",
        "print('The value of the intercept is ',linreg.intercept_[0])\n",
        "print('The value of the coefficient is ', linreg.coef_[0])"
      ],
      "execution_count": null,
      "outputs": [
        {
          "output_type": "stream",
          "text": [
            "The value of the intercept is  0.0010057143035787674\n",
            "The value of the coefficient is  [1.16757073]\n"
          ],
          "name": "stdout"
        }
      ]
    },
    {
      "cell_type": "code",
      "metadata": {
        "colab_type": "code",
        "id": "4nhnIiak7yMi",
        "colab": {
          "base_uri": "https://localhost:8080/",
          "height": 295
        },
        "outputId": "5078d805-1685-4c38-f6e5-ee4019e3bbe1"
      },
      "source": [
        "#####This function plots the line of the fit obtained from the regression#####\n",
        "##############################################################################\n",
        "def regression_plot(x, y_pred, y):\n",
        "    ## Plot the result\n",
        "    sns.regplot(x, y, fit_reg=False)\n",
        "    plt.plot(x, y_pred, c = 'red')\n",
        "    plt.xlabel('S&P500 returns')\n",
        "    plt.ylabel('Apple returns')\n",
        "    plt.title('Fit of model to Apple test data')\n",
        "    \n",
        " ##make predictions on the test data\n",
        "Y_pred = linreg.predict(X_test)\n",
        "\n",
        "regression_plot(X_test, Y_pred, Y_test)"
      ],
      "execution_count": null,
      "outputs": [
        {
          "output_type": "display_data",
          "data": {
            "image/png": "[encoded data removed]",
            "text/plain": [
              "<Figure size 432x288 with 1 Axes>"
            ]
          },
          "metadata": {
            "tags": [],
            "needs_background": "light"
          }
        }
      ]
    },
    {
      "cell_type": "code",
      "metadata": {
        "colab_type": "code",
        "id": "NjvwDb7Z7yMm",
        "colab": {
          "base_uri": "https://localhost:8080/",
          "height": 121
        },
        "outputId": "605cbe43-21a3-481f-f616-ab5287656cc7"
      },
      "source": [
        "###This function returns the performance measures value for the regression using the inbuilt measures in sklearn##\n",
        "##########################################################################################################3##\n",
        "def metrics(y_actual, y_predicted, n_parameters):\n",
        "    r2 = sklm.r2_score(y_actual, y_predicted) #computes the R^2 \n",
        "    r2_adj = 1-((y_actual.shape[0] - 1)*(1 - r2)/(y_actual.shape[0]-n_parameters-1)) #computes the adjusted R^2 \n",
        "    ## Print the metrics for the regression\n",
        "    print('Mean Square Error      = ' + str(sklm.mean_squared_error(y_actual, y_predicted)))\n",
        "    print('Root Mean Square Error = ' + str(math.sqrt(sklm.mean_squared_error(y_actual, y_predicted))))\n",
        "    print('Mean Absolute Error    = ' + str(sklm.mean_absolute_error(y_actual, y_predicted)))\n",
        "    print('Median Absolute Error  = ' + str(sklm.median_absolute_error(y_actual, y_predicted)))\n",
        "    print('R^2                    = ' + str(r2))\n",
        "    print('Adjusted R^2           = ' + str(r2_adj))\n",
        "    \n",
        "metrics(Y_test, Y_pred, 1)"
      ],
      "execution_count": null,
      "outputs": [
        {
          "output_type": "stream",
          "text": [
            "Mean Square Error      = 0.0006270848268537914\n",
            "Root Mean Square Error = 0.025041661822926036\n",
            "Mean Absolute Error    = 0.014252782939048112\n",
            "Median Absolute Error  = 0.009017570214672838\n",
            "R^2                    = 0.2094457055661102\n",
            "Adjusted R^2           = 0.20881628335716607\n"
          ],
          "name": "stdout"
        }
      ]
    },
    {
      "cell_type": "markdown",
      "metadata": {
        "colab_type": "text",
        "id": "xtF0Cpq_s2jR"
      },
      "source": [
        "## Linear Regression for Amazon"
      ]
    },
    {
      "cell_type": "code",
      "metadata": {
        "colab_type": "code",
        "id": "4QpvCcfZs2jT",
        "colab": {
          "base_uri": "https://localhost:8080/",
          "height": 34
        },
        "outputId": "b648ba43-c7e4-40e5-97a3-d83d2ca98fc3"
      },
      "source": [
        "# fit the model to the training data (learn the coefficients)\n",
        "linreg.fit(X_train, Z_train)"
      ],
      "execution_count": null,
      "outputs": [
        {
          "output_type": "execute_result",
          "data": {
            "text/plain": [
              "LinearRegression(copy_X=True, fit_intercept=True, n_jobs=None, normalize=False)"
            ]
          },
          "metadata": {
            "tags": []
          },
          "execution_count": 125
        }
      ]
    },
    {
      "cell_type": "code",
      "metadata": {
        "colab_type": "code",
        "id": "MSHNvnZTs2jZ",
        "colab": {
          "base_uri": "https://localhost:8080/",
          "height": 52
        },
        "outputId": "be70a08b-e120-431f-89fd-87d48fe4ac52"
      },
      "source": [
        "# print the intercept and coefficients\n",
        "print('The value of the intercept is ',linreg.intercept_[0])\n",
        "print('The value of the coefficient is ', linreg.coef_[0])"
      ],
      "execution_count": null,
      "outputs": [
        {
          "output_type": "stream",
          "text": [
            "The value of the intercept is  0.0011603894990251395\n",
            "The value of the coefficient is  [1.29558822]\n"
          ],
          "name": "stdout"
        }
      ]
    },
    {
      "cell_type": "code",
      "metadata": {
        "colab_type": "code",
        "id": "Y1i9aJtVs2ji",
        "colab": {
          "base_uri": "https://localhost:8080/",
          "height": 295
        },
        "outputId": "ea3dcf01-f992-49b1-a878-01cc280c4cbb"
      },
      "source": [
        "def regression_plot(x, y_pred, y):\n",
        "    ## Plot the result\n",
        "    sns.regplot(x, y, fit_reg=False)\n",
        "    plt.plot(x, y_pred, c = 'red')\n",
        "    plt.xlabel('S&P500 returns')\n",
        "    plt.ylabel('Amazon returns')\n",
        "    plt.title('Fit of model to Amazon test data')\n",
        "\n",
        "Z_pred = linreg.predict(X_test) \n",
        "\n",
        "regression_plot(X_test, Z_pred, Y_test)"
      ],
      "execution_count": null,
      "outputs": [
        {
          "output_type": "display_data",
          "data": {
            "image/png": "[encoded data removed]",
            "text/plain": [
              "<Figure size 432x288 with 1 Axes>"
            ]
          },
          "metadata": {
            "tags": [],
            "needs_background": "light"
          }
        }
      ]
    },
    {
      "cell_type": "code",
      "metadata": {
        "colab_type": "code",
        "id": "rTpSFTTHs2jp",
        "colab": {
          "base_uri": "https://localhost:8080/",
          "height": 121
        },
        "outputId": "484c77f6-c646-4f04-b5a6-c6543c797754"
      },
      "source": [
        "##view the metrics\n",
        "metrics(Z_test, Z_pred, 1) "
      ],
      "execution_count": null,
      "outputs": [
        {
          "output_type": "stream",
          "text": [
            "Mean Square Error      = 0.0007454694573588086\n",
            "Root Mean Square Error = 0.027303286566983262\n",
            "Mean Absolute Error    = 0.016406518338403103\n",
            "Median Absolute Error  = 0.00963203705722246\n",
            "R^2                    = 0.2740669889603019\n",
            "Adjusted R^2           = 0.2734890168177544\n"
          ],
          "name": "stdout"
        }
      ]
    },
    {
      "cell_type": "markdown",
      "metadata": {
        "colab_type": "text",
        "id": "jTdmt_R3s2Bh"
      },
      "source": [
        "## Linear Regression for Microsoft"
      ]
    },
    {
      "cell_type": "code",
      "metadata": {
        "colab_type": "code",
        "id": "HTTw2OEJs2Bm",
        "colab": {
          "base_uri": "https://localhost:8080/",
          "height": 34
        },
        "outputId": "98c934ee-5a21-41e1-ad98-47814c560b89"
      },
      "source": [
        "# fit the model to the training data (learn the coefficients)\n",
        "linreg.fit(X_train, M_train)"
      ],
      "execution_count": null,
      "outputs": [
        {
          "output_type": "execute_result",
          "data": {
            "text/plain": [
              "LinearRegression(copy_X=True, fit_intercept=True, n_jobs=None, normalize=False)"
            ]
          },
          "metadata": {
            "tags": []
          },
          "execution_count": 129
        }
      ]
    },
    {
      "cell_type": "code",
      "metadata": {
        "colab_type": "code",
        "id": "ObmGHKPPs2Bx",
        "colab": {
          "base_uri": "https://localhost:8080/",
          "height": 52
        },
        "outputId": "5381920b-0422-4cc8-fe69-f8a0acd073cf"
      },
      "source": [
        "# print the intercept and coefficients\n",
        "print('The value of the intercept is ',linreg.intercept_[0])\n",
        "print('The value of the coefficient is ', linreg.coef_[0])"
      ],
      "execution_count": null,
      "outputs": [
        {
          "output_type": "stream",
          "text": [
            "The value of the intercept is  0.0002046338511828779\n",
            "The value of the coefficient is  [1.07939803]\n"
          ],
          "name": "stdout"
        }
      ]
    },
    {
      "cell_type": "code",
      "metadata": {
        "colab_type": "code",
        "id": "us1NGch3zrkC",
        "colab": {
          "base_uri": "https://localhost:8080/",
          "height": 295
        },
        "outputId": "0966cf82-25cd-4faf-916f-7dec66b20014"
      },
      "source": [
        "def regression_plot(x, y_pred, y):\n",
        "    ## Plot the result\n",
        "    sns.regplot(x, y, fit_reg=False)\n",
        "    plt.plot(x, y_pred, c = 'red')\n",
        "    plt.xlabel('S&P500 returns')\n",
        "    plt.ylabel('Microsoft returns')\n",
        "    plt.title('Fit of model to Microsoft test data')\n",
        "\n",
        "#make predictions on test data\n",
        "M_pred = linreg.predict(X_test) \n",
        "\n",
        "regression_plot(X_test, M_pred, Y_test)"
      ],
      "execution_count": null,
      "outputs": [
        {
          "output_type": "display_data",
          "data": {
            "image/png": "[encoded data removed]",
            "text/plain": [
              "<Figure size 432x288 with 1 Axes>"
            ]
          },
          "metadata": {
            "tags": [],
            "needs_background": "light"
          }
        }
      ]
    },
    {
      "cell_type": "code",
      "metadata": {
        "colab_type": "code",
        "id": "pquCitJVzrkn",
        "colab": {
          "base_uri": "https://localhost:8080/",
          "height": 121
        },
        "outputId": "2ad6fa3c-17dd-454f-a8d0-4bd825919547"
      },
      "source": [
        "metrics(M_test, M_pred, 1) "
      ],
      "execution_count": null,
      "outputs": [
        {
          "output_type": "stream",
          "text": [
            "Mean Square Error      = 0.00019910279080349804\n",
            "Root Mean Square Error = 0.014110378832742161\n",
            "Mean Absolute Error    = 0.008786505892626906\n",
            "Median Absolute Error  = 0.005655075382369966\n",
            "R^2                    = 0.47281301253414354\n",
            "Adjusted R^2           = 0.4723932776715115\n"
          ],
          "name": "stdout"
        }
      ]
    },
    {
      "cell_type": "markdown",
      "metadata": {
        "colab_type": "text",
        "id": "jshnZ4IWXJVO"
      },
      "source": [
        "## Linear Regression for JPM"
      ]
    },
    {
      "cell_type": "code",
      "metadata": {
        "colab_type": "code",
        "id": "xI_TuPtLXJVb",
        "colab": {
          "base_uri": "https://localhost:8080/",
          "height": 34
        },
        "outputId": "8764846f-b2da-4574-e47b-25ce73a863c6"
      },
      "source": [
        "# fit the model to the training data (learn the coefficients)\n",
        "linreg.fit(X_train, J_train)"
      ],
      "execution_count": null,
      "outputs": [
        {
          "output_type": "execute_result",
          "data": {
            "text/plain": [
              "LinearRegression(copy_X=True, fit_intercept=True, n_jobs=None, normalize=False)"
            ]
          },
          "metadata": {
            "tags": []
          },
          "execution_count": 134
        }
      ]
    },
    {
      "cell_type": "code",
      "metadata": {
        "colab_type": "code",
        "id": "18VM6FZZXJVw",
        "colab": {
          "base_uri": "https://localhost:8080/",
          "height": 52
        },
        "outputId": "fcf158d0-b8de-4df8-90dd-148775b8d605"
      },
      "source": [
        "# print the intercept and coefficients\n",
        "print('The value of the intercept is ',linreg.intercept_[0])\n",
        "print('The value of the coefficient is ', linreg.coef_[0])"
      ],
      "execution_count": null,
      "outputs": [
        {
          "output_type": "stream",
          "text": [
            "The value of the intercept is  0.0003473060127398728\n",
            "The value of the coefficient is  [1.54134111]\n"
          ],
          "name": "stdout"
        }
      ]
    },
    {
      "cell_type": "code",
      "metadata": {
        "colab_type": "code",
        "id": "iXS0YgUEXJWG",
        "colab": {
          "base_uri": "https://localhost:8080/",
          "height": 295
        },
        "outputId": "159666f5-1ea4-4b94-e84c-4ca822c7c6a7"
      },
      "source": [
        "def regression_plot(x, y_pred, y):\n",
        "    ## Plot the result\n",
        "    sns.regplot(x, y, fit_reg=False)\n",
        "    plt.plot(x, y_pred, c = 'red')\n",
        "    plt.xlabel('S&P500 returns')\n",
        "    plt.ylabel('JPM returns')\n",
        "    plt.title('Fit of model to JPM test data')\n",
        "\n",
        "#predict on test data\n",
        "J_pred = linreg.predict(X_test) \n",
        "\n",
        "regression_plot(X_test, J_pred, Y_test)"
      ],
      "execution_count": null,
      "outputs": [
        {
          "output_type": "display_data",
          "data": {
            "image/png": "[encoded data removed]",
            "text/plain": [
              "<Figure size 432x288 with 1 Axes>"
            ]
          },
          "metadata": {
            "tags": [],
            "needs_background": "light"
          }
        }
      ]
    },
    {
      "cell_type": "code",
      "metadata": {
        "colab_type": "code",
        "id": "U79659UoXJWL",
        "colab": {
          "base_uri": "https://localhost:8080/",
          "height": 121
        },
        "outputId": "cc864b75-b8aa-4aa5-e929-6e66ece7d55f"
      },
      "source": [
        "metrics(J_test, J_pred, 1) "
      ],
      "execution_count": null,
      "outputs": [
        {
          "output_type": "stream",
          "text": [
            "Mean Square Error      = 0.00022640313639076556\n",
            "Root Mean Square Error = 0.015046698521295811\n",
            "Mean Absolute Error    = 0.0099463115688925\n",
            "Median Absolute Error  = 0.006709605711380541\n",
            "R^2                    = 0.5782954194511432\n",
            "Adjusted R^2           = 0.577959667396566\n"
          ],
          "name": "stdout"
        }
      ]
    },
    {
      "cell_type": "markdown",
      "metadata": {
        "id": "EIutKFWT6SXf",
        "colab_type": "text"
      },
      "source": [
        "#Linear regression for Google"
      ]
    },
    {
      "cell_type": "code",
      "metadata": {
        "colab_type": "code",
        "id": "WpgQNeLS6eTw",
        "colab": {
          "base_uri": "https://localhost:8080/",
          "height": 34
        },
        "outputId": "bea206a3-c84c-48a3-ccc5-65c3b92332ab"
      },
      "source": [
        "# fit the model to the training data (learn the coefficients)\n",
        "linreg.fit(XG_train, G_train)"
      ],
      "execution_count": null,
      "outputs": [
        {
          "output_type": "execute_result",
          "data": {
            "text/plain": [
              "LinearRegression(copy_X=True, fit_intercept=True, n_jobs=None, normalize=False)"
            ]
          },
          "metadata": {
            "tags": []
          },
          "execution_count": 138
        }
      ]
    },
    {
      "cell_type": "code",
      "metadata": {
        "colab_type": "code",
        "id": "MKbskL2L6eT6",
        "colab": {
          "base_uri": "https://localhost:8080/",
          "height": 52
        },
        "outputId": "df701d9c-14f0-4850-cc1d-b59684cec9eb"
      },
      "source": [
        "# print the intercept and coefficients\n",
        "print('The value of the intercept is ',linreg.intercept_[0])\n",
        "print('The value of the coefficient is ', linreg.coef_[0])"
      ],
      "execution_count": null,
      "outputs": [
        {
          "output_type": "stream",
          "text": [
            "The value of the intercept is  0.00039056320395666896\n",
            "The value of the coefficient is  [0.95726942]\n"
          ],
          "name": "stdout"
        }
      ]
    },
    {
      "cell_type": "code",
      "metadata": {
        "colab_type": "code",
        "id": "7rxQ6rgy6eUH",
        "colab": {
          "base_uri": "https://localhost:8080/",
          "height": 295
        },
        "outputId": "893c71d8-5526-4dc1-b6ce-17247f6c07b2"
      },
      "source": [
        "def regression_plot(x, y_pred, y):\n",
        "    ## Plot the result\n",
        "    sns.regplot(x, y, fit_reg=False)\n",
        "    plt.plot(x, y_pred, c = 'red')\n",
        "    plt.xlabel('S&P500 returns')\n",
        "    plt.ylabel('Google returns')\n",
        "    plt.title('Fit of model to Google test data')\n",
        "\n",
        "#predict on test data\n",
        "G_pred = linreg.predict(XG_test)\n",
        " \n",
        "regression_plot(XG_test, G_pred, G_test)"
      ],
      "execution_count": null,
      "outputs": [
        {
          "output_type": "display_data",
          "data": {
            "image/png": "[encoded data removed]",
            "text/plain": [
              "<Figure size 432x288 with 1 Axes>"
            ]
          },
          "metadata": {
            "tags": [],
            "needs_background": "light"
          }
        }
      ]
    },
    {
      "cell_type": "code",
      "metadata": {
        "colab_type": "code",
        "id": "KXDle8Hb6eUM",
        "colab": {
          "base_uri": "https://localhost:8080/",
          "height": 121
        },
        "outputId": "1206ecf1-0e75-4329-ec26-03ceb25e1ebf"
      },
      "source": [
        "metrics(G_test, G_pred, 1) "
      ],
      "execution_count": null,
      "outputs": [
        {
          "output_type": "stream",
          "text": [
            "Mean Square Error      = 0.00029140608609270726\n",
            "Root Mean Square Error = 0.017070620553826018\n",
            "Mean Absolute Error    = 0.010119691405792096\n",
            "Median Absolute Error  = 0.006286641197486781\n",
            "R^2                    = 0.35680846234017116\n",
            "Adjusted R^2           = 0.35614194261202636\n"
          ],
          "name": "stdout"
        }
      ]
    },
    {
      "cell_type": "markdown",
      "metadata": {
        "id": "2JdWKVmH_61g",
        "colab_type": "text"
      },
      "source": [
        " LASSO REGRESSION IN SCIKIT LEARN"
      ]
    },
    {
      "cell_type": "markdown",
      "metadata": {
        "id": "RKvDhVKx0nbt",
        "colab_type": "text"
      },
      "source": [
        "LASSO FOR APPLE"
      ]
    },
    {
      "cell_type": "code",
      "metadata": {
        "id": "IdjyyTDIdcSV",
        "colab_type": "code",
        "colab": {}
      },
      "source": [
        "classo = linear_model.Lasso() #initialise the model"
      ],
      "execution_count": null,
      "outputs": []
    },
    {
      "cell_type": "code",
      "metadata": {
        "id": "41_ENn2QdcLL",
        "colab_type": "code",
        "colab": {
          "base_uri": "https://localhost:8080/",
          "height": 69
        },
        "outputId": "dfad029b-65dc-498f-c1e3-aff8e658f4aa"
      },
      "source": [
        "classo.fit(X_train, Y_train) #fit the model to the training data"
      ],
      "execution_count": null,
      "outputs": [
        {
          "output_type": "execute_result",
          "data": {
            "text/plain": [
              "Lasso(alpha=1.0, copy_X=True, fit_intercept=True, max_iter=1000,\n",
              "      normalize=False, positive=False, precompute=False, random_state=None,\n",
              "      selection='cyclic', tol=0.0001, warm_start=False)"
            ]
          },
          "metadata": {
            "tags": []
          },
          "execution_count": 143
        }
      ]
    },
    {
      "cell_type": "code",
      "metadata": {
        "id": "gAn9JfjNeFpY",
        "colab_type": "code",
        "colab": {
          "base_uri": "https://localhost:8080/",
          "height": 52
        },
        "outputId": "209f25d4-8535-4682-c56c-48df7f2f5753"
      },
      "source": [
        "print('The value of the intercept is ',classo.intercept_[0])\n",
        "print('The value of the coefficient is ', classo.coef_[0])"
      ],
      "execution_count": null,
      "outputs": [
        {
          "output_type": "stream",
          "text": [
            "The value of the intercept is  0.0013602033618806924\n",
            "The value of the coefficient is  0.0\n"
          ],
          "name": "stdout"
        }
      ]
    },
    {
      "cell_type": "code",
      "metadata": {
        "id": "ZgrapkFOeFY4",
        "colab_type": "code",
        "colab": {}
      },
      "source": [
        "Y_pred = classo.predict(X_test) #predicting on the testing data"
      ],
      "execution_count": null,
      "outputs": []
    },
    {
      "cell_type": "code",
      "metadata": {
        "colab_type": "code",
        "id": "wrJp2PMMBxUH",
        "colab": {
          "base_uri": "https://localhost:8080/",
          "height": 121
        },
        "outputId": "1fbe34a0-2638-4800-f407-70808a130748"
      },
      "source": [
        "###print of the metrics for the regression\n",
        "metrics(Y_test, Y_pred, 1) "
      ],
      "execution_count": null,
      "outputs": [
        {
          "output_type": "stream",
          "text": [
            "Mean Square Error      = 0.0007935408001221653\n",
            "Root Mean Square Error = 0.028169856231833438\n",
            "Mean Absolute Error    = 0.017111673267965553\n",
            "Median Absolute Error  = 0.011615361137047253\n",
            "R^2                    = -0.00040227490841560076\n",
            "Adjusted R^2           = -0.001198773534935027\n"
          ],
          "name": "stdout"
        }
      ]
    },
    {
      "cell_type": "markdown",
      "metadata": {
        "colab_type": "text",
        "id": "9SV2Tre81M_7"
      },
      "source": [
        "LASSO FOR AMAZON"
      ]
    },
    {
      "cell_type": "code",
      "metadata": {
        "colab_type": "code",
        "id": "S1eGHmz41NAC",
        "colab": {
          "base_uri": "https://localhost:8080/",
          "height": 69
        },
        "outputId": "2bf2f071-9f19-4c4e-c179-36559ff7079a"
      },
      "source": [
        "classo.fit(X_train, Z_train) #fit the model to the training data"
      ],
      "execution_count": null,
      "outputs": [
        {
          "output_type": "execute_result",
          "data": {
            "text/plain": [
              "Lasso(alpha=1.0, copy_X=True, fit_intercept=True, max_iter=1000,\n",
              "      normalize=False, positive=False, precompute=False, random_state=None,\n",
              "      selection='cyclic', tol=0.0001, warm_start=False)"
            ]
          },
          "metadata": {
            "tags": []
          },
          "execution_count": 147
        }
      ]
    },
    {
      "cell_type": "code",
      "metadata": {
        "colab_type": "code",
        "id": "PvheydKR1NAH",
        "colab": {
          "base_uri": "https://localhost:8080/",
          "height": 52
        },
        "outputId": "57b2e362-c9ed-4896-a0e4-3423a98877c7"
      },
      "source": [
        "print('The value of the intercept is ',classo.intercept_[0])\n",
        "print('The value of the coefficient is ', classo.coef_[0])"
      ],
      "execution_count": null,
      "outputs": [
        {
          "output_type": "stream",
          "text": [
            "The value of the intercept is  0.0015537462669037209\n",
            "The value of the coefficient is  0.0\n"
          ],
          "name": "stdout"
        }
      ]
    },
    {
      "cell_type": "code",
      "metadata": {
        "colab_type": "code",
        "id": "mbGuWDAr1NAL",
        "colab": {}
      },
      "source": [
        "Z_pred = classo.predict(X_test) #predicting on the testing data"
      ],
      "execution_count": null,
      "outputs": []
    },
    {
      "cell_type": "code",
      "metadata": {
        "colab_type": "code",
        "id": "Y9D-xbhB1NAU",
        "colab": {
          "base_uri": "https://localhost:8080/",
          "height": 121
        },
        "outputId": "82a32564-6ae4-4335-d84c-ea70ef0c4e49"
      },
      "source": [
        "###print of the metrics for the regression\n",
        "metrics(Z_test, Z_pred, 1) "
      ],
      "execution_count": null,
      "outputs": [
        {
          "output_type": "stream",
          "text": [
            "Mean Square Error      = 0.0010297474068844343\n",
            "Root Mean Square Error = 0.032089677575264514\n",
            "Mean Absolute Error    = 0.020761704923979975\n",
            "Median Absolute Error  = 0.013250881460730857\n",
            "R^2                    = -0.0027609157032697507\n",
            "Adjusted R^2           = -0.003559292228511257\n"
          ],
          "name": "stdout"
        }
      ]
    },
    {
      "cell_type": "markdown",
      "metadata": {
        "colab_type": "text",
        "id": "rjYSyYFb1MhZ"
      },
      "source": [
        "LASSO FOR MICROSOFT"
      ]
    },
    {
      "cell_type": "code",
      "metadata": {
        "colab_type": "code",
        "id": "QDvz88yN1Mhq",
        "colab": {
          "base_uri": "https://localhost:8080/",
          "height": 69
        },
        "outputId": "554ed57a-e2d0-4db9-e0fb-e0985f984409"
      },
      "source": [
        "classo.fit(X_train, M_train) #fit the model to the training data"
      ],
      "execution_count": null,
      "outputs": [
        {
          "output_type": "execute_result",
          "data": {
            "text/plain": [
              "Lasso(alpha=1.0, copy_X=True, fit_intercept=True, max_iter=1000,\n",
              "      normalize=False, positive=False, precompute=False, random_state=None,\n",
              "      selection='cyclic', tol=0.0001, warm_start=False)"
            ]
          },
          "metadata": {
            "tags": []
          },
          "execution_count": 151
        }
      ]
    },
    {
      "cell_type": "code",
      "metadata": {
        "colab_type": "code",
        "id": "L2XOxZDU1Mh1",
        "colab": {
          "base_uri": "https://localhost:8080/",
          "height": 52
        },
        "outputId": "abf63e81-f5e9-4ef9-e046-b86d526d8838"
      },
      "source": [
        "print('The value of the intercept is ',classo.intercept_[0])\n",
        "print('The value of the coefficient is ', classo.coef_[0])"
      ],
      "execution_count": null,
      "outputs": [
        {
          "output_type": "stream",
          "text": [
            "The value of the intercept is  0.000532352577747525\n",
            "The value of the coefficient is  0.0\n"
          ],
          "name": "stdout"
        }
      ]
    },
    {
      "cell_type": "code",
      "metadata": {
        "colab_type": "code",
        "id": "36Iq7nrZ1Mh5",
        "colab": {}
      },
      "source": [
        "M_pred = classo.predict(X_test) #predicting on the testing data"
      ],
      "execution_count": null,
      "outputs": []
    },
    {
      "cell_type": "code",
      "metadata": {
        "colab_type": "code",
        "id": "9QlIPnQ61MiF",
        "colab": {
          "base_uri": "https://localhost:8080/",
          "height": 121
        },
        "outputId": "9ff273df-5ad5-4388-8a45-f2b7dc6e2d2e"
      },
      "source": [
        "###print of the metrics for the regression\n",
        "metrics(M_test, M_pred, 1) "
      ],
      "execution_count": null,
      "outputs": [
        {
          "output_type": "stream",
          "text": [
            "Mean Square Error      = 0.00037774127520004354\n",
            "Root Mean Square Error = 0.01943556727240148\n",
            "Mean Absolute Error    = 0.012712252957482292\n",
            "Median Absolute Error  = 0.008252615995589963\n",
            "R^2                    = -0.00018831534491625668\n",
            "Adjusted R^2           = -0.0009846436214646648\n"
          ],
          "name": "stdout"
        }
      ]
    },
    {
      "cell_type": "markdown",
      "metadata": {
        "colab_type": "text",
        "id": "cBbt2ew7XxZg"
      },
      "source": [
        "LASSO FOR JPM"
      ]
    },
    {
      "cell_type": "code",
      "metadata": {
        "colab_type": "code",
        "id": "dfDy7nlaXxZu",
        "colab": {
          "base_uri": "https://localhost:8080/",
          "height": 69
        },
        "outputId": "805bc18d-2bb1-460c-8199-2a0b3d2ccdd4"
      },
      "source": [
        "classo.fit(X_train, J_train) #fit the model to the training data"
      ],
      "execution_count": null,
      "outputs": [
        {
          "output_type": "execute_result",
          "data": {
            "text/plain": [
              "Lasso(alpha=1.0, copy_X=True, fit_intercept=True, max_iter=1000,\n",
              "      normalize=False, positive=False, precompute=False, random_state=None,\n",
              "      selection='cyclic', tol=0.0001, warm_start=False)"
            ]
          },
          "metadata": {
            "tags": []
          },
          "execution_count": 155
        }
      ]
    },
    {
      "cell_type": "code",
      "metadata": {
        "colab_type": "code",
        "id": "-o0CEScDXxaM",
        "colab": {
          "base_uri": "https://localhost:8080/",
          "height": 52
        },
        "outputId": "95e24d33-04e5-4567-b82f-1d2c82a404cf"
      },
      "source": [
        "print('The value of the intercept is ',classo.intercept_[0])\n",
        "print('The value of the coefficient is ', classo.coef_[0])"
      ],
      "execution_count": null,
      "outputs": [
        {
          "output_type": "stream",
          "text": [
            "The value of the intercept is  0.0008152764270428599\n",
            "The value of the coefficient is  0.0\n"
          ],
          "name": "stdout"
        }
      ]
    },
    {
      "cell_type": "code",
      "metadata": {
        "colab_type": "code",
        "id": "HFLOhFzIXxaa",
        "colab": {}
      },
      "source": [
        "##PREDICT ON TEST DATA\n",
        "J_pred = classo.predict(X_test) "
      ],
      "execution_count": null,
      "outputs": []
    },
    {
      "cell_type": "code",
      "metadata": {
        "colab_type": "code",
        "id": "cLK58NL7Xxag",
        "colab": {
          "base_uri": "https://localhost:8080/",
          "height": 121
        },
        "outputId": "6a620c2d-cd1a-46bd-bab8-05278e793952"
      },
      "source": [
        "###print of the metrics for the regression\n",
        "metrics(J_test, J_pred, 1) "
      ],
      "execution_count": null,
      "outputs": [
        {
          "output_type": "stream",
          "text": [
            "Mean Square Error      = 0.0005374989772669595\n",
            "Root Mean Square Error = 0.023184024181900766\n",
            "Mean Absolute Error    = 0.014640643811298705\n",
            "Median Absolute Error  = 0.009141696411041345\n",
            "R^2                    = -0.001160073871873557\n",
            "Adjusted R^2           = -0.0019571758415166673\n"
          ],
          "name": "stdout"
        }
      ]
    },
    {
      "cell_type": "markdown",
      "metadata": {
        "colab_type": "text",
        "id": "SG4o5hQO-Jvv"
      },
      "source": [
        "LASSO FOR GOOGLE"
      ]
    },
    {
      "cell_type": "code",
      "metadata": {
        "colab_type": "code",
        "id": "4alDZy6i-Jvy",
        "colab": {
          "base_uri": "https://localhost:8080/",
          "height": 69
        },
        "outputId": "b17706d3-875f-4d77-c5f0-839450a6a8dc"
      },
      "source": [
        "classo.fit(XG_train, G_train) #fit the model to the training data"
      ],
      "execution_count": null,
      "outputs": [
        {
          "output_type": "execute_result",
          "data": {
            "text/plain": [
              "Lasso(alpha=1.0, copy_X=True, fit_intercept=True, max_iter=1000,\n",
              "      normalize=False, positive=False, precompute=False, random_state=None,\n",
              "      selection='cyclic', tol=0.0001, warm_start=False)"
            ]
          },
          "metadata": {
            "tags": []
          },
          "execution_count": 159
        }
      ]
    },
    {
      "cell_type": "code",
      "metadata": {
        "colab_type": "code",
        "id": "YSP0kp5a-Jv_",
        "colab": {
          "base_uri": "https://localhost:8080/",
          "height": 52
        },
        "outputId": "60149abf-1638-46f3-eba9-e06814c3b600"
      },
      "source": [
        "print('The value of the intercept is ',classo.intercept_[0])\n",
        "print('The value of the coefficient is ', classo.coef_[0])"
      ],
      "execution_count": null,
      "outputs": [
        {
          "output_type": "stream",
          "text": [
            "The value of the intercept is  0.0007132595927872781\n",
            "The value of the coefficient is  0.0\n"
          ],
          "name": "stdout"
        }
      ]
    },
    {
      "cell_type": "code",
      "metadata": {
        "colab_type": "code",
        "id": "IO0WI6HT-JwO",
        "colab": {}
      },
      "source": [
        "##PREDICT ON TEST DATA\n",
        "G_pred = classo.predict(XG_test) "
      ],
      "execution_count": null,
      "outputs": []
    },
    {
      "cell_type": "code",
      "metadata": {
        "colab_type": "code",
        "id": "gBfW9-ja-JwW",
        "colab": {
          "base_uri": "https://localhost:8080/",
          "height": 121
        },
        "outputId": "e66c3ac1-ef94-489e-98cf-ace75b0ca44e"
      },
      "source": [
        "###print of the metrics for the regression\n",
        "metrics(G_test, G_pred, 1) "
      ],
      "execution_count": null,
      "outputs": [
        {
          "output_type": "stream",
          "text": [
            "Mean Square Error      = 0.00045462358483996755\n",
            "Root Mean Square Error = 0.021321903874653585\n",
            "Mean Absolute Error    = 0.01366774693713158\n",
            "Median Absolute Error  = 0.009283692352000265\n",
            "R^2                    = -0.003445214581467848\n",
            "Adjusted R^2           = -0.004485054182070458\n"
          ],
          "name": "stdout"
        }
      ]
    },
    {
      "cell_type": "markdown",
      "metadata": {
        "id": "0INLW-yhfCkj",
        "colab_type": "text"
      },
      "source": [
        "RIDGE REGRESSION IN SCIKIT LEARN"
      ]
    },
    {
      "cell_type": "markdown",
      "metadata": {
        "id": "eAbyg14Q2FnA",
        "colab_type": "text"
      },
      "source": [
        "RIDGE REGRESSION FOR APPLE"
      ]
    },
    {
      "cell_type": "code",
      "metadata": {
        "colab_type": "code",
        "id": "TGqli29mfLYC",
        "colab": {}
      },
      "source": [
        "cridge = linear_model.Ridge() #initialise the model"
      ],
      "execution_count": null,
      "outputs": []
    },
    {
      "cell_type": "code",
      "metadata": {
        "colab_type": "code",
        "id": "ISs3VS5VfLYk",
        "colab": {
          "base_uri": "https://localhost:8080/",
          "height": 52
        },
        "outputId": "f7898aeb-d796-45a2-ad7c-26105306e74e"
      },
      "source": [
        "cridge.fit(X_train, Y_train) #fit the model on the training data"
      ],
      "execution_count": null,
      "outputs": [
        {
          "output_type": "execute_result",
          "data": {
            "text/plain": [
              "Ridge(alpha=1.0, copy_X=True, fit_intercept=True, max_iter=None,\n",
              "      normalize=False, random_state=None, solver='auto', tol=0.001)"
            ]
          },
          "metadata": {
            "tags": []
          },
          "execution_count": 168
        }
      ]
    },
    {
      "cell_type": "code",
      "metadata": {
        "colab_type": "code",
        "id": "ZLrjs4x_fLY0",
        "colab": {
          "base_uri": "https://localhost:8080/",
          "height": 52
        },
        "outputId": "9e2bf3d6-42a5-4880-fbac-b7c100acada2"
      },
      "source": [
        "print('The value of the intercept is ',cridge.intercept_[0])\n",
        "print('The value of the coefficient is ', cridge.coef_[0])"
      ],
      "execution_count": null,
      "outputs": [
        {
          "output_type": "stream",
          "text": [
            "The value of the intercept is  0.0012388256650839172\n",
            "The value of the coefficient is  [0.39977834]\n"
          ],
          "name": "stdout"
        }
      ]
    },
    {
      "cell_type": "code",
      "metadata": {
        "colab_type": "code",
        "id": "56EIYIXSfLZI",
        "colab": {}
      },
      "source": [
        "Y_pred = cridge.predict(X_test) #predict on test data"
      ],
      "execution_count": null,
      "outputs": []
    },
    {
      "cell_type": "code",
      "metadata": {
        "colab_type": "code",
        "id": "SefuMHktfLZQ",
        "colab": {
          "base_uri": "https://localhost:8080/",
          "height": 121
        },
        "outputId": "ce786c2c-3a82-4d85-f1ca-53e46ec0430c"
      },
      "source": [
        "###print of the metrics for the regression\n",
        "metrics(Y_test, Y_pred, 1) "
      ],
      "execution_count": null,
      "outputs": [
        {
          "output_type": "stream",
          "text": [
            "Mean Square Error      = 0.000690140476011973\n",
            "Root Mean Square Error = 0.02627052485223645\n",
            "Mean Absolute Error    = 0.015416705530642163\n",
            "Median Absolute Error  = 0.010210385239917569\n",
            "R^2                    = 0.12995260974298362\n",
            "Adjusted R^2           = 0.1292598968526516\n"
          ],
          "name": "stdout"
        }
      ]
    },
    {
      "cell_type": "markdown",
      "metadata": {
        "id": "4cl54mwf2aaO",
        "colab_type": "text"
      },
      "source": [
        "RIDGE REGRESSION TO AMAZON"
      ]
    },
    {
      "cell_type": "code",
      "metadata": {
        "colab_type": "code",
        "id": "vUuMa7w-2jzi",
        "colab": {
          "base_uri": "https://localhost:8080/",
          "height": 52
        },
        "outputId": "64006244-200c-4270-a4c2-8a7ae2ef119a"
      },
      "source": [
        "cridge.fit(X_train, Z_train) #fit the model on the training data"
      ],
      "execution_count": null,
      "outputs": [
        {
          "output_type": "execute_result",
          "data": {
            "text/plain": [
              "Ridge(alpha=1.0, copy_X=True, fit_intercept=True, max_iter=None,\n",
              "      normalize=False, random_state=None, solver='auto', tol=0.001)"
            ]
          },
          "metadata": {
            "tags": []
          },
          "execution_count": 172
        }
      ]
    },
    {
      "cell_type": "code",
      "metadata": {
        "colab_type": "code",
        "id": "RDeziB4o2jz5",
        "colab": {
          "base_uri": "https://localhost:8080/",
          "height": 52
        },
        "outputId": "6056b542-01da-4990-fac3-4a86421f9506"
      },
      "source": [
        "print('The value of the intercept is ',cridge.intercept_[0])\n",
        "print('The value of the coefficient is ', cridge.coef_[0])"
      ],
      "execution_count": null,
      "outputs": [
        {
          "output_type": "stream",
          "text": [
            "The value of the intercept is  0.0014190601958209263\n",
            "The value of the coefficient is  [0.44361176]\n"
          ],
          "name": "stdout"
        }
      ]
    },
    {
      "cell_type": "code",
      "metadata": {
        "colab_type": "code",
        "id": "pkRoCsig2j0Q",
        "colab": {}
      },
      "source": [
        "Z_pred = cridge.predict(X_test)   #make predictions on the test data"
      ],
      "execution_count": null,
      "outputs": []
    },
    {
      "cell_type": "code",
      "metadata": {
        "colab_type": "code",
        "id": "DPaEFh5o2j0W",
        "colab": {
          "base_uri": "https://localhost:8080/",
          "height": 121
        },
        "outputId": "3b510745-c495-44ad-81b5-51814fdbfcd0"
      },
      "source": [
        "metrics(Z_test, Z_pred, 1) "
      ],
      "execution_count": null,
      "outputs": [
        {
          "output_type": "stream",
          "text": [
            "Mean Square Error      = 0.0008752705454837958\n",
            "Root Mean Square Error = 0.02958497161539615\n",
            "Mean Absolute Error    = 0.018589461226508258\n",
            "Median Absolute Error  = 0.011683047721610329\n",
            "R^2                    = 0.14766758545872027\n",
            "Adjusted R^2           = 0.14698897684841672\n"
          ],
          "name": "stdout"
        }
      ]
    },
    {
      "cell_type": "markdown",
      "metadata": {
        "id": "pRiAi_p23BoO",
        "colab_type": "text"
      },
      "source": [
        "RIDGE REGRESSION FOR MICROSOFT"
      ]
    },
    {
      "cell_type": "code",
      "metadata": {
        "colab_type": "code",
        "id": "678BZLVK2jMP",
        "colab": {
          "base_uri": "https://localhost:8080/",
          "height": 52
        },
        "outputId": "bc44188b-4778-4354-ef9f-c1956d323c21"
      },
      "source": [
        "cridge.fit(X_train, M_train) #fit the model on the training data"
      ],
      "execution_count": null,
      "outputs": [
        {
          "output_type": "execute_result",
          "data": {
            "text/plain": [
              "Ridge(alpha=1.0, copy_X=True, fit_intercept=True, max_iter=None,\n",
              "      normalize=False, random_state=None, solver='auto', tol=0.001)"
            ]
          },
          "metadata": {
            "tags": []
          },
          "execution_count": 176
        }
      ]
    },
    {
      "cell_type": "code",
      "metadata": {
        "colab_type": "code",
        "id": "SfGCLbiq2jMg",
        "colab": {
          "base_uri": "https://localhost:8080/",
          "height": 52
        },
        "outputId": "6c357bef-a1e4-4256-e32a-58e6b55affdf"
      },
      "source": [
        "print('The value of the intercept is ',cridge.intercept_[0])\n",
        "print('The value of the coefficient is ', cridge.coef_[0])"
      ],
      "execution_count": null,
      "outputs": [
        {
          "output_type": "stream",
          "text": [
            "The value of the intercept is  0.0004201410911134028\n",
            "The value of the coefficient is  [0.36958785]\n"
          ],
          "name": "stdout"
        }
      ]
    },
    {
      "cell_type": "code",
      "metadata": {
        "colab_type": "code",
        "id": "UeJ5C42T2jM3",
        "colab": {}
      },
      "source": [
        "M_pred = cridge.predict(X_test)  #make predictions on the test data"
      ],
      "execution_count": null,
      "outputs": []
    },
    {
      "cell_type": "code",
      "metadata": {
        "colab_type": "code",
        "id": "vHQ8oK112jM8",
        "colab": {
          "base_uri": "https://localhost:8080/",
          "height": 121
        },
        "outputId": "2a6dee61-02b2-4a16-aa1c-3cb202e6b6c5"
      },
      "source": [
        "metrics(M_test, M_pred, 1) "
      ],
      "execution_count": null,
      "outputs": [
        {
          "output_type": "stream",
          "text": [
            "Mean Square Error      = 0.0002769138952565832\n",
            "Root Mean Square Error = 0.016640730009725633\n",
            "Mean Absolute Error    = 0.010747198938499571\n",
            "Median Absolute Error  = 0.007013841643661618\n",
            "R^2                    = 0.2667837470353077\n",
            "Adjusted R^2           = 0.26619997613326574\n"
          ],
          "name": "stdout"
        }
      ]
    },
    {
      "cell_type": "markdown",
      "metadata": {
        "colab_type": "text",
        "id": "Sb2bDYVJYKu3"
      },
      "source": [
        "RIDGE REGRESSION FOR JPM"
      ]
    },
    {
      "cell_type": "code",
      "metadata": {
        "colab_type": "code",
        "id": "zdUkKiRSYKu7",
        "colab": {
          "base_uri": "https://localhost:8080/",
          "height": 52
        },
        "outputId": "77168c9f-4397-49e4-f295-ea93a5ddb57f"
      },
      "source": [
        "cridge.fit(X_train, J_train) #fit the model on the training data"
      ],
      "execution_count": null,
      "outputs": [
        {
          "output_type": "execute_result",
          "data": {
            "text/plain": [
              "Ridge(alpha=1.0, copy_X=True, fit_intercept=True, max_iter=None,\n",
              "      normalize=False, random_state=None, solver='auto', tol=0.001)"
            ]
          },
          "metadata": {
            "tags": []
          },
          "execution_count": 180
        }
      ]
    },
    {
      "cell_type": "code",
      "metadata": {
        "colab_type": "code",
        "id": "DTEnIyU-YKvM",
        "colab": {
          "base_uri": "https://localhost:8080/",
          "height": 52
        },
        "outputId": "70ebf205-61cd-4e16-f4dc-b33686e3df07"
      },
      "source": [
        "print('The value of the intercept is ',cridge.intercept_[0])\n",
        "print('The value of the coefficient is ', cridge.coef_[0])"
      ],
      "execution_count": null,
      "outputs": [
        {
          "output_type": "stream",
          "text": [
            "The value of the intercept is  0.000655042508034983\n",
            "The value of the coefficient is  [0.52775799]\n"
          ],
          "name": "stdout"
        }
      ]
    },
    {
      "cell_type": "code",
      "metadata": {
        "colab_type": "code",
        "id": "v-uIzcGWYKva",
        "colab": {}
      },
      "source": [
        "J_pred = cridge.predict(X_test)  #make predictions on the test data"
      ],
      "execution_count": null,
      "outputs": []
    },
    {
      "cell_type": "code",
      "metadata": {
        "colab_type": "code",
        "id": "uO1FChPvYKvi",
        "colab": {
          "base_uri": "https://localhost:8080/",
          "height": 121
        },
        "outputId": "aa3d1d2a-2ada-4cbf-ed17-3e6d4f69ee3a"
      },
      "source": [
        "metrics(J_test, J_pred, 1) "
      ],
      "execution_count": null,
      "outputs": [
        {
          "output_type": "stream",
          "text": [
            "Mean Square Error      = 0.0003501067558657875\n",
            "Root Mean Square Error = 0.018711139886863855\n",
            "Mean Absolute Error    = 0.01167656885062507\n",
            "Median Absolute Error  = 0.007330635488036024\n",
            "R^2                    = 0.3478817255655081\n",
            "Adjusted R^2           = 0.34736252311771\n"
          ],
          "name": "stdout"
        }
      ]
    },
    {
      "cell_type": "markdown",
      "metadata": {
        "id": "oeOKO8-c_TOl",
        "colab_type": "text"
      },
      "source": [
        "RIDGE REGRESSION FOR GOOGLE"
      ]
    },
    {
      "cell_type": "code",
      "metadata": {
        "colab_type": "code",
        "id": "TB9cDrC0_Rbs",
        "colab": {
          "base_uri": "https://localhost:8080/",
          "height": 52
        },
        "outputId": "d5303de1-5e85-4ba9-ec22-6e9b0f02571e"
      },
      "source": [
        "cridge.fit(XG_train, G_train) #fit the model on the training data"
      ],
      "execution_count": null,
      "outputs": [
        {
          "output_type": "execute_result",
          "data": {
            "text/plain": [
              "Ridge(alpha=1.0, copy_X=True, fit_intercept=True, max_iter=None,\n",
              "      normalize=False, random_state=None, solver='auto', tol=0.001)"
            ]
          },
          "metadata": {
            "tags": []
          },
          "execution_count": 184
        }
      ]
    },
    {
      "cell_type": "code",
      "metadata": {
        "colab_type": "code",
        "id": "Zrs0btak_Rcb",
        "colab": {
          "base_uri": "https://localhost:8080/",
          "height": 52
        },
        "outputId": "50d151ab-0739-41f7-ea99-46df0dd3cdda"
      },
      "source": [
        "print('The value of the intercept is ',cridge.intercept_[0])\n",
        "print('The value of the coefficient is ', cridge.coef_[0])"
      ],
      "execution_count": null,
      "outputs": [
        {
          "output_type": "stream",
          "text": [
            "The value of the intercept is  0.0006296645321656824\n",
            "The value of the coefficient is  [0.24798231]\n"
          ],
          "name": "stdout"
        }
      ]
    },
    {
      "cell_type": "code",
      "metadata": {
        "colab_type": "code",
        "id": "SNiwHFFZ_Rcm",
        "colab": {}
      },
      "source": [
        "G_pred = cridge.predict(XG_test)  #make predictions on the test data"
      ],
      "execution_count": null,
      "outputs": []
    },
    {
      "cell_type": "code",
      "metadata": {
        "colab_type": "code",
        "id": "ajohDaoB_Rct",
        "colab": {
          "base_uri": "https://localhost:8080/",
          "height": 121
        },
        "outputId": "7ebd920d-4d73-485c-a35e-0ee904f4dd01"
      },
      "source": [
        "metrics(G_test, G_pred, 1) "
      ],
      "execution_count": null,
      "outputs": [
        {
          "output_type": "stream",
          "text": [
            "Mean Square Error      = 0.0003830989118016286\n",
            "Root Mean Square Error = 0.019572912706126\n",
            "Mean Absolute Error    = 0.012380526959508436\n",
            "Median Absolute Error  = 0.0084354021343451\n",
            "R^2                    = 0.1544240497464915\n",
            "Adjusted R^2           = 0.1535478052384568\n"
          ],
          "name": "stdout"
        }
      ]
    },
    {
      "cell_type": "markdown",
      "metadata": {
        "id": "eRsPMTIHNUf8",
        "colab_type": "text"
      },
      "source": [
        "ELASTIC NET REGRESSION"
      ]
    },
    {
      "cell_type": "markdown",
      "metadata": {
        "id": "0ZfrUI-O3WUC",
        "colab_type": "text"
      },
      "source": [
        "ELASTIC NET FOR APPLE"
      ]
    },
    {
      "cell_type": "code",
      "metadata": {
        "colab_type": "code",
        "id": "-JQEZIFEfRns",
        "colab": {}
      },
      "source": [
        "Enet = linear_model.ElasticNet() #initialise the model"
      ],
      "execution_count": null,
      "outputs": []
    },
    {
      "cell_type": "code",
      "metadata": {
        "colab_type": "code",
        "id": "gfcwk0LLfRn-",
        "colab": {
          "base_uri": "https://localhost:8080/",
          "height": 69
        },
        "outputId": "1e48d9be-1fc6-4b38-9af9-a59693c70f5c"
      },
      "source": [
        "Enet.fit(X_train, Y_train) #fit the model on the training data"
      ],
      "execution_count": null,
      "outputs": [
        {
          "output_type": "execute_result",
          "data": {
            "text/plain": [
              "ElasticNet(alpha=1.0, copy_X=True, fit_intercept=True, l1_ratio=0.5,\n",
              "           max_iter=1000, normalize=False, positive=False, precompute=False,\n",
              "           random_state=None, selection='cyclic', tol=0.0001, warm_start=False)"
            ]
          },
          "metadata": {
            "tags": []
          },
          "execution_count": 191
        }
      ]
    },
    {
      "cell_type": "code",
      "metadata": {
        "colab_type": "code",
        "id": "bFpJDyoDfRoT",
        "colab": {
          "base_uri": "https://localhost:8080/",
          "height": 52
        },
        "outputId": "4b5fa3a5-3479-4b20-ccf0-4dd947c04cf3"
      },
      "source": [
        "print('The value of the intercept is ',Enet.intercept_[0])\n",
        "print('The value of the coefficient is ', Enet.coef_[0])"
      ],
      "execution_count": null,
      "outputs": [
        {
          "output_type": "stream",
          "text": [
            "The value of the intercept is  0.0013602033618806924\n",
            "The value of the coefficient is  0.0\n"
          ],
          "name": "stdout"
        }
      ]
    },
    {
      "cell_type": "code",
      "metadata": {
        "colab_type": "code",
        "id": "gOcDJQwnfRom",
        "colab": {}
      },
      "source": [
        "Y_pred = Enet.predict(X_test) #make predictions on test data\n"
      ],
      "execution_count": null,
      "outputs": []
    },
    {
      "cell_type": "code",
      "metadata": {
        "colab_type": "code",
        "id": "RCrPDmiWfRo3",
        "colab": {
          "base_uri": "https://localhost:8080/",
          "height": 121
        },
        "outputId": "0755889d-5cc6-494b-e4aa-03721a6fb6a2"
      },
      "source": [
        "metrics(Y_test, Y_pred, 1) #check metrics"
      ],
      "execution_count": null,
      "outputs": [
        {
          "output_type": "stream",
          "text": [
            "Mean Square Error      = 0.0007935408001221653\n",
            "Root Mean Square Error = 0.028169856231833438\n",
            "Mean Absolute Error    = 0.017111673267965553\n",
            "Median Absolute Error  = 0.011615361137047253\n",
            "R^2                    = -0.00040227490841560076\n",
            "Adjusted R^2           = -0.001198773534935027\n"
          ],
          "name": "stdout"
        }
      ]
    },
    {
      "cell_type": "markdown",
      "metadata": {
        "colab_type": "text",
        "id": "YqcVJKgO4ngE"
      },
      "source": [
        "ELASTIC NET FOR AMAZON"
      ]
    },
    {
      "cell_type": "code",
      "metadata": {
        "colab_type": "code",
        "id": "QoOBNj0Z4ngY",
        "colab": {
          "base_uri": "https://localhost:8080/",
          "height": 69
        },
        "outputId": "69bd87ab-e467-4040-f958-57e05334688b"
      },
      "source": [
        "Enet.fit(X_train, Z_train) #fit the model on the training data"
      ],
      "execution_count": null,
      "outputs": [
        {
          "output_type": "execute_result",
          "data": {
            "text/plain": [
              "ElasticNet(alpha=1.0, copy_X=True, fit_intercept=True, l1_ratio=0.5,\n",
              "           max_iter=1000, normalize=False, positive=False, precompute=False,\n",
              "           random_state=None, selection='cyclic', tol=0.0001, warm_start=False)"
            ]
          },
          "metadata": {
            "tags": []
          },
          "execution_count": 195
        }
      ]
    },
    {
      "cell_type": "code",
      "metadata": {
        "colab_type": "code",
        "id": "PIDhuH9s4ngf",
        "colab": {
          "base_uri": "https://localhost:8080/",
          "height": 52
        },
        "outputId": "cfca299d-b34c-445d-d52d-ba4552f09468"
      },
      "source": [
        "print('The value of the intercept is ',Enet.intercept_[0])\n",
        "print('The value of the coefficient is ', Enet.coef_[0])"
      ],
      "execution_count": null,
      "outputs": [
        {
          "output_type": "stream",
          "text": [
            "The value of the intercept is  0.0015537462669037209\n",
            "The value of the coefficient is  0.0\n"
          ],
          "name": "stdout"
        }
      ]
    },
    {
      "cell_type": "code",
      "metadata": {
        "colab_type": "code",
        "id": "xM15eZ_m4ngr",
        "colab": {}
      },
      "source": [
        "Z_pred = Enet.predict(X_test) #make predictions on test data"
      ],
      "execution_count": null,
      "outputs": []
    },
    {
      "cell_type": "code",
      "metadata": {
        "colab_type": "code",
        "id": "aWPuarnu4ngw",
        "colab": {
          "base_uri": "https://localhost:8080/",
          "height": 121
        },
        "outputId": "2544de58-67a4-4e4e-83b5-11ea0df013ad"
      },
      "source": [
        "metrics(Z_test, Z_pred, 1) "
      ],
      "execution_count": null,
      "outputs": [
        {
          "output_type": "stream",
          "text": [
            "Mean Square Error      = 0.0010297474068844343\n",
            "Root Mean Square Error = 0.032089677575264514\n",
            "Mean Absolute Error    = 0.020761704923979975\n",
            "Median Absolute Error  = 0.013250881460730857\n",
            "R^2                    = -0.0027609157032697507\n",
            "Adjusted R^2           = -0.003559292228511257\n"
          ],
          "name": "stdout"
        }
      ]
    },
    {
      "cell_type": "markdown",
      "metadata": {
        "colab_type": "text",
        "id": "NwQXyBGt5JiB"
      },
      "source": [
        "ELASTIC NET FOR MICROSOFT"
      ]
    },
    {
      "cell_type": "code",
      "metadata": {
        "colab_type": "code",
        "id": "yEzQB5uY5JiH",
        "colab": {
          "base_uri": "https://localhost:8080/",
          "height": 69
        },
        "outputId": "12472a1a-fca7-4c2b-91fe-52f1e178f7e5"
      },
      "source": [
        "Enet.fit(X_train, M_train) #fit the model on the training data"
      ],
      "execution_count": null,
      "outputs": [
        {
          "output_type": "execute_result",
          "data": {
            "text/plain": [
              "ElasticNet(alpha=1.0, copy_X=True, fit_intercept=True, l1_ratio=0.5,\n",
              "           max_iter=1000, normalize=False, positive=False, precompute=False,\n",
              "           random_state=None, selection='cyclic', tol=0.0001, warm_start=False)"
            ]
          },
          "metadata": {
            "tags": []
          },
          "execution_count": 200
        }
      ]
    },
    {
      "cell_type": "code",
      "metadata": {
        "colab_type": "code",
        "id": "cbV3vCbd5JiW",
        "colab": {
          "base_uri": "https://localhost:8080/",
          "height": 52
        },
        "outputId": "f0dc5706-a221-430b-91ce-3af8869da881"
      },
      "source": [
        "print('The value of the intercept is ',Enet.intercept_[0])\n",
        "print('The value of the coefficient is ', Enet.coef_[0])"
      ],
      "execution_count": null,
      "outputs": [
        {
          "output_type": "stream",
          "text": [
            "The value of the intercept is  0.000532352577747525\n",
            "The value of the coefficient is  0.0\n"
          ],
          "name": "stdout"
        }
      ]
    },
    {
      "cell_type": "code",
      "metadata": {
        "colab_type": "code",
        "id": "dDFR_4c05Jil",
        "colab": {}
      },
      "source": [
        "M_pred = Enet.predict(X_test) #make predictions on test data"
      ],
      "execution_count": null,
      "outputs": []
    },
    {
      "cell_type": "code",
      "metadata": {
        "colab_type": "code",
        "id": "rUc1U2iW5Jir",
        "colab": {
          "base_uri": "https://localhost:8080/",
          "height": 121
        },
        "outputId": "060ca9ec-252b-43ae-9ba4-be052ed1a658"
      },
      "source": [
        "metrics(M_test, M_pred, 1) "
      ],
      "execution_count": null,
      "outputs": [
        {
          "output_type": "stream",
          "text": [
            "Mean Square Error      = 0.00037774127520004354\n",
            "Root Mean Square Error = 0.01943556727240148\n",
            "Mean Absolute Error    = 0.012712252957482292\n",
            "Median Absolute Error  = 0.008252615995589963\n",
            "R^2                    = -0.00018831534491625668\n",
            "Adjusted R^2           = -0.0009846436214646648\n"
          ],
          "name": "stdout"
        }
      ]
    },
    {
      "cell_type": "markdown",
      "metadata": {
        "colab_type": "text",
        "id": "YFaXKPvvYpwB"
      },
      "source": [
        "ELASTIC NET FOR JPM"
      ]
    },
    {
      "cell_type": "code",
      "metadata": {
        "colab_type": "code",
        "id": "lfOHppEBYpwJ",
        "colab": {
          "base_uri": "https://localhost:8080/",
          "height": 69
        },
        "outputId": "4f73527d-9bf0-492f-92cf-ba90021d661a"
      },
      "source": [
        "Enet.fit(X_train, J_train) #fit the model on the training data"
      ],
      "execution_count": null,
      "outputs": [
        {
          "output_type": "execute_result",
          "data": {
            "text/plain": [
              "ElasticNet(alpha=1.0, copy_X=True, fit_intercept=True, l1_ratio=0.5,\n",
              "           max_iter=1000, normalize=False, positive=False, precompute=False,\n",
              "           random_state=None, selection='cyclic', tol=0.0001, warm_start=False)"
            ]
          },
          "metadata": {
            "tags": []
          },
          "execution_count": 204
        }
      ]
    },
    {
      "cell_type": "code",
      "metadata": {
        "colab_type": "code",
        "id": "ZrW5qAM8Ypwf",
        "colab": {
          "base_uri": "https://localhost:8080/",
          "height": 52
        },
        "outputId": "39d5c53c-c7e5-46bc-e82b-c1308b15afd9"
      },
      "source": [
        "print('The value of the intercept is ',Enet.intercept_[0])\n",
        "print('The value of the coefficient is ', Enet.coef_[0])"
      ],
      "execution_count": null,
      "outputs": [
        {
          "output_type": "stream",
          "text": [
            "The value of the intercept is  0.0008152764270428599\n",
            "The value of the coefficient is  0.0\n"
          ],
          "name": "stdout"
        }
      ]
    },
    {
      "cell_type": "code",
      "metadata": {
        "colab_type": "code",
        "id": "dcvM33B5Ypwv",
        "colab": {}
      },
      "source": [
        "J_pred = Enet.predict(X_test) #make predictions on test data"
      ],
      "execution_count": null,
      "outputs": []
    },
    {
      "cell_type": "code",
      "metadata": {
        "colab_type": "code",
        "id": "Key625URYpw2",
        "colab": {
          "base_uri": "https://localhost:8080/",
          "height": 121
        },
        "outputId": "166e5b15-4639-4294-9d31-3de8810f9b52"
      },
      "source": [
        "metrics(J_test, J_pred, 1) "
      ],
      "execution_count": null,
      "outputs": [
        {
          "output_type": "stream",
          "text": [
            "Mean Square Error      = 0.0005374989772669595\n",
            "Root Mean Square Error = 0.023184024181900766\n",
            "Mean Absolute Error    = 0.014640643811298705\n",
            "Median Absolute Error  = 0.009141696411041345\n",
            "R^2                    = -0.001160073871873557\n",
            "Adjusted R^2           = -0.0019571758415166673\n"
          ],
          "name": "stdout"
        }
      ]
    },
    {
      "cell_type": "markdown",
      "metadata": {
        "id": "Z22UDwG6AKrt",
        "colab_type": "text"
      },
      "source": [
        "ELASTIC NET FOR GOOGLE"
      ]
    },
    {
      "cell_type": "code",
      "metadata": {
        "colab_type": "code",
        "id": "iW11SXNKJXqn",
        "colab": {
          "base_uri": "https://localhost:8080/",
          "height": 69
        },
        "outputId": "8886f617-77bc-41aa-de27-d531427e9231"
      },
      "source": [
        "Enet.fit(XG_train, G_train) #fit the model on the training data"
      ],
      "execution_count": null,
      "outputs": [
        {
          "output_type": "execute_result",
          "data": {
            "text/plain": [
              "ElasticNet(alpha=1.0, copy_X=True, fit_intercept=True, l1_ratio=0.5,\n",
              "           max_iter=1000, normalize=False, positive=False, precompute=False,\n",
              "           random_state=None, selection='cyclic', tol=0.0001, warm_start=False)"
            ]
          },
          "metadata": {
            "tags": []
          },
          "execution_count": 209
        }
      ]
    },
    {
      "cell_type": "code",
      "metadata": {
        "colab_type": "code",
        "id": "wA7fGXWSJXq7",
        "colab": {
          "base_uri": "https://localhost:8080/",
          "height": 52
        },
        "outputId": "1edba286-b479-44e5-e51a-1d7ed17f4d00"
      },
      "source": [
        "print('The value of the intercept is ',Enet.intercept_[0])\n",
        "print('The value of the coefficient is ', Enet.coef_[0])"
      ],
      "execution_count": null,
      "outputs": [
        {
          "output_type": "stream",
          "text": [
            "The value of the intercept is  0.0007132595927872781\n",
            "The value of the coefficient is  0.0\n"
          ],
          "name": "stdout"
        }
      ]
    },
    {
      "cell_type": "code",
      "metadata": {
        "colab_type": "code",
        "id": "bfuwYbQWJXrJ",
        "colab": {}
      },
      "source": [
        "G_pred = Enet.predict(XG_test)  #make predictions on test data"
      ],
      "execution_count": null,
      "outputs": []
    },
    {
      "cell_type": "code",
      "metadata": {
        "colab_type": "code",
        "id": "Hoe74DqlJXrO",
        "colab": {
          "base_uri": "https://localhost:8080/",
          "height": 121
        },
        "outputId": "5f8b6d1b-2bf2-4048-f58b-35a51e212028"
      },
      "source": [
        "metrics(G_test, G_pred, 1) "
      ],
      "execution_count": null,
      "outputs": [
        {
          "output_type": "stream",
          "text": [
            "Mean Square Error      = 0.00045462358483996755\n",
            "Root Mean Square Error = 0.021321903874653585\n",
            "Mean Absolute Error    = 0.01366774693713158\n",
            "Median Absolute Error  = 0.009283692352000265\n",
            "R^2                    = -0.003445214581467848\n",
            "Adjusted R^2           = -0.004485054182070458\n"
          ],
          "name": "stdout"
        }
      ]
    }
  ]
}