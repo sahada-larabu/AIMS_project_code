{
  "nbformat": 4,
  "nbformat_minor": 0,
  "metadata": {
    "colab": {
      "name": "PROJECT CODE FOR THE MULTILAYER PERCEPTRON.ipynb",
      "provenance": [],
      "collapsed_sections": [],
      "include_colab_link": true
    },
    "kernelspec": {
      "name": "python3",
      "display_name": "Python 3"
    },
    "accelerator": "GPU"
  },
  "cells": [
    {
      "cell_type": "markdown",
      "metadata": {
        "id": "view-in-github",
        "colab_type": "text"
      },
      "source": [
        "<a href=\"https://colab.research.google.com/github/sahada19/AIMS_project_code/blob/master/PROJECT_CODE_FOR_THE_MULTILAYER_PERCEPTRON.ipynb\" target=\"_parent\"><img src=\"https://colab.research.google.com/assets/colab-badge.svg\" alt=\"Open In Colab\"/></a>"
      ]
    },
    {
      "cell_type": "markdown",
      "metadata": {
        "id": "OTeS0Po2NXKl",
        "colab_type": "text"
      },
      "source": [
        "MULTI-LAYER PERCEPTRON FOR PREDICTING RETURNS"
      ]
    },
    {
      "cell_type": "markdown",
      "metadata": {
        "id": "_zun8Z-KvQkJ",
        "colab_type": "text"
      },
      "source": [
        "Import of libraries"
      ]
    },
    {
      "cell_type": "code",
      "metadata": {
        "id": "xbXtbsCvNPRD",
        "colab_type": "code",
        "colab": {
          "base_uri": "https://localhost:8080/",
          "height": 52
        },
        "outputId": "208a5bca-383f-46b8-a905-468e0b142cdb"
      },
      "source": [
        "##import of libraries to be used\n",
        "import warnings\n",
        "warnings.filterwarnings('ignore')\n",
        "import scipy.stats as scs\n",
        "%matplotlib inline\n",
        "import numpy as np\n",
        "import random\n",
        "np.random.seed(1337) # for reproducibility\n",
        "import pandas as pd\n",
        "import pandas\n",
        "import math\n",
        "import matplotlib.pyplot as plt\n",
        "\n",
        "#for data preprocessing\n",
        "import seaborn as sns \n",
        "from sklearn.model_selection import train_test_split\n",
        "\n",
        "# Keras imports\n",
        "from tensorflow.python.keras.layers import Dense, Activation\n",
        "from tensorflow.python.keras import Sequential\n",
        "from  tensorflow.python.keras import metrics\n",
        "from sklearn.metrics import mean_squared_error\n",
        "%tensorflow_version 1.x\n",
        "import tensorflow as tf\n",
        "print(tf.__version__)\n"
      ],
      "execution_count": null,
      "outputs": [
        {
          "output_type": "stream",
          "text": [
            "TensorFlow is already loaded. Please restart the runtime to change versions.\n",
            "2.2.0\n"
          ],
          "name": "stdout"
        }
      ]
    },
    {
      "cell_type": "markdown",
      "metadata": {
        "id": "jo6ADwdMvlcp",
        "colab_type": "text"
      },
      "source": [
        "Install yfinance"
      ]
    },
    {
      "cell_type": "code",
      "metadata": {
        "id": "SgZ7gDNW6FaQ",
        "colab_type": "code",
        "colab": {
          "base_uri": "https://localhost:8080/",
          "height": 245
        },
        "outputId": "0310d707-c0b1-4102-840b-77339ae6fbda"
      },
      "source": [
        "!pip3 install yfinance --upgrade  #installing yfinance"
      ],
      "execution_count": null,
      "outputs": [
        {
          "output_type": "stream",
          "text": [
            "Requirement already up-to-date: yfinance in /usr/local/lib/python3.6/dist-packages (0.1.54)\n",
            "Requirement already satisfied, skipping upgrade: pandas>=0.24 in /usr/local/lib/python3.6/dist-packages (from yfinance) (1.0.3)\n",
            "Requirement already satisfied, skipping upgrade: numpy>=1.15 in /usr/local/lib/python3.6/dist-packages (from yfinance) (1.18.4)\n",
            "Requirement already satisfied, skipping upgrade: requests>=2.20 in /usr/local/lib/python3.6/dist-packages (from yfinance) (2.23.0)\n",
            "Requirement already satisfied, skipping upgrade: multitasking>=0.0.7 in /usr/local/lib/python3.6/dist-packages (from yfinance) (0.0.9)\n",
            "Requirement already satisfied, skipping upgrade: pytz>=2017.2 in /usr/local/lib/python3.6/dist-packages (from pandas>=0.24->yfinance) (2018.9)\n",
            "Requirement already satisfied, skipping upgrade: python-dateutil>=2.6.1 in /usr/local/lib/python3.6/dist-packages (from pandas>=0.24->yfinance) (2.8.1)\n",
            "Requirement already satisfied, skipping upgrade: idna<3,>=2.5 in /usr/local/lib/python3.6/dist-packages (from requests>=2.20->yfinance) (2.9)\n",
            "Requirement already satisfied, skipping upgrade: certifi>=2017.4.17 in /usr/local/lib/python3.6/dist-packages (from requests>=2.20->yfinance) (2020.4.5.1)\n",
            "Requirement already satisfied, skipping upgrade: urllib3!=1.25.0,!=1.25.1,<1.26,>=1.21.1 in /usr/local/lib/python3.6/dist-packages (from requests>=2.20->yfinance) (1.24.3)\n",
            "Requirement already satisfied, skipping upgrade: chardet<4,>=3.0.2 in /usr/local/lib/python3.6/dist-packages (from requests>=2.20->yfinance) (3.0.4)\n",
            "Requirement already satisfied, skipping upgrade: six>=1.5 in /usr/local/lib/python3.6/dist-packages (from python-dateutil>=2.6.1->pandas>=0.24->yfinance) (1.12.0)\n"
          ],
          "name": "stdout"
        }
      ]
    },
    {
      "cell_type": "markdown",
      "metadata": {
        "id": "7gwLdHedvulV",
        "colab_type": "text"
      },
      "source": [
        "Download of datasets from yfinance"
      ]
    },
    {
      "cell_type": "code",
      "metadata": {
        "id": "3WE7LLlS6FJ8",
        "colab_type": "code",
        "colab": {
          "base_uri": "https://localhost:8080/",
          "height": 121
        },
        "outputId": "3127f11d-5461-411b-e2dc-44350b35a528"
      },
      "source": [
        "import yfinance as yf\n",
        "dta1=yf.download (\"AAPL\",start=\"2000-01-01\",end=\"2019-12-31\")  #download the data for Apple \n",
        "dta2=yf.download (\"^GSPC\",start=\"2000-01-01\",end=\"2019-12-31\")  #download the data for S&P500 index\n",
        "dta3=yf.download (\"GOOGL\",start=\"2000-01-01\",end=\"2019-12-31\")  #download the data for Google \n",
        "dta4=yf.download (\"AMZN\",start=\"2000-01-01\",end=\"2019-12-31\")   #download the data for Amazon \n",
        "dta5=yf.download (\"MSFT\",start=\"2000-01-01\",end=\"2019-12-31\")   #download the data for Microsoft\n",
        "dta6=yf.download (\"JPM\",start=\"2000-01-01\",end=\"2019-12-31\")   #download the data for JPM "
      ],
      "execution_count": null,
      "outputs": [
        {
          "output_type": "stream",
          "text": [
            "[*********************100%***********************]  1 of 1 completed\n",
            "[*********************100%***********************]  1 of 1 completed\n",
            "[*********************100%***********************]  1 of 1 completed\n",
            "[*********************100%***********************]  1 of 1 completed\n",
            "[*********************100%***********************]  1 of 1 completed\n",
            "[*********************100%***********************]  1 of 1 completed\n"
          ],
          "name": "stdout"
        }
      ]
    },
    {
      "cell_type": "markdown",
      "metadata": {
        "id": "oDJU10KlhLTR",
        "colab_type": "text"
      },
      "source": [
        "Data pre-processing"
      ]
    },
    {
      "cell_type": "code",
      "metadata": {
        "id": "kyujPt9z6bH1",
        "colab_type": "code",
        "colab": {}
      },
      "source": [
        "##assign datasets to names\n",
        "apple_data = dta1 \n",
        "sp500_data = dta2 \n",
        "goog_data = dta3\n",
        "amzn_data = dta4 \n",
        "micr_data = dta5\n",
        "jpm_data =dta6"
      ],
      "execution_count": null,
      "outputs": []
    },
    {
      "cell_type": "code",
      "metadata": {
        "id": "czqnJpetAU_1",
        "colab_type": "code",
        "colab": {
          "base_uri": "https://localhost:8080/",
          "height": 238
        },
        "outputId": "9ac83bbf-cdba-4763-ddde-5849459e89c6"
      },
      "source": [
        "apple_data.tail()"
      ],
      "execution_count": null,
      "outputs": [
        {
          "output_type": "execute_result",
          "data": {
            "text/html": [
              "<div>\n",
              "<style scoped>\n",
              "    .dataframe tbody tr th:only-of-type {\n",
              "        vertical-align: middle;\n",
              "    }\n",
              "\n",
              "    .dataframe tbody tr th {\n",
              "        vertical-align: top;\n",
              "    }\n",
              "\n",
              "    .dataframe thead th {\n",
              "        text-align: right;\n",
              "    }\n",
              "</style>\n",
              "<table border=\"1\" class=\"dataframe\">\n",
              "  <thead>\n",
              "    <tr style=\"text-align: right;\">\n",
              "      <th></th>\n",
              "      <th>Open</th>\n",
              "      <th>High</th>\n",
              "      <th>Low</th>\n",
              "      <th>Close</th>\n",
              "      <th>Adj Close</th>\n",
              "      <th>Volume</th>\n",
              "    </tr>\n",
              "    <tr>\n",
              "      <th>Date</th>\n",
              "      <th></th>\n",
              "      <th></th>\n",
              "      <th></th>\n",
              "      <th></th>\n",
              "      <th></th>\n",
              "      <th></th>\n",
              "    </tr>\n",
              "  </thead>\n",
              "  <tbody>\n",
              "    <tr>\n",
              "      <th>2019-12-23</th>\n",
              "      <td>280.529999</td>\n",
              "      <td>284.250000</td>\n",
              "      <td>280.369995</td>\n",
              "      <td>284.000000</td>\n",
              "      <td>282.562683</td>\n",
              "      <td>24643000</td>\n",
              "    </tr>\n",
              "    <tr>\n",
              "      <th>2019-12-24</th>\n",
              "      <td>284.690002</td>\n",
              "      <td>284.890015</td>\n",
              "      <td>282.920013</td>\n",
              "      <td>284.269989</td>\n",
              "      <td>282.831299</td>\n",
              "      <td>12119700</td>\n",
              "    </tr>\n",
              "    <tr>\n",
              "      <th>2019-12-26</th>\n",
              "      <td>284.820007</td>\n",
              "      <td>289.980011</td>\n",
              "      <td>284.700012</td>\n",
              "      <td>289.910004</td>\n",
              "      <td>288.442780</td>\n",
              "      <td>23280300</td>\n",
              "    </tr>\n",
              "    <tr>\n",
              "      <th>2019-12-27</th>\n",
              "      <td>291.119995</td>\n",
              "      <td>293.970001</td>\n",
              "      <td>288.119995</td>\n",
              "      <td>289.799988</td>\n",
              "      <td>288.333313</td>\n",
              "      <td>36566500</td>\n",
              "    </tr>\n",
              "    <tr>\n",
              "      <th>2019-12-30</th>\n",
              "      <td>289.459991</td>\n",
              "      <td>292.690002</td>\n",
              "      <td>285.220001</td>\n",
              "      <td>291.519989</td>\n",
              "      <td>290.044617</td>\n",
              "      <td>36028600</td>\n",
              "    </tr>\n",
              "  </tbody>\n",
              "</table>\n",
              "</div>"
            ],
            "text/plain": [
              "                  Open        High  ...   Adj Close    Volume\n",
              "Date                                ...                      \n",
              "2019-12-23  280.529999  284.250000  ...  282.562683  24643000\n",
              "2019-12-24  284.690002  284.890015  ...  282.831299  12119700\n",
              "2019-12-26  284.820007  289.980011  ...  288.442780  23280300\n",
              "2019-12-27  291.119995  293.970001  ...  288.333313  36566500\n",
              "2019-12-30  289.459991  292.690002  ...  290.044617  36028600\n",
              "\n",
              "[5 rows x 6 columns]"
            ]
          },
          "metadata": {
            "tags": []
          },
          "execution_count": 27
        }
      ]
    },
    {
      "cell_type": "code",
      "metadata": {
        "id": "QLfDJdre7IbV",
        "colab_type": "code",
        "colab": {
          "base_uri": "https://localhost:8080/",
          "height": 238
        },
        "outputId": "a9950bb1-2020-498c-c816-60eb4fbe23db"
      },
      "source": [
        "#view the first five data for S&P500 index \n",
        "sp500_data.head()"
      ],
      "execution_count": null,
      "outputs": [
        {
          "output_type": "execute_result",
          "data": {
            "text/html": [
              "<div>\n",
              "<style scoped>\n",
              "    .dataframe tbody tr th:only-of-type {\n",
              "        vertical-align: middle;\n",
              "    }\n",
              "\n",
              "    .dataframe tbody tr th {\n",
              "        vertical-align: top;\n",
              "    }\n",
              "\n",
              "    .dataframe thead th {\n",
              "        text-align: right;\n",
              "    }\n",
              "</style>\n",
              "<table border=\"1\" class=\"dataframe\">\n",
              "  <thead>\n",
              "    <tr style=\"text-align: right;\">\n",
              "      <th></th>\n",
              "      <th>Open</th>\n",
              "      <th>High</th>\n",
              "      <th>Low</th>\n",
              "      <th>Close</th>\n",
              "      <th>Adj Close</th>\n",
              "      <th>Volume</th>\n",
              "    </tr>\n",
              "    <tr>\n",
              "      <th>Date</th>\n",
              "      <th></th>\n",
              "      <th></th>\n",
              "      <th></th>\n",
              "      <th></th>\n",
              "      <th></th>\n",
              "      <th></th>\n",
              "    </tr>\n",
              "  </thead>\n",
              "  <tbody>\n",
              "    <tr>\n",
              "      <th>2000-01-03</th>\n",
              "      <td>1469.250000</td>\n",
              "      <td>1478.000000</td>\n",
              "      <td>1438.359985</td>\n",
              "      <td>1455.219971</td>\n",
              "      <td>1455.219971</td>\n",
              "      <td>931800000</td>\n",
              "    </tr>\n",
              "    <tr>\n",
              "      <th>2000-01-04</th>\n",
              "      <td>1455.219971</td>\n",
              "      <td>1455.219971</td>\n",
              "      <td>1397.430054</td>\n",
              "      <td>1399.420044</td>\n",
              "      <td>1399.420044</td>\n",
              "      <td>1009000000</td>\n",
              "    </tr>\n",
              "    <tr>\n",
              "      <th>2000-01-05</th>\n",
              "      <td>1399.420044</td>\n",
              "      <td>1413.270020</td>\n",
              "      <td>1377.680054</td>\n",
              "      <td>1402.109985</td>\n",
              "      <td>1402.109985</td>\n",
              "      <td>1085500000</td>\n",
              "    </tr>\n",
              "    <tr>\n",
              "      <th>2000-01-06</th>\n",
              "      <td>1402.109985</td>\n",
              "      <td>1411.900024</td>\n",
              "      <td>1392.099976</td>\n",
              "      <td>1403.449951</td>\n",
              "      <td>1403.449951</td>\n",
              "      <td>1092300000</td>\n",
              "    </tr>\n",
              "    <tr>\n",
              "      <th>2000-01-07</th>\n",
              "      <td>1403.449951</td>\n",
              "      <td>1441.469971</td>\n",
              "      <td>1400.729980</td>\n",
              "      <td>1441.469971</td>\n",
              "      <td>1441.469971</td>\n",
              "      <td>1225200000</td>\n",
              "    </tr>\n",
              "  </tbody>\n",
              "</table>\n",
              "</div>"
            ],
            "text/plain": [
              "                   Open         High  ...    Adj Close      Volume\n",
              "Date                                  ...                         \n",
              "2000-01-03  1469.250000  1478.000000  ...  1455.219971   931800000\n",
              "2000-01-04  1455.219971  1455.219971  ...  1399.420044  1009000000\n",
              "2000-01-05  1399.420044  1413.270020  ...  1402.109985  1085500000\n",
              "2000-01-06  1402.109985  1411.900024  ...  1403.449951  1092300000\n",
              "2000-01-07  1403.449951  1441.469971  ...  1441.469971  1225200000\n",
              "\n",
              "[5 rows x 6 columns]"
            ]
          },
          "metadata": {
            "tags": []
          },
          "execution_count": 28
        }
      ]
    },
    {
      "cell_type": "code",
      "metadata": {
        "id": "a5O1VqRW6WK4",
        "colab_type": "code",
        "colab": {
          "base_uri": "https://localhost:8080/",
          "height": 238
        },
        "outputId": "3c195a3b-ef75-4fba-9955-5c8bcade2446"
      },
      "source": [
        "#view the first five data for Amazon\n",
        "amzn_data.head()"
      ],
      "execution_count": null,
      "outputs": [
        {
          "output_type": "execute_result",
          "data": {
            "text/html": [
              "<div>\n",
              "<style scoped>\n",
              "    .dataframe tbody tr th:only-of-type {\n",
              "        vertical-align: middle;\n",
              "    }\n",
              "\n",
              "    .dataframe tbody tr th {\n",
              "        vertical-align: top;\n",
              "    }\n",
              "\n",
              "    .dataframe thead th {\n",
              "        text-align: right;\n",
              "    }\n",
              "</style>\n",
              "<table border=\"1\" class=\"dataframe\">\n",
              "  <thead>\n",
              "    <tr style=\"text-align: right;\">\n",
              "      <th></th>\n",
              "      <th>Open</th>\n",
              "      <th>High</th>\n",
              "      <th>Low</th>\n",
              "      <th>Close</th>\n",
              "      <th>Adj Close</th>\n",
              "      <th>Volume</th>\n",
              "    </tr>\n",
              "    <tr>\n",
              "      <th>Date</th>\n",
              "      <th></th>\n",
              "      <th></th>\n",
              "      <th></th>\n",
              "      <th></th>\n",
              "      <th></th>\n",
              "      <th></th>\n",
              "    </tr>\n",
              "  </thead>\n",
              "  <tbody>\n",
              "    <tr>\n",
              "      <th>2000-01-03</th>\n",
              "      <td>81.5000</td>\n",
              "      <td>89.5625</td>\n",
              "      <td>79.046875</td>\n",
              "      <td>89.3750</td>\n",
              "      <td>89.3750</td>\n",
              "      <td>16117600</td>\n",
              "    </tr>\n",
              "    <tr>\n",
              "      <th>2000-01-04</th>\n",
              "      <td>85.3750</td>\n",
              "      <td>91.5000</td>\n",
              "      <td>81.750000</td>\n",
              "      <td>81.9375</td>\n",
              "      <td>81.9375</td>\n",
              "      <td>17487400</td>\n",
              "    </tr>\n",
              "    <tr>\n",
              "      <th>2000-01-05</th>\n",
              "      <td>70.5000</td>\n",
              "      <td>75.1250</td>\n",
              "      <td>68.000000</td>\n",
              "      <td>69.7500</td>\n",
              "      <td>69.7500</td>\n",
              "      <td>38457400</td>\n",
              "    </tr>\n",
              "    <tr>\n",
              "      <th>2000-01-06</th>\n",
              "      <td>71.3125</td>\n",
              "      <td>72.6875</td>\n",
              "      <td>64.000000</td>\n",
              "      <td>65.5625</td>\n",
              "      <td>65.5625</td>\n",
              "      <td>18752000</td>\n",
              "    </tr>\n",
              "    <tr>\n",
              "      <th>2000-01-07</th>\n",
              "      <td>67.0000</td>\n",
              "      <td>70.5000</td>\n",
              "      <td>66.187500</td>\n",
              "      <td>69.5625</td>\n",
              "      <td>69.5625</td>\n",
              "      <td>10505400</td>\n",
              "    </tr>\n",
              "  </tbody>\n",
              "</table>\n",
              "</div>"
            ],
            "text/plain": [
              "               Open     High        Low    Close  Adj Close    Volume\n",
              "Date                                                                 \n",
              "2000-01-03  81.5000  89.5625  79.046875  89.3750    89.3750  16117600\n",
              "2000-01-04  85.3750  91.5000  81.750000  81.9375    81.9375  17487400\n",
              "2000-01-05  70.5000  75.1250  68.000000  69.7500    69.7500  38457400\n",
              "2000-01-06  71.3125  72.6875  64.000000  65.5625    65.5625  18752000\n",
              "2000-01-07  67.0000  70.5000  66.187500  69.5625    69.5625  10505400"
            ]
          },
          "metadata": {
            "tags": []
          },
          "execution_count": 29
        }
      ]
    },
    {
      "cell_type": "code",
      "metadata": {
        "id": "IHdAY5Y36aoR",
        "colab_type": "code",
        "colab": {
          "base_uri": "https://localhost:8080/",
          "height": 238
        },
        "outputId": "7e137ee1-b237-4797-dd9c-fafdc1e51212"
      },
      "source": [
        "#view the first five data for Microsoft\n",
        "micr_data.head()"
      ],
      "execution_count": null,
      "outputs": [
        {
          "output_type": "execute_result",
          "data": {
            "text/html": [
              "<div>\n",
              "<style scoped>\n",
              "    .dataframe tbody tr th:only-of-type {\n",
              "        vertical-align: middle;\n",
              "    }\n",
              "\n",
              "    .dataframe tbody tr th {\n",
              "        vertical-align: top;\n",
              "    }\n",
              "\n",
              "    .dataframe thead th {\n",
              "        text-align: right;\n",
              "    }\n",
              "</style>\n",
              "<table border=\"1\" class=\"dataframe\">\n",
              "  <thead>\n",
              "    <tr style=\"text-align: right;\">\n",
              "      <th></th>\n",
              "      <th>Open</th>\n",
              "      <th>High</th>\n",
              "      <th>Low</th>\n",
              "      <th>Close</th>\n",
              "      <th>Adj Close</th>\n",
              "      <th>Volume</th>\n",
              "    </tr>\n",
              "    <tr>\n",
              "      <th>Date</th>\n",
              "      <th></th>\n",
              "      <th></th>\n",
              "      <th></th>\n",
              "      <th></th>\n",
              "      <th></th>\n",
              "      <th></th>\n",
              "    </tr>\n",
              "  </thead>\n",
              "  <tbody>\n",
              "    <tr>\n",
              "      <th>2000-01-03</th>\n",
              "      <td>58.68750</td>\n",
              "      <td>59.3125</td>\n",
              "      <td>56.00000</td>\n",
              "      <td>58.28125</td>\n",
              "      <td>37.289700</td>\n",
              "      <td>53228400</td>\n",
              "    </tr>\n",
              "    <tr>\n",
              "      <th>2000-01-04</th>\n",
              "      <td>56.78125</td>\n",
              "      <td>58.5625</td>\n",
              "      <td>56.12500</td>\n",
              "      <td>56.31250</td>\n",
              "      <td>36.030037</td>\n",
              "      <td>54119000</td>\n",
              "    </tr>\n",
              "    <tr>\n",
              "      <th>2000-01-05</th>\n",
              "      <td>55.56250</td>\n",
              "      <td>58.1875</td>\n",
              "      <td>54.68750</td>\n",
              "      <td>56.90625</td>\n",
              "      <td>36.409924</td>\n",
              "      <td>64059600</td>\n",
              "    </tr>\n",
              "    <tr>\n",
              "      <th>2000-01-06</th>\n",
              "      <td>56.09375</td>\n",
              "      <td>56.9375</td>\n",
              "      <td>54.18750</td>\n",
              "      <td>55.00000</td>\n",
              "      <td>35.190277</td>\n",
              "      <td>54976600</td>\n",
              "    </tr>\n",
              "    <tr>\n",
              "      <th>2000-01-07</th>\n",
              "      <td>54.31250</td>\n",
              "      <td>56.1250</td>\n",
              "      <td>53.65625</td>\n",
              "      <td>55.71875</td>\n",
              "      <td>35.650139</td>\n",
              "      <td>62013600</td>\n",
              "    </tr>\n",
              "  </tbody>\n",
              "</table>\n",
              "</div>"
            ],
            "text/plain": [
              "                Open     High       Low     Close  Adj Close    Volume\n",
              "Date                                                                  \n",
              "2000-01-03  58.68750  59.3125  56.00000  58.28125  37.289700  53228400\n",
              "2000-01-04  56.78125  58.5625  56.12500  56.31250  36.030037  54119000\n",
              "2000-01-05  55.56250  58.1875  54.68750  56.90625  36.409924  64059600\n",
              "2000-01-06  56.09375  56.9375  54.18750  55.00000  35.190277  54976600\n",
              "2000-01-07  54.31250  56.1250  53.65625  55.71875  35.650139  62013600"
            ]
          },
          "metadata": {
            "tags": []
          },
          "execution_count": 30
        }
      ]
    },
    {
      "cell_type": "code",
      "metadata": {
        "id": "CU2lhkva9blS",
        "colab_type": "code",
        "colab": {
          "base_uri": "https://localhost:8080/",
          "height": 238
        },
        "outputId": "66c9467e-37a6-43a7-a9ef-c327f096368b"
      },
      "source": [
        "#view the first five data for JPM\n",
        "jpm_data.head()"
      ],
      "execution_count": null,
      "outputs": [
        {
          "output_type": "execute_result",
          "data": {
            "text/html": [
              "<div>\n",
              "<style scoped>\n",
              "    .dataframe tbody tr th:only-of-type {\n",
              "        vertical-align: middle;\n",
              "    }\n",
              "\n",
              "    .dataframe tbody tr th {\n",
              "        vertical-align: top;\n",
              "    }\n",
              "\n",
              "    .dataframe thead th {\n",
              "        text-align: right;\n",
              "    }\n",
              "</style>\n",
              "<table border=\"1\" class=\"dataframe\">\n",
              "  <thead>\n",
              "    <tr style=\"text-align: right;\">\n",
              "      <th></th>\n",
              "      <th>Open</th>\n",
              "      <th>High</th>\n",
              "      <th>Low</th>\n",
              "      <th>Close</th>\n",
              "      <th>Adj Close</th>\n",
              "      <th>Volume</th>\n",
              "    </tr>\n",
              "    <tr>\n",
              "      <th>Date</th>\n",
              "      <th></th>\n",
              "      <th></th>\n",
              "      <th></th>\n",
              "      <th></th>\n",
              "      <th></th>\n",
              "      <th></th>\n",
              "    </tr>\n",
              "  </thead>\n",
              "  <tbody>\n",
              "    <tr>\n",
              "      <th>2000-01-03</th>\n",
              "      <td>49.833332</td>\n",
              "      <td>50.250000</td>\n",
              "      <td>48.083332</td>\n",
              "      <td>48.583332</td>\n",
              "      <td>26.551420</td>\n",
              "      <td>12019200</td>\n",
              "    </tr>\n",
              "    <tr>\n",
              "      <th>2000-01-04</th>\n",
              "      <td>47.083332</td>\n",
              "      <td>47.458332</td>\n",
              "      <td>46.125000</td>\n",
              "      <td>47.250000</td>\n",
              "      <td>25.968838</td>\n",
              "      <td>11723400</td>\n",
              "    </tr>\n",
              "    <tr>\n",
              "      <th>2000-01-05</th>\n",
              "      <td>46.833332</td>\n",
              "      <td>48.375000</td>\n",
              "      <td>46.000000</td>\n",
              "      <td>46.958332</td>\n",
              "      <td>25.808540</td>\n",
              "      <td>8714500</td>\n",
              "    </tr>\n",
              "    <tr>\n",
              "      <th>2000-01-06</th>\n",
              "      <td>46.750000</td>\n",
              "      <td>48.625000</td>\n",
              "      <td>46.500000</td>\n",
              "      <td>47.625000</td>\n",
              "      <td>26.174952</td>\n",
              "      <td>8369200</td>\n",
              "    </tr>\n",
              "    <tr>\n",
              "      <th>2000-01-07</th>\n",
              "      <td>48.416668</td>\n",
              "      <td>49.000000</td>\n",
              "      <td>47.333332</td>\n",
              "      <td>48.500000</td>\n",
              "      <td>26.655846</td>\n",
              "      <td>6571900</td>\n",
              "    </tr>\n",
              "  </tbody>\n",
              "</table>\n",
              "</div>"
            ],
            "text/plain": [
              "                 Open       High        Low      Close  Adj Close    Volume\n",
              "Date                                                                       \n",
              "2000-01-03  49.833332  50.250000  48.083332  48.583332  26.551420  12019200\n",
              "2000-01-04  47.083332  47.458332  46.125000  47.250000  25.968838  11723400\n",
              "2000-01-05  46.833332  48.375000  46.000000  46.958332  25.808540   8714500\n",
              "2000-01-06  46.750000  48.625000  46.500000  47.625000  26.174952   8369200\n",
              "2000-01-07  48.416668  49.000000  47.333332  48.500000  26.655846   6571900"
            ]
          },
          "metadata": {
            "tags": []
          },
          "execution_count": 31
        }
      ]
    },
    {
      "cell_type": "markdown",
      "metadata": {
        "id": "SyCLrGPPxO1h",
        "colab_type": "text"
      },
      "source": [
        "View data shape"
      ]
    },
    {
      "cell_type": "code",
      "metadata": {
        "id": "Gc0CkuJb9hvR",
        "colab_type": "code",
        "colab": {
          "base_uri": "https://localhost:8080/",
          "height": 34
        },
        "outputId": "6c249ce2-38f5-4a70-956d-3434175f452f"
      },
      "source": [
        "jpm_data.shape #view data shape for JPM"
      ],
      "execution_count": null,
      "outputs": [
        {
          "output_type": "execute_result",
          "data": {
            "text/plain": [
              "(5030, 6)"
            ]
          },
          "metadata": {
            "tags": []
          },
          "execution_count": 32
        }
      ]
    },
    {
      "cell_type": "code",
      "metadata": {
        "id": "Qy9QpYG696K3",
        "colab_type": "code",
        "colab": {
          "base_uri": "https://localhost:8080/",
          "height": 34
        },
        "outputId": "d832942d-6072-4611-d227-dac69b0b3df6"
      },
      "source": [
        "sp500_data.shape #view data shape for S&P500 index"
      ],
      "execution_count": null,
      "outputs": [
        {
          "output_type": "execute_result",
          "data": {
            "text/plain": [
              "(5030, 6)"
            ]
          },
          "metadata": {
            "tags": []
          },
          "execution_count": 33
        }
      ]
    },
    {
      "cell_type": "code",
      "metadata": {
        "id": "hJlIFA9Zh3-M",
        "colab_type": "code",
        "colab": {
          "base_uri": "https://localhost:8080/",
          "height": 34
        },
        "outputId": "80a18961-f3fc-4b2d-cd44-f0fd4fc7e19d"
      },
      "source": [
        "apple_data.shape ##view data shape for Apple"
      ],
      "execution_count": null,
      "outputs": [
        {
          "output_type": "execute_result",
          "data": {
            "text/plain": [
              "(5030, 6)"
            ]
          },
          "metadata": {
            "tags": []
          },
          "execution_count": 34
        }
      ]
    },
    {
      "cell_type": "code",
      "metadata": {
        "id": "RnWXUSEg6rRK",
        "colab_type": "code",
        "colab": {
          "base_uri": "https://localhost:8080/",
          "height": 34
        },
        "outputId": "52add1e8-4a72-4153-fc71-2f6842f51c2b"
      },
      "source": [
        "micr_data.shape #view data shape for Microsoft"
      ],
      "execution_count": null,
      "outputs": [
        {
          "output_type": "execute_result",
          "data": {
            "text/plain": [
              "(5030, 6)"
            ]
          },
          "metadata": {
            "tags": []
          },
          "execution_count": 35
        }
      ]
    },
    {
      "cell_type": "code",
      "metadata": {
        "id": "lBTvHlrh6s1r",
        "colab_type": "code",
        "colab": {
          "base_uri": "https://localhost:8080/",
          "height": 34
        },
        "outputId": "9f004c20-8e63-4bed-8f49-8025627c56b7"
      },
      "source": [
        "amzn_data.shape #view data shape for Amazon"
      ],
      "execution_count": null,
      "outputs": [
        {
          "output_type": "execute_result",
          "data": {
            "text/plain": [
              "(5030, 6)"
            ]
          },
          "metadata": {
            "tags": []
          },
          "execution_count": 36
        }
      ]
    },
    {
      "cell_type": "code",
      "metadata": {
        "id": "SBRCflffKMD3",
        "colab_type": "code",
        "colab": {
          "base_uri": "https://localhost:8080/",
          "height": 34
        },
        "outputId": "7223af34-0dfd-47d5-9fbb-58a628b0c957"
      },
      "source": [
        "goog_data.shape #view data shape for Google"
      ],
      "execution_count": null,
      "outputs": [
        {
          "output_type": "execute_result",
          "data": {
            "text/plain": [
              "(3868, 6)"
            ]
          },
          "metadata": {
            "tags": []
          },
          "execution_count": 37
        }
      ]
    },
    {
      "cell_type": "markdown",
      "metadata": {
        "id": "WFUfe18wxnGT",
        "colab_type": "text"
      },
      "source": [
        "Taking the adjusted close columns"
      ]
    },
    {
      "cell_type": "code",
      "metadata": {
        "id": "kamjm6bz3Mtl",
        "colab_type": "code",
        "colab": {
          "base_uri": "https://localhost:8080/",
          "height": 52
        },
        "outputId": "243c6dbf-10b3-445f-d86a-21365b5a4283"
      },
      "source": [
        "sp = sp500_data['Adj Close'].values   #pick only the Adjusted close for S&P500 index\n",
        "sp                                "
      ],
      "execution_count": null,
      "outputs": [
        {
          "output_type": "execute_result",
          "data": {
            "text/plain": [
              "array([1455.2199707 , 1399.42004395, 1402.10998535, ..., 3239.90991211,\n",
              "       3240.02001953, 3221.29003906])"
            ]
          },
          "metadata": {
            "tags": []
          },
          "execution_count": 38
        }
      ]
    },
    {
      "cell_type": "code",
      "metadata": {
        "id": "nMjD0zWBD2Wn",
        "colab_type": "code",
        "colab": {
          "base_uri": "https://localhost:8080/",
          "height": 52
        },
        "outputId": "4c4ed5c7-2124-4f07-eab0-b3d9bb0db3fe"
      },
      "source": [
        "al = apple_data['Adj Close'].values  #pick only the Adjusted close for Apple\n",
        "al"
      ],
      "execution_count": null,
      "outputs": [
        {
          "output_type": "execute_result",
          "data": {
            "text/plain": [
              "array([  3.46085739,   3.1690712 ,   3.21544814, ..., 288.44277954,\n",
              "       288.33331299, 290.0446167 ])"
            ]
          },
          "metadata": {
            "tags": []
          },
          "execution_count": 39
        }
      ]
    },
    {
      "cell_type": "code",
      "metadata": {
        "id": "hqT8rGac60-d",
        "colab_type": "code",
        "colab": {}
      },
      "source": [
        "am = amzn_data['Adj Close'].values #pick only the Adjusted close for Amazon\n",
        "m = micr_data['Adj Close'].values  #pick only the Adjusted close for Microsoft\n",
        "g = goog_data['Adj Close'].values  #pick only the Adjusted close for Google\n",
        "j = jpm_data['Adj Close'].values  #pick only the Adjusted close for JPM"
      ],
      "execution_count": null,
      "outputs": []
    },
    {
      "cell_type": "markdown",
      "metadata": {
        "id": "qNGEhbfByLiD",
        "colab_type": "text"
      },
      "source": [
        "Constructing dataframe"
      ]
    },
    {
      "cell_type": "code",
      "metadata": {
        "id": "k9Qb3nRj-d7T",
        "colab_type": "code",
        "colab": {}
      },
      "source": [
        "data1=pd.DataFrame(al,columns=['AAPL']) #create a dataframe for Apple\n",
        "data2=pd.DataFrame(sp,columns=['SP500']) #create a dataframe for S&P00 index\n",
        "data3=pd.DataFrame(m,columns=['MST']) #create a dataframe for Microsoft\n",
        "data4=pd.DataFrame(am,columns=['AMZN']) #create a dataframe for Amazon\n",
        "data5=pd.DataFrame(g,columns=['GOOG']) #create a dataframe for Google\n",
        "data6=pd.DataFrame(j,columns=['JPM']) #create a dataframe for JPM"
      ],
      "execution_count": null,
      "outputs": []
    },
    {
      "cell_type": "code",
      "metadata": {
        "id": "m5gWQHrv-d1u",
        "colab_type": "code",
        "colab": {
          "base_uri": "https://localhost:8080/",
          "height": 206
        },
        "outputId": "8440731f-3103-48db-d7dc-57294fa15f04"
      },
      "source": [
        "data1.head() #view the first five data for Apple"
      ],
      "execution_count": null,
      "outputs": [
        {
          "output_type": "execute_result",
          "data": {
            "text/html": [
              "<div>\n",
              "<style scoped>\n",
              "    .dataframe tbody tr th:only-of-type {\n",
              "        vertical-align: middle;\n",
              "    }\n",
              "\n",
              "    .dataframe tbody tr th {\n",
              "        vertical-align: top;\n",
              "    }\n",
              "\n",
              "    .dataframe thead th {\n",
              "        text-align: right;\n",
              "    }\n",
              "</style>\n",
              "<table border=\"1\" class=\"dataframe\">\n",
              "  <thead>\n",
              "    <tr style=\"text-align: right;\">\n",
              "      <th></th>\n",
              "      <th>AAPL</th>\n",
              "    </tr>\n",
              "  </thead>\n",
              "  <tbody>\n",
              "    <tr>\n",
              "      <th>0</th>\n",
              "      <td>20.552891</td>\n",
              "    </tr>\n",
              "    <tr>\n",
              "      <th>1</th>\n",
              "      <td>20.648119</td>\n",
              "    </tr>\n",
              "    <tr>\n",
              "      <th>2</th>\n",
              "      <td>19.938246</td>\n",
              "    </tr>\n",
              "    <tr>\n",
              "      <th>3</th>\n",
              "      <td>19.809626</td>\n",
              "    </tr>\n",
              "    <tr>\n",
              "      <th>4</th>\n",
              "      <td>19.530134</td>\n",
              "    </tr>\n",
              "  </tbody>\n",
              "</table>\n",
              "</div>"
            ],
            "text/plain": [
              "        AAPL\n",
              "0  20.552891\n",
              "1  20.648119\n",
              "2  19.938246\n",
              "3  19.809626\n",
              "4  19.530134"
            ]
          },
          "metadata": {
            "tags": []
          },
          "execution_count": 21
        }
      ]
    },
    {
      "cell_type": "code",
      "metadata": {
        "id": "7MWuwrRu7_Tq",
        "colab_type": "code",
        "colab": {
          "base_uri": "https://localhost:8080/",
          "height": 206
        },
        "outputId": "01891002-4346-4f9d-d573-d392accdc9f4"
      },
      "source": [
        "data6.head() #view the first five data for JPM"
      ],
      "execution_count": null,
      "outputs": [
        {
          "output_type": "execute_result",
          "data": {
            "text/html": [
              "<div>\n",
              "<style scoped>\n",
              "    .dataframe tbody tr th:only-of-type {\n",
              "        vertical-align: middle;\n",
              "    }\n",
              "\n",
              "    .dataframe tbody tr th {\n",
              "        vertical-align: top;\n",
              "    }\n",
              "\n",
              "    .dataframe thead th {\n",
              "        text-align: right;\n",
              "    }\n",
              "</style>\n",
              "<table border=\"1\" class=\"dataframe\">\n",
              "  <thead>\n",
              "    <tr style=\"text-align: right;\">\n",
              "      <th></th>\n",
              "      <th>JPM</th>\n",
              "    </tr>\n",
              "  </thead>\n",
              "  <tbody>\n",
              "    <tr>\n",
              "      <th>0</th>\n",
              "      <td>26.407299</td>\n",
              "    </tr>\n",
              "    <tr>\n",
              "      <th>1</th>\n",
              "      <td>25.901106</td>\n",
              "    </tr>\n",
              "    <tr>\n",
              "      <th>2</th>\n",
              "      <td>25.741232</td>\n",
              "    </tr>\n",
              "    <tr>\n",
              "      <th>3</th>\n",
              "      <td>26.106668</td>\n",
              "    </tr>\n",
              "    <tr>\n",
              "      <th>4</th>\n",
              "      <td>26.586336</td>\n",
              "    </tr>\n",
              "  </tbody>\n",
              "</table>\n",
              "</div>"
            ],
            "text/plain": [
              "         JPM\n",
              "0  26.407299\n",
              "1  25.901106\n",
              "2  25.741232\n",
              "3  26.106668\n",
              "4  26.586336"
            ]
          },
          "metadata": {
            "tags": []
          },
          "execution_count": 21
        }
      ]
    },
    {
      "cell_type": "markdown",
      "metadata": {
        "id": "IoFuQF9F6qos",
        "colab_type": "text"
      },
      "source": [
        "Calculating, plotting and statistics of the returns "
      ]
    },
    {
      "cell_type": "code",
      "metadata": {
        "colab_type": "code",
        "id": "l5w9yNlq7itz",
        "colab": {}
      },
      "source": [
        "####### This function returns the statistics of a data##########\n",
        "###### It takes an array of data as an argument ################\n",
        "\n",
        "def statistics(array):  \n",
        "    sta = scs.describe(array)\n",
        "    print (\"%14s %15s\" % ('statistic', 'value'))\n",
        "    print (40 * \"*\")\n",
        "    print (\"%14s %15.5f\" % ('size', sta[0]))\n",
        "    \n",
        "    print (\"%14s %15.5f\" % ('min', sta[1][0]))\n",
        "    print (\"%14s %15.5f\" % ('max', sta[1][1]))\n",
        "    print (\"%14s %15.5f\" % ('mean', sta[2]))\n",
        "    print (\"%14s %15.5f\" % ('std', np.sqrt(sta[3])))\n",
        "    print (\"%14s %15.5f\" % ('skew', sta[4]))\n",
        "    print (\"%14s %15.5f\" % ('kurtosis', sta[5]))\n"
      ],
      "execution_count": null,
      "outputs": []
    },
    {
      "cell_type": "code",
      "metadata": {
        "id": "gpWjgHYhBctV",
        "colab_type": "code",
        "colab": {
          "base_uri": "https://localhost:8080/",
          "height": 404
        },
        "outputId": "c164917a-1c47-44cb-c63b-4c39233b3d08"
      },
      "source": [
        "##calculate the value of the returns for apple\n",
        "returns1 = data1 / data1.shift(1) - 1 \n",
        "returns1.plot(figsize=(8, 6))  #plot of the returns\n",
        "plt.xlabel(\"time\")\n",
        "plt.ylabel(\"returns\")\n",
        "plt.title('Plot of the returns')\n",
        "plt.show()"
      ],
      "execution_count": null,
      "outputs": [
        {
          "output_type": "display_data",
          "data": {
            "image/png": "[encoded data removed]",
            "text/plain": [
              "<Figure size 576x432 with 1 Axes>"
            ]
          },
          "metadata": {
            "tags": [],
            "needs_background": "light"
          }
        }
      ]
    },
    {
      "cell_type": "code",
      "metadata": {
        "id": "dLf3rXt6Bcp6",
        "colab_type": "code",
        "colab": {
          "base_uri": "https://localhost:8080/",
          "height": 312
        },
        "outputId": "ed94bd6f-3703-441d-c522-23bb4468bda1"
      },
      "source": [
        "#plot the histogram Apple returns\n",
        "returns1.hist(bins=50, figsize=(6, 4))  \n",
        "plt.xlabel(\"index levels\")\n",
        "plt.ylabel(\"frequency\")\n",
        "plt.title('Histogram of apple returns')\n"
      ],
      "execution_count": null,
      "outputs": [
        {
          "output_type": "execute_result",
          "data": {
            "text/plain": [
              "Text(0.5, 1.0, 'Histogram of apple returns')"
            ]
          },
          "metadata": {
            "tags": []
          },
          "execution_count": 24
        },
        {
          "output_type": "display_data",
          "data": {
            "image/png": "[encoded data removed]",
            "text/plain": [
              "<Figure size 432x288 with 1 Axes>"
            ]
          },
          "metadata": {
            "tags": [],
            "needs_background": "light"
          }
        }
      ]
    },
    {
      "cell_type": "code",
      "metadata": {
        "id": "WoM0PEt3Gx6r",
        "colab_type": "code",
        "colab": {
          "base_uri": "https://localhost:8080/",
          "height": 208
        },
        "outputId": "7d85d40d-6a07-4a04-e37b-dae4a99f4674"
      },
      "source": [
        "#viewing the statistics for the apple\n",
        "print (\"statistics for AAPL\")\n",
        "print (40 * \"*\")\n",
        "returns1_data = np.array(returns1[1:])  #dropping the first no value\n",
        "statistics(returns1_data)  #Statistics for the returns data"
      ],
      "execution_count": null,
      "outputs": [
        {
          "output_type": "stream",
          "text": [
            "statistics for AAPL\n",
            "****************************************\n",
            "     statistic           value\n",
            "****************************************\n",
            "          size      5029.00000\n",
            "           min        -0.51869\n",
            "           max         0.13905\n",
            "          mean         0.00122\n",
            "           std         0.02540\n",
            "          skew        -1.64205\n",
            "      kurtosis        38.45169\n"
          ],
          "name": "stdout"
        }
      ]
    },
    {
      "cell_type": "code",
      "metadata": {
        "colab_type": "code",
        "id": "mzDG8U2SW4Hj",
        "colab": {
          "base_uri": "https://localhost:8080/",
          "height": 421
        },
        "outputId": "dad4fac6-babd-4b18-c466-b7057599f5ca"
      },
      "source": [
        "##calculating the value of the returns for SP500\n",
        "returns2 = data2 / data2.shift(1) - 1 \n",
        "returns2.plot(figsize=(8, 6))  #plot of the returns\n",
        "plt.xlabel(\"time\")\n",
        "plt.ylabel(\"returns\")\n",
        "plt.title('Plot of the sp500 returns')"
      ],
      "execution_count": null,
      "outputs": [
        {
          "output_type": "execute_result",
          "data": {
            "text/plain": [
              "Text(0.5, 1.0, 'Plot of the sp500 returns')"
            ]
          },
          "metadata": {
            "tags": []
          },
          "execution_count": 26
        },
        {
          "output_type": "display_data",
          "data": {
            "image/png": "[encoded data removed]",
            "text/plain": [
              "<Figure size 576x432 with 1 Axes>"
            ]
          },
          "metadata": {
            "tags": [],
            "needs_background": "light"
          }
        }
      ]
    },
    {
      "cell_type": "code",
      "metadata": {
        "colab_type": "code",
        "id": "d1OzuuxDnzSi",
        "colab": {
          "base_uri": "https://localhost:8080/",
          "height": 312
        },
        "outputId": "2c9a7a58-ecfd-4ca0-f5f4-5c858058d59a"
      },
      "source": [
        "#plot the histogram for SP500\n",
        "returns2.hist(bins=50, figsize=(6, 4))  \n",
        "plt.xlabel(\"index levels\")\n",
        "plt.ylabel(\"frequency\")\n",
        "plt.title('Histogram of the s&p500 returns')"
      ],
      "execution_count": null,
      "outputs": [
        {
          "output_type": "execute_result",
          "data": {
            "text/plain": [
              "Text(0.5, 1.0, 'Histogram of the s&p500 returns')"
            ]
          },
          "metadata": {
            "tags": []
          },
          "execution_count": 27
        },
        {
          "output_type": "display_data",
          "data": {
            "image/png": "[encoded data removed]",
            "text/plain": [
              "<Figure size 432x288 with 1 Axes>"
            ]
          },
          "metadata": {
            "tags": [],
            "needs_background": "light"
          }
        }
      ]
    },
    {
      "cell_type": "code",
      "metadata": {
        "colab_type": "code",
        "id": "FQab0NgdnzTD",
        "colab": {
          "base_uri": "https://localhost:8080/",
          "height": 208
        },
        "outputId": "37c84a3b-8d2e-4698-85b3-4bfbaecac50c"
      },
      "source": [
        "#viewing the statistics for the sp500\n",
        "print (\"statistics for S&P500\")\n",
        "print (40 * \"*\")\n",
        "returns2_data = np.array(returns2[1:])  #dropping the first no value\n",
        "statistics(returns2_data)  #Statistics for the returns data"
      ],
      "execution_count": null,
      "outputs": [
        {
          "output_type": "stream",
          "text": [
            "statistics for S&P500\n",
            "****************************************\n",
            "     statistic           value\n",
            "****************************************\n",
            "          size      5029.00000\n",
            "           min        -0.09035\n",
            "           max         0.11580\n",
            "          mean         0.00023\n",
            "           std         0.01189\n",
            "          skew        -0.03910\n",
            "      kurtosis         8.81960\n"
          ],
          "name": "stdout"
        }
      ]
    },
    {
      "cell_type": "code",
      "metadata": {
        "colab_type": "code",
        "id": "IWO8ngpe9ItG",
        "colab": {
          "base_uri": "https://localhost:8080/",
          "height": 421
        },
        "outputId": "ba25c516-2e61-4ce1-d95d-c2a76657b622"
      },
      "source": [
        "##calculating the value of the returns for Microsoft\n",
        "returns3 = data3 / data3.shift(1) - 1 \n",
        "returns3.plot(figsize=(8, 6))  #plot of the returns\n",
        "plt.xlabel(\"time\")\n",
        "plt.ylabel(\"returns\")\n",
        "plt.title('Plot of the Microsoft returns')"
      ],
      "execution_count": null,
      "outputs": [
        {
          "output_type": "execute_result",
          "data": {
            "text/plain": [
              "Text(0.5, 1.0, 'Plot of the Microsoft returns')"
            ]
          },
          "metadata": {
            "tags": []
          },
          "execution_count": 29
        },
        {
          "output_type": "display_data",
          "data": {
            "image/png": "[encoded data removed]",
            "text/plain": [
              "<Figure size 576x432 with 1 Axes>"
            ]
          },
          "metadata": {
            "tags": [],
            "needs_background": "light"
          }
        }
      ]
    },
    {
      "cell_type": "code",
      "metadata": {
        "colab_type": "code",
        "id": "gM9Br6-d9Itx",
        "colab": {
          "base_uri": "https://localhost:8080/",
          "height": 312
        },
        "outputId": "141fb6e6-273c-4b32-d460-408f605fd197"
      },
      "source": [
        "#plot the histogram for Microsoft\n",
        "returns3.hist(bins=50, figsize=(6, 4))  \n",
        "plt.xlabel(\"index levels\")\n",
        "plt.ylabel(\"frequency\")\n",
        "plt.title('Histogram of the Microsoft returns')\n"
      ],
      "execution_count": null,
      "outputs": [
        {
          "output_type": "execute_result",
          "data": {
            "text/plain": [
              "Text(0.5, 1.0, 'Histogram of the Microsoft returns')"
            ]
          },
          "metadata": {
            "tags": []
          },
          "execution_count": 30
        },
        {
          "output_type": "display_data",
          "data": {
            "image/png": "[encoded data removed]",
            "text/plain": [
              "<Figure size 432x288 with 1 Axes>"
            ]
          },
          "metadata": {
            "tags": [],
            "needs_background": "light"
          }
        }
      ]
    },
    {
      "cell_type": "code",
      "metadata": {
        "colab_type": "code",
        "id": "hebyu86A9It-",
        "colab": {
          "base_uri": "https://localhost:8080/",
          "height": 208
        },
        "outputId": "cc2ca18a-18df-4f15-8ed8-aefbff4b5eae"
      },
      "source": [
        "#viewing the statistics for the Microsoft\n",
        "print (\"statistics for MICROSOFT\")\n",
        "print (40 * \"*\")\n",
        "returns3_data = np.array(returns3[1:])  #dropping the first no value\n",
        "statistics(returns3_data)  #Statistics for the returns data"
      ],
      "execution_count": null,
      "outputs": [
        {
          "output_type": "stream",
          "text": [
            "statistics for MICROSOFT\n",
            "****************************************\n",
            "     statistic           value\n",
            "****************************************\n",
            "          size      5029.00000\n",
            "           min        -0.15598\n",
            "           max         0.19565\n",
            "          mean         0.00047\n",
            "           std         0.01899\n",
            "          skew         0.20880\n",
            "      kurtosis        10.21563\n"
          ],
          "name": "stdout"
        }
      ]
    },
    {
      "cell_type": "code",
      "metadata": {
        "colab_type": "code",
        "id": "fEjTljis97dT",
        "colab": {
          "base_uri": "https://localhost:8080/",
          "height": 421
        },
        "outputId": "f252206c-1322-4887-b94b-7953414b9ae7"
      },
      "source": [
        " ##calculating the value of the returns for Amazon\n",
        "returns4 = data4 / data4.shift(1) - 1\n",
        "returns4.plot(figsize=(8, 6))  #plot of the returns\n",
        "plt.xlabel(\"time\")\n",
        "plt.ylabel(\"returns\")\n",
        "plt.title('Plot of the Amazon returns')"
      ],
      "execution_count": null,
      "outputs": [
        {
          "output_type": "execute_result",
          "data": {
            "text/plain": [
              "Text(0.5, 1.0, 'Plot of the Amazon returns')"
            ]
          },
          "metadata": {
            "tags": []
          },
          "execution_count": 32
        },
        {
          "output_type": "display_data",
          "data": {
            "image/png": "[encoded data removed]",
            "text/plain": [
              "<Figure size 576x432 with 1 Axes>"
            ]
          },
          "metadata": {
            "tags": [],
            "needs_background": "light"
          }
        }
      ]
    },
    {
      "cell_type": "code",
      "metadata": {
        "colab_type": "code",
        "id": "fELpUGJ097di",
        "colab": {
          "base_uri": "https://localhost:8080/",
          "height": 312
        },
        "outputId": "dc8e7644-c7aa-47f9-b9b5-6501948d1399"
      },
      "source": [
        "#plot the histogram for Amazon\n",
        "returns4.hist(bins=50, figsize=(6, 4))  \n",
        "plt.xlabel(\"index levels\")\n",
        "plt.ylabel(\"frequency\")\n",
        "plt.title('Histogram of the Amazon returns')\n"
      ],
      "execution_count": null,
      "outputs": [
        {
          "output_type": "execute_result",
          "data": {
            "text/plain": [
              "Text(0.5, 1.0, 'Histogram of the Amazon returns')"
            ]
          },
          "metadata": {
            "tags": []
          },
          "execution_count": 33
        },
        {
          "output_type": "display_data",
          "data": {
            "image/png": "[encoded data removed]",
            "text/plain": [
              "<Figure size 432x288 with 1 Axes>"
            ]
          },
          "metadata": {
            "tags": [],
            "needs_background": "light"
          }
        }
      ]
    },
    {
      "cell_type": "code",
      "metadata": {
        "colab_type": "code",
        "id": "AJDI19-D97dt",
        "colab": {
          "base_uri": "https://localhost:8080/",
          "height": 208
        },
        "outputId": "0d7aad0d-5ca8-448e-8899-618eeecc7d39"
      },
      "source": [
        "#viewing the statistics for the Amazon\n",
        "print (\"statistics for AMAZON\")\n",
        "print (40 * \"*\")\n",
        "returns4_data = np.array(returns4[1:])  #dropping the first no value\n",
        "statistics(returns4_data)  #Statistics for the returns data"
      ],
      "execution_count": null,
      "outputs": [
        {
          "output_type": "stream",
          "text": [
            "statistics for AMAZON\n",
            "****************************************\n",
            "     statistic           value\n",
            "****************************************\n",
            "          size      5029.00000\n",
            "           min        -0.24766\n",
            "           max         0.34471\n",
            "          mean         0.00113\n",
            "           std         0.03287\n",
            "          skew         1.18640\n",
            "      kurtosis        15.47447\n"
          ],
          "name": "stdout"
        }
      ]
    },
    {
      "cell_type": "code",
      "metadata": {
        "id": "uYJTqOAjL6U5",
        "colab_type": "code",
        "colab": {
          "base_uri": "https://localhost:8080/",
          "height": 421
        },
        "outputId": "8c29f8b0-a3b8-4e96-c58a-3baf92bb4f33"
      },
      "source": [
        " ##calculating the value of the returns for Google\n",
        "returns5 = data5 / data5.shift(1) - 1\n",
        "returns5.plot(figsize=(8, 6))  #plot of the returns\n",
        "plt.xlabel(\"time\")\n",
        "plt.ylabel(\"returns\")\n",
        "plt.title('Plot of the Google returns')"
      ],
      "execution_count": null,
      "outputs": [
        {
          "output_type": "execute_result",
          "data": {
            "text/plain": [
              "Text(0.5, 1.0, 'Plot of the Google returns')"
            ]
          },
          "metadata": {
            "tags": []
          },
          "execution_count": 35
        },
        {
          "output_type": "display_data",
          "data": {
            "image/png": "[encoded data removed]",
            "text/plain": [
              "<Figure size 576x432 with 1 Axes>"
            ]
          },
          "metadata": {
            "tags": [],
            "needs_background": "light"
          }
        }
      ]
    },
    {
      "cell_type": "code",
      "metadata": {
        "colab_type": "code",
        "id": "vbt7J-nPL-aW",
        "colab": {
          "base_uri": "https://localhost:8080/",
          "height": 312
        },
        "outputId": "16efdea1-6da4-44d5-854f-0bc7479d5e10"
      },
      "source": [
        "#plot the histogram for Google\n",
        "returns5.hist(bins=50, figsize=(6, 4))  \n",
        "plt.xlabel(\"index levels\")\n",
        "plt.ylabel(\"frequency\")\n",
        "plt.title('Histogram of the Google returns')\n"
      ],
      "execution_count": null,
      "outputs": [
        {
          "output_type": "execute_result",
          "data": {
            "text/plain": [
              "Text(0.5, 1.0, 'Histogram of the Google returns')"
            ]
          },
          "metadata": {
            "tags": []
          },
          "execution_count": 36
        },
        {
          "output_type": "display_data",
          "data": {
            "image/png": "[encoded data removed]",
            "text/plain": [
              "<Figure size 432x288 with 1 Axes>"
            ]
          },
          "metadata": {
            "tags": [],
            "needs_background": "light"
          }
        }
      ]
    },
    {
      "cell_type": "code",
      "metadata": {
        "colab_type": "code",
        "id": "pggdqnnhL-bF",
        "colab": {
          "base_uri": "https://localhost:8080/",
          "height": 208
        },
        "outputId": "3a5d1c43-b0e7-4825-8c11-8fe9659cc138"
      },
      "source": [
        "#viewing the statistics for the Google\n",
        "print (\"statistics for GOOGLE\")\n",
        "print (40 * \"*\")\n",
        "returns5_data = np.array(returns5[1:])  #dropping the first no value\n",
        "statistics(returns5_data)  #Statistics for the returns data"
      ],
      "execution_count": null,
      "outputs": [
        {
          "output_type": "stream",
          "text": [
            "statistics for GOOGLE\n",
            "****************************************\n",
            "     statistic           value\n",
            "****************************************\n",
            "          size      3867.00000\n",
            "           min        -0.11609\n",
            "           max         0.19992\n",
            "          mean         0.00103\n",
            "           std         0.01887\n",
            "          skew         0.89517\n",
            "      kurtosis        11.56528\n"
          ],
          "name": "stdout"
        }
      ]
    },
    {
      "cell_type": "code",
      "metadata": {
        "colab_type": "code",
        "id": "PUtGyZcf-R91",
        "colab": {
          "base_uri": "https://localhost:8080/",
          "height": 421
        },
        "outputId": "d0a3d4be-e214-46e6-b6eb-63fe6ecc9171"
      },
      "source": [
        "##calculating the value of the returns for JPM\n",
        "returns6 = data6 / data6.shift(1) - 1 by\n",
        "\n",
        "\n",
        "returns6.plot(figsize=(8, 6))  #plot of the returns\n",
        "plt.xlabel(\"time\")\n",
        "plt.ylabel(\"returns\")\n",
        "plt.title('Plot of the JPM returns')"
      ],
      "execution_count": null,
      "outputs": [
        {
          "output_type": "execute_result",
          "data": {
            "text/plain": [
              "Text(0.5, 1.0, 'Plot of the JPM returns')"
            ]
          },
          "metadata": {
            "tags": []
          },
          "execution_count": 38
        },
        {
          "output_type": "display_data",
          "data": {
            "image/png": "[encoded data removed]",
            "text/plain": [
              "<Figure size 576x432 with 1 Axes>"
            ]
          },
          "metadata": {
            "tags": [],
            "needs_background": "light"
          }
        }
      ]
    },
    {
      "cell_type": "code",
      "metadata": {
        "colab_type": "code",
        "id": "87FRcKn6-R-g",
        "colab": {
          "base_uri": "https://localhost:8080/",
          "height": 312
        },
        "outputId": "02afd604-b657-42f9-83c0-45d6cfd0ee23"
      },
      "source": [
        "#plot the histogram for JPM\n",
        "returns6.hist(bins=50, figsize=(6, 4))  \n",
        "plt.xlabel(\"index levels\")\n",
        "plt.ylabel(\"frequency\")\n",
        "plt.title('Histogram of the JPM returns')"
      ],
      "execution_count": null,
      "outputs": [
        {
          "output_type": "execute_result",
          "data": {
            "text/plain": [
              "Text(0.5, 1.0, 'Histogram of the JPM returns')"
            ]
          },
          "metadata": {
            "tags": []
          },
          "execution_count": 39
        },
        {
          "output_type": "display_data",
          "data": {
            "image/png": "[encoded data removed]",
            "text/plain": [
              "<Figure size 432x288 with 1 Axes>"
            ]
          },
          "metadata": {
            "tags": [],
            "needs_background": "light"
          }
        }
      ]
    },
    {
      "cell_type": "code",
      "metadata": {
        "colab_type": "code",
        "id": "xiqnq-kK-R-r",
        "colab": {
          "base_uri": "https://localhost:8080/",
          "height": 225
        },
        "outputId": "2c6fe8ed-b6b0-41d5-b9fb-850a7ba7f66f"
      },
      "source": [
        "#viewing the statistics for JPM\n",
        "print (\"\\nResults for symbol %s\" % 'JPM')\n",
        "print (40 * \"*\")\n",
        "returns6_data = np.array(returns6[1:])  #dropping the first no value\n",
        "statistics(returns6_data)  #Statistics for the returns data"
      ],
      "execution_count": null,
      "outputs": [
        {
          "output_type": "stream",
          "text": [
            "\n",
            "Results for symbol JPM\n",
            "****************************************\n",
            "     statistic           value\n",
            "****************************************\n",
            "          size      5029.00000\n",
            "           min        -0.20727\n",
            "           max         0.25097\n",
            "          mean         0.00062\n",
            "           std         0.02426\n",
            "          skew         0.86111\n",
            "      kurtosis        15.77160\n"
          ],
          "name": "stdout"
        }
      ]
    },
    {
      "cell_type": "markdown",
      "metadata": {
        "id": "62gkDqUkn2Dz",
        "colab_type": "text"
      },
      "source": [
        "# **MLP MODELS**"
      ]
    },
    {
      "cell_type": "markdown",
      "metadata": {
        "id": "w3PS4Go59DNw",
        "colab_type": "text"
      },
      "source": [
        "Reshape the data"
      ]
    },
    {
      "cell_type": "code",
      "metadata": {
        "colab_type": "code",
        "id": "tH0_22igW4Ht",
        "colab": {}
      },
      "source": [
        "##Reshape of data\n",
        "X = returns2.values.reshape(-1,1)  #assign our feature, SP500 index to X and reshaping the data \n",
        "Y = returns1.values.reshape(-1,1) #assign our target, Apple to Y and reshaping the data \n",
        "M = returns3.values.reshape(-1,1)  #assign our target, Microsoft to M and reshaping the data \n",
        "Z = returns4.values.reshape(-1,1)  #assign our target, Amazon to Z and reshaping the data \n",
        "G = returns5.values.reshape(-1,1)  #assign our target, Amazon to Z and reshaping the data\n",
        "J = returns6.values.reshape(-1,1) #assign our target, JPM to J and reshaping the data"
      ],
      "execution_count": null,
      "outputs": []
    },
    {
      "cell_type": "markdown",
      "metadata": {
        "id": "nQLH5yZ79Q7L",
        "colab_type": "text"
      },
      "source": [
        "Check the shape of the data"
      ]
    },
    {
      "cell_type": "code",
      "metadata": {
        "colab_type": "code",
        "id": "tONkGPzHW4IB",
        "colab": {
          "base_uri": "https://localhost:8080/",
          "height": 34
        },
        "outputId": "6a602776-d90c-4b5e-eaf0-b593b96af3cf"
      },
      "source": [
        "X.shape  #view shape for SP500 index"
      ],
      "execution_count": null,
      "outputs": [
        {
          "output_type": "execute_result",
          "data": {
            "text/plain": [
              "(5030, 1)"
            ]
          },
          "metadata": {
            "tags": []
          },
          "execution_count": 42
        }
      ]
    },
    {
      "cell_type": "code",
      "metadata": {
        "colab_type": "code",
        "id": "VkotsErSW4IK",
        "colab": {
          "base_uri": "https://localhost:8080/",
          "height": 34
        },
        "outputId": "4f6107af-4abd-49c1-85c5-3078a9225133"
      },
      "source": [
        "Y.shape   #view shape for Apple"
      ],
      "execution_count": null,
      "outputs": [
        {
          "output_type": "execute_result",
          "data": {
            "text/plain": [
              "(5030, 1)"
            ]
          },
          "metadata": {
            "tags": []
          },
          "execution_count": 43
        }
      ]
    },
    {
      "cell_type": "code",
      "metadata": {
        "id": "T0vRUehx_Kct",
        "colab_type": "code",
        "colab": {
          "base_uri": "https://localhost:8080/",
          "height": 34
        },
        "outputId": "52ec9944-c82a-496d-e1da-dd1b259e72a9"
      },
      "source": [
        "M.shape  #view shape for Microsoft"
      ],
      "execution_count": null,
      "outputs": [
        {
          "output_type": "execute_result",
          "data": {
            "text/plain": [
              "(5030, 1)"
            ]
          },
          "metadata": {
            "tags": []
          },
          "execution_count": 44
        }
      ]
    },
    {
      "cell_type": "code",
      "metadata": {
        "id": "lpq3-fDl_NIm",
        "colab_type": "code",
        "colab": {
          "base_uri": "https://localhost:8080/",
          "height": 34
        },
        "outputId": "f0f4af26-aa85-4aee-c370-276379acea9e"
      },
      "source": [
        "Z.shape  #view shape for Amazon"
      ],
      "execution_count": null,
      "outputs": [
        {
          "output_type": "execute_result",
          "data": {
            "text/plain": [
              "(5030, 1)"
            ]
          },
          "metadata": {
            "tags": []
          },
          "execution_count": 45
        }
      ]
    },
    {
      "cell_type": "code",
      "metadata": {
        "id": "nJNWSy4YCNkW",
        "colab_type": "code",
        "colab": {
          "base_uri": "https://localhost:8080/",
          "height": 34
        },
        "outputId": "fc59ca23-2c98-4736-ca86-6c52cd05dc41"
      },
      "source": [
        "J.shape  #view shape for JPM"
      ],
      "execution_count": null,
      "outputs": [
        {
          "output_type": "execute_result",
          "data": {
            "text/plain": [
              "(5030, 1)"
            ]
          },
          "metadata": {
            "tags": []
          },
          "execution_count": 46
        }
      ]
    },
    {
      "cell_type": "markdown",
      "metadata": {
        "id": "BmlunzWv-Ow6",
        "colab_type": "text"
      },
      "source": [
        "SPLITTING THE DATASETS INTO TESTING AND TRAINING"
      ]
    },
    {
      "cell_type": "code",
      "metadata": {
        "colab_type": "code",
        "id": "qnS1-FbYW4IU",
        "colab": {}
      },
      "source": [
        "###Splitting for Apple\n",
        "X_train, X_test, Y_train, Y_test = train_test_split(X[1:], Y[1:], test_size=.3)  #splitting our data into training and testing\n",
        "X_train, X_val, Y_train, Y_val = train_test_split(X_train, Y_train, test_size=.3) #splitting the training data into training and validation"
      ],
      "execution_count": null,
      "outputs": []
    },
    {
      "cell_type": "code",
      "metadata": {
        "id": "dBXjXBc0_bbx",
        "colab_type": "code",
        "colab": {}
      },
      "source": [
        "###Splitting for Amazon\n",
        "X_train, X_test, Z_train, Z_test = train_test_split(X[1:], Z[1:], test_size=.3)  #splitting our data into training and testing\n",
        "X_train, X_val, Z_train, Z_val = train_test_split(X_train, Z_train, test_size=.3) #splitting the training data into training and validation"
      ],
      "execution_count": null,
      "outputs": []
    },
    {
      "cell_type": "code",
      "metadata": {
        "id": "w8VkFODZAaSA",
        "colab_type": "code",
        "colab": {}
      },
      "source": [
        "###Splitting for Microsoft\n",
        "X_train, X_test, M_train, M_test = train_test_split(X[1:], M[1:], test_size=.3)  #splitting our data into training and testing\n",
        "X_train, X_val, M_train, M_val = train_test_split(X_train, M_train, test_size=.3) #splitting the training into training and validation"
      ],
      "execution_count": null,
      "outputs": []
    },
    {
      "cell_type": "code",
      "metadata": {
        "id": "HNjvFKTkCQWN",
        "colab_type": "code",
        "colab": {}
      },
      "source": [
        "###Splitting for JPM\n",
        "X_train, X_test, J_train, J_test = train_test_split(X[1:], J[1:], test_size=.3)  #splitting our data into training and testing\n",
        "X_train, X_val, J_train, J_val = train_test_split(X_train, J_train, test_size=.3) #splitting the training into training and validation"
      ],
      "execution_count": null,
      "outputs": []
    },
    {
      "cell_type": "code",
      "metadata": {
        "colab_type": "code",
        "id": "iOAme3uxQQrC",
        "colab": {}
      },
      "source": [
        "##split for Google\n",
        "##For google need to change the date range for the SP500 since Google started being listed on the NYSE from 19/08/2004\n",
        "XG_train, XG_test, G_train, G_test = train_test_split(X[1163:], G[1:], test_size=.3)  #splitting our data into training and testing\n",
        "XG_train, XG_val, G_train, G_val = train_test_split(XG_train, G_train, test_size=.3) #splitting the training into training and validation"
      ],
      "execution_count": null,
      "outputs": []
    },
    {
      "cell_type": "markdown",
      "metadata": {
        "id": "XYBUw5Gv_zc4",
        "colab_type": "text"
      },
      "source": [
        "View the training, validation and testing data shape"
      ]
    },
    {
      "cell_type": "code",
      "metadata": {
        "colab_type": "code",
        "id": "l5xSN-RpW4Ic",
        "colab": {
          "base_uri": "https://localhost:8080/",
          "height": 34
        },
        "outputId": "c9e62c59-4a58-48f1-b762-6add0549422e"
      },
      "source": [
        "M_train.shape #View the shape of the training feature"
      ],
      "execution_count": null,
      "outputs": [
        {
          "output_type": "execute_result",
          "data": {
            "text/plain": [
              "(2464, 1)"
            ]
          },
          "metadata": {
            "tags": []
          },
          "execution_count": 52
        }
      ]
    },
    {
      "cell_type": "code",
      "metadata": {
        "colab_type": "code",
        "id": "Xsr76uzrW4Ip",
        "colab": {
          "base_uri": "https://localhost:8080/",
          "height": 34
        },
        "outputId": "221408af-fa06-410d-db4b-aaecd2fd67f5"
      },
      "source": [
        "Z_train.shape #View the shape of the training target"
      ],
      "execution_count": null,
      "outputs": [
        {
          "output_type": "execute_result",
          "data": {
            "text/plain": [
              "(2464, 1)"
            ]
          },
          "metadata": {
            "tags": []
          },
          "execution_count": 53
        }
      ]
    },
    {
      "cell_type": "code",
      "metadata": {
        "colab_type": "code",
        "id": "hDL-rkWtW4Iy",
        "colab": {
          "base_uri": "https://localhost:8080/",
          "height": 34
        },
        "outputId": "14d35b98-b514-4804-f978-0117b0a729ce"
      },
      "source": [
        "X_test.shape #View the shape of the testing feature"
      ],
      "execution_count": null,
      "outputs": [
        {
          "output_type": "execute_result",
          "data": {
            "text/plain": [
              "(1509, 1)"
            ]
          },
          "metadata": {
            "tags": []
          },
          "execution_count": 54
        }
      ]
    },
    {
      "cell_type": "code",
      "metadata": {
        "id": "nRl98ZRGCmin",
        "colab_type": "code",
        "colab": {
          "base_uri": "https://localhost:8080/",
          "height": 34
        },
        "outputId": "47ca474a-84b0-4b1a-8bbd-7489cf281bb3"
      },
      "source": [
        "J_train.shape"
      ],
      "execution_count": null,
      "outputs": [
        {
          "output_type": "execute_result",
          "data": {
            "text/plain": [
              "(2464, 1)"
            ]
          },
          "metadata": {
            "tags": []
          },
          "execution_count": 55
        }
      ]
    },
    {
      "cell_type": "code",
      "metadata": {
        "colab_type": "code",
        "id": "l-x1wKdbW4I6",
        "colab": {
          "base_uri": "https://localhost:8080/",
          "height": 34
        },
        "outputId": "b0e0eded-e7c1-4a35-84de-a12e9b9fc122"
      },
      "source": [
        "M_test.shape "
      ],
      "execution_count": null,
      "outputs": [
        {
          "output_type": "execute_result",
          "data": {
            "text/plain": [
              "(1509, 1)"
            ]
          },
          "metadata": {
            "tags": []
          },
          "execution_count": 56
        }
      ]
    },
    {
      "cell_type": "code",
      "metadata": {
        "colab_type": "code",
        "id": "cZrrkmMDW4JD",
        "colab": {
          "base_uri": "https://localhost:8080/",
          "height": 34
        },
        "outputId": "cca9fe30-e41e-4f9e-b300-28f57587c1a0"
      },
      "source": [
        "X_val.shape "
      ],
      "execution_count": null,
      "outputs": [
        {
          "output_type": "execute_result",
          "data": {
            "text/plain": [
              "(1056, 1)"
            ]
          },
          "metadata": {
            "tags": []
          },
          "execution_count": 57
        }
      ]
    },
    {
      "cell_type": "code",
      "metadata": {
        "colab_type": "code",
        "id": "rSGC7FuVW4JK",
        "colab": {
          "base_uri": "https://localhost:8080/",
          "height": 34
        },
        "outputId": "5d0aaabb-a23f-40e1-fc44-bd114e935533"
      },
      "source": [
        "Y_val.shape #View the shape of the validation target"
      ],
      "execution_count": null,
      "outputs": [
        {
          "output_type": "execute_result",
          "data": {
            "text/plain": [
              "(1056, 1)"
            ]
          },
          "metadata": {
            "tags": []
          },
          "execution_count": 58
        }
      ]
    },
    {
      "cell_type": "code",
      "metadata": {
        "id": "EDL6JrjKQeOK",
        "colab_type": "code",
        "colab": {
          "base_uri": "https://localhost:8080/",
          "height": 34
        },
        "outputId": "7b52ff8e-8a5f-4018-f67e-abde8681e335"
      },
      "source": [
        "XG_train.shape #view the shape for sp500 training to be used for google"
      ],
      "execution_count": null,
      "outputs": [
        {
          "output_type": "execute_result",
          "data": {
            "text/plain": [
              "(1894, 1)"
            ]
          },
          "metadata": {
            "tags": []
          },
          "execution_count": 59
        }
      ]
    },
    {
      "cell_type": "code",
      "metadata": {
        "id": "cMnjvdsIQlPy",
        "colab_type": "code",
        "colab": {
          "base_uri": "https://localhost:8080/",
          "height": 34
        },
        "outputId": "acd06c95-28f2-458a-edf6-994d1a0c342c"
      },
      "source": [
        "G_train.shape #view shape of google training"
      ],
      "execution_count": null,
      "outputs": [
        {
          "output_type": "execute_result",
          "data": {
            "text/plain": [
              "(1894, 1)"
            ]
          },
          "metadata": {
            "tags": []
          },
          "execution_count": 60
        }
      ]
    },
    {
      "cell_type": "markdown",
      "metadata": {
        "id": "YeuFdTQCrB5z",
        "colab_type": "text"
      },
      "source": [
        " ## **MLP MODEL - GOOGLE**"
      ]
    },
    {
      "cell_type": "markdown",
      "metadata": {
        "id": "grV2GxL9Am2o",
        "colab_type": "text"
      },
      "source": [
        "Creating the neural network model"
      ]
    },
    {
      "cell_type": "code",
      "metadata": {
        "colab_type": "code",
        "id": "x5jZE92L_is7",
        "colab": {}
      },
      "source": [
        "def baseline():\n",
        "    # create model\n",
        "    model = Sequential()\n",
        "    \n",
        "    model.add(Dense(units = 1, input_dim=1, activation='linear'))\n",
        "    model.add(Dense(units = 1, input_dim=1, activation='linear'))\n",
        "    \n",
        "    #a fully connected layer for the output\n",
        "    model.add(Dense(1, activation='linear'))\n",
        "    \n",
        "    # Compile model\n",
        "    model.compile(loss='mean_squared_error', optimizer='adam',metrics=[metrics.mse])\n",
        "    \n",
        "    return model"
      ],
      "execution_count": null,
      "outputs": []
    },
    {
      "cell_type": "code",
      "metadata": {
        "colab_type": "code",
        "id": "XlfPVAxs_itF",
        "colab": {}
      },
      "source": [
        "#assign baseline to model\n",
        "model = baseline()"
      ],
      "execution_count": null,
      "outputs": []
    },
    {
      "cell_type": "code",
      "metadata": {
        "colab_type": "code",
        "id": "UISMkKTq_itL",
        "colab": {
          "base_uri": "https://localhost:8080/",
          "height": 260
        },
        "outputId": "89c7766f-757c-46d2-c622-2794b7772bff"
      },
      "source": [
        "#View model parameters\n",
        "model.summary() "
      ],
      "execution_count": null,
      "outputs": [
        {
          "output_type": "stream",
          "text": [
            "Model: \"sequential\"\n",
            "_________________________________________________________________\n",
            "Layer (type)                 Output Shape              Param #   \n",
            "=================================================================\n",
            "dense (Dense)                (None, 1)                 2         \n",
            "_________________________________________________________________\n",
            "dense_1 (Dense)              (None, 1)                 2         \n",
            "_________________________________________________________________\n",
            "dense_2 (Dense)              (None, 1)                 2         \n",
            "=================================================================\n",
            "Total params: 6\n",
            "Trainable params: 6\n",
            "Non-trainable params: 0\n",
            "_________________________________________________________________\n"
          ],
          "name": "stdout"
        }
      ]
    },
    {
      "cell_type": "code",
      "metadata": {
        "colab_type": "code",
        "id": "8cWzmCpA_itW",
        "colab": {
          "base_uri": "https://localhost:8080/",
          "height": 1000
        },
        "outputId": "cf484129-a0b3-4d8f-a89d-234459340401"
      },
      "source": [
        "#train the model and calculate loss at each epoch\n",
        "history = model.fit(XG_train, G_train,validation_data=(XG_val,G_val),batch_size=20,epochs=60)  "
      ],
      "execution_count": null,
      "outputs": [
        {
          "output_type": "stream",
          "text": [
            "Epoch 1/60\n",
            "95/95 [==============================] - 1s 6ms/step - loss: 0.0012 - mean_squared_error: 0.0012 - val_loss: 8.8230e-04 - val_mean_squared_error: 8.8230e-04\n",
            "Epoch 2/60\n",
            "95/95 [==============================] - 0s 5ms/step - loss: 8.7226e-04 - mean_squared_error: 8.7226e-04 - val_loss: 7.1834e-04 - val_mean_squared_error: 7.1834e-04\n",
            "Epoch 3/60\n",
            "95/95 [==============================] - 0s 4ms/step - loss: 6.9352e-04 - mean_squared_error: 6.9352e-04 - val_loss: 5.4901e-04 - val_mean_squared_error: 5.4901e-04\n",
            "Epoch 4/60\n",
            "95/95 [==============================] - 0s 4ms/step - loss: 5.6097e-04 - mean_squared_error: 5.6097e-04 - val_loss: 4.5719e-04 - val_mean_squared_error: 4.5719e-04\n",
            "Epoch 5/60\n",
            "95/95 [==============================] - 0s 4ms/step - loss: 4.7178e-04 - mean_squared_error: 4.7178e-04 - val_loss: 3.9694e-04 - val_mean_squared_error: 3.9694e-04\n",
            "Epoch 6/60\n",
            "95/95 [==============================] - 0s 4ms/step - loss: 4.0716e-04 - mean_squared_error: 4.0716e-04 - val_loss: 3.5404e-04 - val_mean_squared_error: 3.5404e-04\n",
            "Epoch 7/60\n",
            "95/95 [==============================] - 0s 5ms/step - loss: 3.5728e-04 - mean_squared_error: 3.5728e-04 - val_loss: 3.1957e-04 - val_mean_squared_error: 3.1957e-04\n",
            "Epoch 8/60\n",
            "95/95 [==============================] - 0s 5ms/step - loss: 3.2951e-04 - mean_squared_error: 3.2951e-04 - val_loss: 2.9559e-04 - val_mean_squared_error: 2.9559e-04\n",
            "Epoch 9/60\n",
            "95/95 [==============================] - 0s 4ms/step - loss: 3.0545e-04 - mean_squared_error: 3.0545e-04 - val_loss: 2.7576e-04 - val_mean_squared_error: 2.7576e-04\n",
            "Epoch 10/60\n",
            "95/95 [==============================] - 0s 4ms/step - loss: 2.8599e-04 - mean_squared_error: 2.8599e-04 - val_loss: 2.6886e-04 - val_mean_squared_error: 2.6886e-04\n",
            "Epoch 11/60\n",
            "95/95 [==============================] - 0s 5ms/step - loss: 2.7292e-04 - mean_squared_error: 2.7292e-04 - val_loss: 2.5489e-04 - val_mean_squared_error: 2.5489e-04\n",
            "Epoch 12/60\n",
            "95/95 [==============================] - 0s 5ms/step - loss: 2.6897e-04 - mean_squared_error: 2.6897e-04 - val_loss: 2.4653e-04 - val_mean_squared_error: 2.4653e-04\n",
            "Epoch 13/60\n",
            "95/95 [==============================] - 0s 5ms/step - loss: 2.5628e-04 - mean_squared_error: 2.5628e-04 - val_loss: 2.4239e-04 - val_mean_squared_error: 2.4239e-04\n",
            "Epoch 14/60\n",
            "95/95 [==============================] - 0s 4ms/step - loss: 2.5794e-04 - mean_squared_error: 2.5794e-04 - val_loss: 2.3709e-04 - val_mean_squared_error: 2.3709e-04\n",
            "Epoch 15/60\n",
            "95/95 [==============================] - 0s 4ms/step - loss: 2.4931e-04 - mean_squared_error: 2.4931e-04 - val_loss: 2.3408e-04 - val_mean_squared_error: 2.3408e-04\n",
            "Epoch 16/60\n",
            "95/95 [==============================] - 0s 4ms/step - loss: 2.4822e-04 - mean_squared_error: 2.4822e-04 - val_loss: 2.3598e-04 - val_mean_squared_error: 2.3598e-04\n",
            "Epoch 17/60\n",
            "95/95 [==============================] - 0s 4ms/step - loss: 2.4839e-04 - mean_squared_error: 2.4839e-04 - val_loss: 2.3327e-04 - val_mean_squared_error: 2.3327e-04\n",
            "Epoch 18/60\n",
            "95/95 [==============================] - 0s 4ms/step - loss: 2.4476e-04 - mean_squared_error: 2.4476e-04 - val_loss: 2.3804e-04 - val_mean_squared_error: 2.3804e-04\n",
            "Epoch 19/60\n",
            "95/95 [==============================] - 0s 4ms/step - loss: 2.4446e-04 - mean_squared_error: 2.4446e-04 - val_loss: 2.3145e-04 - val_mean_squared_error: 2.3145e-04\n",
            "Epoch 20/60\n",
            "95/95 [==============================] - 0s 4ms/step - loss: 2.4293e-04 - mean_squared_error: 2.4293e-04 - val_loss: 2.3702e-04 - val_mean_squared_error: 2.3702e-04\n",
            "Epoch 21/60\n",
            "95/95 [==============================] - 0s 4ms/step - loss: 2.4619e-04 - mean_squared_error: 2.4619e-04 - val_loss: 2.3405e-04 - val_mean_squared_error: 2.3405e-04\n",
            "Epoch 22/60\n",
            "95/95 [==============================] - 0s 4ms/step - loss: 2.3971e-04 - mean_squared_error: 2.3971e-04 - val_loss: 2.2644e-04 - val_mean_squared_error: 2.2644e-04\n",
            "Epoch 23/60\n",
            "95/95 [==============================] - 0s 4ms/step - loss: 2.3911e-04 - mean_squared_error: 2.3911e-04 - val_loss: 2.2665e-04 - val_mean_squared_error: 2.2665e-04\n",
            "Epoch 24/60\n",
            "95/95 [==============================] - 0s 4ms/step - loss: 2.3919e-04 - mean_squared_error: 2.3919e-04 - val_loss: 2.2642e-04 - val_mean_squared_error: 2.2642e-04\n",
            "Epoch 25/60\n",
            "95/95 [==============================] - 0s 4ms/step - loss: 2.3883e-04 - mean_squared_error: 2.3883e-04 - val_loss: 2.3355e-04 - val_mean_squared_error: 2.3355e-04\n",
            "Epoch 26/60\n",
            "95/95 [==============================] - 0s 4ms/step - loss: 2.3794e-04 - mean_squared_error: 2.3794e-04 - val_loss: 2.3661e-04 - val_mean_squared_error: 2.3661e-04\n",
            "Epoch 27/60\n",
            "95/95 [==============================] - 0s 5ms/step - loss: 2.4284e-04 - mean_squared_error: 2.4284e-04 - val_loss: 2.2574e-04 - val_mean_squared_error: 2.2574e-04\n",
            "Epoch 28/60\n",
            "95/95 [==============================] - 0s 5ms/step - loss: 2.4101e-04 - mean_squared_error: 2.4101e-04 - val_loss: 2.2886e-04 - val_mean_squared_error: 2.2886e-04\n",
            "Epoch 29/60\n",
            "95/95 [==============================] - 0s 5ms/step - loss: 2.3853e-04 - mean_squared_error: 2.3853e-04 - val_loss: 2.3438e-04 - val_mean_squared_error: 2.3438e-04\n",
            "Epoch 30/60\n",
            "95/95 [==============================] - 0s 5ms/step - loss: 2.4483e-04 - mean_squared_error: 2.4483e-04 - val_loss: 2.3183e-04 - val_mean_squared_error: 2.3183e-04\n",
            "Epoch 31/60\n",
            "95/95 [==============================] - 0s 4ms/step - loss: 2.4005e-04 - mean_squared_error: 2.4005e-04 - val_loss: 2.2885e-04 - val_mean_squared_error: 2.2885e-04\n",
            "Epoch 32/60\n",
            "95/95 [==============================] - 0s 4ms/step - loss: 2.3786e-04 - mean_squared_error: 2.3786e-04 - val_loss: 2.2615e-04 - val_mean_squared_error: 2.2615e-04\n",
            "Epoch 33/60\n",
            "95/95 [==============================] - 0s 4ms/step - loss: 2.4173e-04 - mean_squared_error: 2.4173e-04 - val_loss: 2.2579e-04 - val_mean_squared_error: 2.2579e-04\n",
            "Epoch 34/60\n",
            "95/95 [==============================] - 0s 4ms/step - loss: 2.4226e-04 - mean_squared_error: 2.4226e-04 - val_loss: 2.2569e-04 - val_mean_squared_error: 2.2569e-04\n",
            "Epoch 35/60\n",
            "95/95 [==============================] - 0s 4ms/step - loss: 2.4173e-04 - mean_squared_error: 2.4173e-04 - val_loss: 2.3329e-04 - val_mean_squared_error: 2.3329e-04\n",
            "Epoch 36/60\n",
            "95/95 [==============================] - 0s 5ms/step - loss: 2.4447e-04 - mean_squared_error: 2.4447e-04 - val_loss: 2.2797e-04 - val_mean_squared_error: 2.2797e-04\n",
            "Epoch 37/60\n",
            "95/95 [==============================] - 0s 5ms/step - loss: 2.3844e-04 - mean_squared_error: 2.3844e-04 - val_loss: 2.2700e-04 - val_mean_squared_error: 2.2700e-04\n",
            "Epoch 38/60\n",
            "95/95 [==============================] - 0s 4ms/step - loss: 2.4500e-04 - mean_squared_error: 2.4500e-04 - val_loss: 2.2559e-04 - val_mean_squared_error: 2.2559e-04\n",
            "Epoch 39/60\n",
            "95/95 [==============================] - 0s 4ms/step - loss: 2.4021e-04 - mean_squared_error: 2.4021e-04 - val_loss: 2.3285e-04 - val_mean_squared_error: 2.3285e-04\n",
            "Epoch 40/60\n",
            "95/95 [==============================] - 0s 4ms/step - loss: 2.4243e-04 - mean_squared_error: 2.4243e-04 - val_loss: 2.2572e-04 - val_mean_squared_error: 2.2572e-04\n",
            "Epoch 41/60\n",
            "95/95 [==============================] - 0s 4ms/step - loss: 2.4110e-04 - mean_squared_error: 2.4110e-04 - val_loss: 2.2896e-04 - val_mean_squared_error: 2.2896e-04\n",
            "Epoch 42/60\n",
            "95/95 [==============================] - 0s 4ms/step - loss: 2.4027e-04 - mean_squared_error: 2.4027e-04 - val_loss: 2.3224e-04 - val_mean_squared_error: 2.3224e-04\n",
            "Epoch 43/60\n",
            "95/95 [==============================] - 0s 4ms/step - loss: 2.4132e-04 - mean_squared_error: 2.4132e-04 - val_loss: 2.3139e-04 - val_mean_squared_error: 2.3139e-04\n",
            "Epoch 44/60\n",
            "95/95 [==============================] - 0s 4ms/step - loss: 2.4085e-04 - mean_squared_error: 2.4085e-04 - val_loss: 2.2957e-04 - val_mean_squared_error: 2.2957e-04\n",
            "Epoch 45/60\n",
            "95/95 [==============================] - 0s 4ms/step - loss: 2.3839e-04 - mean_squared_error: 2.3839e-04 - val_loss: 2.2572e-04 - val_mean_squared_error: 2.2572e-04\n",
            "Epoch 46/60\n",
            "95/95 [==============================] - 0s 4ms/step - loss: 2.4041e-04 - mean_squared_error: 2.4041e-04 - val_loss: 2.2977e-04 - val_mean_squared_error: 2.2977e-04\n",
            "Epoch 47/60\n",
            "95/95 [==============================] - 0s 4ms/step - loss: 2.4226e-04 - mean_squared_error: 2.4226e-04 - val_loss: 2.2568e-04 - val_mean_squared_error: 2.2568e-04\n",
            "Epoch 48/60\n",
            "95/95 [==============================] - 0s 4ms/step - loss: 2.3977e-04 - mean_squared_error: 2.3977e-04 - val_loss: 2.2653e-04 - val_mean_squared_error: 2.2653e-04\n",
            "Epoch 49/60\n",
            "95/95 [==============================] - 0s 4ms/step - loss: 2.3949e-04 - mean_squared_error: 2.3949e-04 - val_loss: 2.2566e-04 - val_mean_squared_error: 2.2566e-04\n",
            "Epoch 50/60\n",
            "95/95 [==============================] - 0s 4ms/step - loss: 2.3993e-04 - mean_squared_error: 2.3993e-04 - val_loss: 2.2569e-04 - val_mean_squared_error: 2.2569e-04\n",
            "Epoch 51/60\n",
            "95/95 [==============================] - 0s 5ms/step - loss: 2.4109e-04 - mean_squared_error: 2.4109e-04 - val_loss: 2.2619e-04 - val_mean_squared_error: 2.2619e-04\n",
            "Epoch 52/60\n",
            "95/95 [==============================] - 0s 4ms/step - loss: 2.4188e-04 - mean_squared_error: 2.4188e-04 - val_loss: 2.2848e-04 - val_mean_squared_error: 2.2848e-04\n",
            "Epoch 53/60\n",
            "95/95 [==============================] - 0s 4ms/step - loss: 2.3992e-04 - mean_squared_error: 2.3992e-04 - val_loss: 2.3542e-04 - val_mean_squared_error: 2.3542e-04\n",
            "Epoch 54/60\n",
            "95/95 [==============================] - 0s 5ms/step - loss: 2.4199e-04 - mean_squared_error: 2.4199e-04 - val_loss: 2.2657e-04 - val_mean_squared_error: 2.2657e-04\n",
            "Epoch 55/60\n",
            "95/95 [==============================] - 0s 4ms/step - loss: 2.4079e-04 - mean_squared_error: 2.4079e-04 - val_loss: 2.2621e-04 - val_mean_squared_error: 2.2621e-04\n",
            "Epoch 56/60\n",
            "95/95 [==============================] - 0s 4ms/step - loss: 2.4036e-04 - mean_squared_error: 2.4036e-04 - val_loss: 2.3338e-04 - val_mean_squared_error: 2.3338e-04\n",
            "Epoch 57/60\n",
            "95/95 [==============================] - 0s 5ms/step - loss: 2.3930e-04 - mean_squared_error: 2.3930e-04 - val_loss: 2.2830e-04 - val_mean_squared_error: 2.2830e-04\n",
            "Epoch 58/60\n",
            "95/95 [==============================] - 0s 4ms/step - loss: 2.3907e-04 - mean_squared_error: 2.3907e-04 - val_loss: 2.2775e-04 - val_mean_squared_error: 2.2775e-04\n",
            "Epoch 59/60\n",
            "95/95 [==============================] - 0s 5ms/step - loss: 2.3952e-04 - mean_squared_error: 2.3952e-04 - val_loss: 2.3267e-04 - val_mean_squared_error: 2.3267e-04\n",
            "Epoch 60/60\n",
            "95/95 [==============================] - 0s 4ms/step - loss: 2.4137e-04 - mean_squared_error: 2.4137e-04 - val_loss: 2.3282e-04 - val_mean_squared_error: 2.3282e-04\n"
          ],
          "name": "stdout"
        }
      ]
    },
    {
      "cell_type": "code",
      "metadata": {
        "colab_type": "code",
        "id": "__GjrC3E_itc",
        "colab": {}
      },
      "source": [
        "#predicting on validation data\n",
        "val_prediction = model.predict(XG_val)"
      ],
      "execution_count": null,
      "outputs": []
    },
    {
      "cell_type": "code",
      "metadata": {
        "colab_type": "code",
        "id": "n3fQXM3N_ith",
        "colab": {
          "base_uri": "https://localhost:8080/",
          "height": 34
        },
        "outputId": "012a5439-d119-4652-9c9d-889179090246"
      },
      "source": [
        "print('The validation mean squared error is ', mean_squared_error(G_val, val_prediction))"
      ],
      "execution_count": null,
      "outputs": [
        {
          "output_type": "stream",
          "text": [
            "The validation mean squared error is  0.0002328237093006161\n"
          ],
          "name": "stdout"
        }
      ]
    },
    {
      "cell_type": "code",
      "metadata": {
        "colab_type": "code",
        "id": "9STB1T61_itm",
        "colab": {}
      },
      "source": [
        "#evaluating on test data\n",
        "test_prediction = model.predict(XG_test)"
      ],
      "execution_count": null,
      "outputs": []
    },
    {
      "cell_type": "code",
      "metadata": {
        "colab_type": "code",
        "id": "RHVzAdcI_itr",
        "colab": {
          "base_uri": "https://localhost:8080/",
          "height": 34
        },
        "outputId": "ce5717b3-071f-4f94-879d-ad2e9e18cb46"
      },
      "source": [
        " print('The testing mean squared error is ', mean_squared_error(G_test, test_prediction))"
      ],
      "execution_count": null,
      "outputs": [
        {
          "output_type": "stream",
          "text": [
            "The testing mean squared error is  0.00023761870927787869\n"
          ],
          "name": "stdout"
        }
      ]
    },
    {
      "cell_type": "code",
      "metadata": {
        "colab_type": "code",
        "id": "XMUe4maW_itw",
        "colab": {
          "base_uri": "https://localhost:8080/",
          "height": 404
        },
        "outputId": "a046f584-c9ae-4b25-f3c4-047591a04f67"
      },
      "source": [
        "#plot the mean square errors per the epochs\n",
        "plt.figure(figsize=(6,6))\n",
        "plt.plot(history.history['mean_squared_error'])\n",
        "plt.title('Model loss')\n",
        "plt.ylabel('Mean Squared Error')\n",
        "plt.xlabel('Epoch')\n",
        "plt.savefig('loss1')\n",
        "plt.show()"
      ],
      "execution_count": null,
      "outputs": [
        {
          "output_type": "display_data",
          "data": {
            "image/png": "[encoded data removed]",
            "text/plain": [
              "<Figure size 432x432 with 1 Axes>"
            ]
          },
          "metadata": {
            "tags": [],
            "needs_background": "light"
          }
        }
      ]
    },
    {
      "cell_type": "code",
      "metadata": {
        "colab_type": "code",
        "id": "oYQssTST_it3",
        "colab": {}
      },
      "source": [
        "####This function plots the loss per epoch for the validation and training data for easy comparison#####\n",
        "\n",
        "def plot_hist(h, xsize=6, ysize=10):\n",
        "\n",
        "    fig_size = plt.rcParams[\"figure.figsize\"]\n",
        "    plt.rcParams[\"figure.figsize\"] = [xsize, ysize]\n",
        "    fig, axes = plt.subplots(nrows=1, ncols=1, sharex=True)\n",
        "    \n",
        "    # summarize history for Accuracy\n",
        "    plt.subplot(211)\n",
        "    plt.plot(h['mean_squared_error'])\n",
        "    plt.plot(h['val_mean_squared_error'])\n",
        "    plt.title('Training Performance')\n",
        "    plt.ylabel('Loss')\n",
        "    plt.xlabel('Epochs')\n",
        "    plt.legend(['Train', 'Validation'], loc='best')\n",
        "    \n",
        "    plt.draw()\n",
        "    plt.show()\n",
        "\n",
        "    return"
      ],
      "execution_count": null,
      "outputs": []
    },
    {
      "cell_type": "code",
      "metadata": {
        "colab_type": "code",
        "id": "BgcRrlCw_it8",
        "colab": {
          "base_uri": "https://localhost:8080/",
          "height": 374
        },
        "outputId": "334733fc-d04f-4f20-eaf2-2103e32ef361"
      },
      "source": [
        "plot_hist(history.history, xsize=8, ysize=12)\n",
        "plt.show()"
      ],
      "execution_count": null,
      "outputs": [
        {
          "output_type": "display_data",
          "data": {
            "image/png": "[encoded data removed]",
            "text/plain": [
              "<Figure size 576x864 with 1 Axes>"
            ]
          },
          "metadata": {
            "tags": [],
            "needs_background": "light"
          }
        }
      ]
    },
    {
      "cell_type": "markdown",
      "metadata": {
        "id": "sm_vEwuRB4ay",
        "colab_type": "text"
      },
      "source": [
        "#**MLP MODEL AMAZON**"
      ]
    },
    {
      "cell_type": "markdown",
      "metadata": {
        "id": "4eRi1dzXCACG",
        "colab_type": "text"
      },
      "source": [
        "Creating the neural network"
      ]
    },
    {
      "cell_type": "code",
      "metadata": {
        "colab_type": "code",
        "id": "KEheM0_2OycN",
        "colab": {}
      },
      "source": [
        "def baseline():\n",
        "    # create model\n",
        "    model = Sequential()\n",
        "    \n",
        "    model.add(Dense(units = 1, input_dim=1, activation='linear'))\n",
        "    model.add(Dense(units = 1, input_dim=1, activation='tanh'))\n",
        "  \n",
        "    #a fully connected layer for the output\n",
        "    model.add(Dense(1, activation='linear'))\n",
        "    \n",
        "    # Compile model\n",
        "    model.compile(loss='mean_squared_error', optimizer='adam',metrics=[metrics.mse])\n",
        "    \n",
        "    return model"
      ],
      "execution_count": null,
      "outputs": []
    },
    {
      "cell_type": "code",
      "metadata": {
        "colab_type": "code",
        "id": "mDCteRPuOycf",
        "colab": {}
      },
      "source": [
        "model = baseline()"
      ],
      "execution_count": null,
      "outputs": []
    },
    {
      "cell_type": "code",
      "metadata": {
        "colab_type": "code",
        "id": "FBPtIKM-Oycr",
        "colab": {
          "base_uri": "https://localhost:8080/",
          "height": 260
        },
        "outputId": "3dc479b9-ad82-49a4-e414-52af21f22d59"
      },
      "source": [
        "model.summary() #View model parameters"
      ],
      "execution_count": null,
      "outputs": [
        {
          "output_type": "stream",
          "text": [
            "Model: \"sequential_1\"\n",
            "_________________________________________________________________\n",
            "Layer (type)                 Output Shape              Param #   \n",
            "=================================================================\n",
            "dense_3 (Dense)              (None, 1)                 2         \n",
            "_________________________________________________________________\n",
            "dense_4 (Dense)              (None, 1)                 2         \n",
            "_________________________________________________________________\n",
            "dense_5 (Dense)              (None, 1)                 2         \n",
            "=================================================================\n",
            "Total params: 6\n",
            "Trainable params: 6\n",
            "Non-trainable params: 0\n",
            "_________________________________________________________________\n"
          ],
          "name": "stdout"
        }
      ]
    },
    {
      "cell_type": "code",
      "metadata": {
        "colab_type": "code",
        "id": "vA5Oehs0Oyc5",
        "colab": {
          "base_uri": "https://localhost:8080/",
          "height": 1000
        },
        "outputId": "18f3aa6b-cd51-45c4-e264-174d1a76fcee"
      },
      "source": [
        "#train the model and calculate loss at each epoch\n",
        "history = model.fit(X_train, Z_train,validation_data=(X_val,Z_val),batch_size=20,epochs=100)  "
      ],
      "execution_count": null,
      "outputs": [
        {
          "output_type": "stream",
          "text": [
            "Epoch 1/100\n",
            "124/124 [==============================] - 1s 5ms/step - loss: 0.0018 - mean_squared_error: 0.0018 - val_loss: 0.0016 - val_mean_squared_error: 0.0016\n",
            "Epoch 2/100\n",
            "124/124 [==============================] - 1s 5ms/step - loss: 0.0016 - mean_squared_error: 0.0016 - val_loss: 0.0014 - val_mean_squared_error: 0.0014\n",
            "Epoch 3/100\n",
            "124/124 [==============================] - 1s 5ms/step - loss: 0.0015 - mean_squared_error: 0.0015 - val_loss: 0.0013 - val_mean_squared_error: 0.0013\n",
            "Epoch 4/100\n",
            "124/124 [==============================] - 1s 4ms/step - loss: 0.0014 - mean_squared_error: 0.0014 - val_loss: 0.0012 - val_mean_squared_error: 0.0012\n",
            "Epoch 5/100\n",
            "124/124 [==============================] - 1s 4ms/step - loss: 0.0013 - mean_squared_error: 0.0013 - val_loss: 0.0012 - val_mean_squared_error: 0.0012\n",
            "Epoch 6/100\n",
            "124/124 [==============================] - 1s 4ms/step - loss: 0.0013 - mean_squared_error: 0.0013 - val_loss: 0.0011 - val_mean_squared_error: 0.0011\n",
            "Epoch 7/100\n",
            "124/124 [==============================] - 0s 4ms/step - loss: 0.0012 - mean_squared_error: 0.0012 - val_loss: 0.0011 - val_mean_squared_error: 0.0011\n",
            "Epoch 8/100\n",
            "124/124 [==============================] - 1s 4ms/step - loss: 0.0012 - mean_squared_error: 0.0012 - val_loss: 0.0011 - val_mean_squared_error: 0.0011\n",
            "Epoch 9/100\n",
            "124/124 [==============================] - 1s 4ms/step - loss: 0.0012 - mean_squared_error: 0.0012 - val_loss: 0.0011 - val_mean_squared_error: 0.0011\n",
            "Epoch 10/100\n",
            "124/124 [==============================] - 0s 4ms/step - loss: 0.0012 - mean_squared_error: 0.0012 - val_loss: 0.0011 - val_mean_squared_error: 0.0011\n",
            "Epoch 11/100\n",
            "124/124 [==============================] - 0s 4ms/step - loss: 0.0012 - mean_squared_error: 0.0012 - val_loss: 0.0010 - val_mean_squared_error: 0.0010\n",
            "Epoch 12/100\n",
            "124/124 [==============================] - 1s 4ms/step - loss: 0.0011 - mean_squared_error: 0.0011 - val_loss: 0.0010 - val_mean_squared_error: 0.0010\n",
            "Epoch 13/100\n",
            "124/124 [==============================] - 1s 4ms/step - loss: 0.0011 - mean_squared_error: 0.0011 - val_loss: 9.9936e-04 - val_mean_squared_error: 9.9936e-04\n",
            "Epoch 14/100\n",
            "124/124 [==============================] - 1s 5ms/step - loss: 0.0011 - mean_squared_error: 0.0011 - val_loss: 9.6833e-04 - val_mean_squared_error: 9.6833e-04\n",
            "Epoch 15/100\n",
            "124/124 [==============================] - 1s 4ms/step - loss: 0.0011 - mean_squared_error: 0.0011 - val_loss: 9.4710e-04 - val_mean_squared_error: 9.4710e-04\n",
            "Epoch 16/100\n",
            "124/124 [==============================] - 1s 4ms/step - loss: 0.0011 - mean_squared_error: 0.0011 - val_loss: 9.2850e-04 - val_mean_squared_error: 9.2850e-04\n",
            "Epoch 17/100\n",
            "124/124 [==============================] - 1s 4ms/step - loss: 0.0010 - mean_squared_error: 0.0010 - val_loss: 9.1019e-04 - val_mean_squared_error: 9.1019e-04\n",
            "Epoch 18/100\n",
            "124/124 [==============================] - 1s 5ms/step - loss: 0.0010 - mean_squared_error: 0.0010 - val_loss: 8.4587e-04 - val_mean_squared_error: 8.4587e-04\n",
            "Epoch 19/100\n",
            "124/124 [==============================] - 1s 4ms/step - loss: 9.7110e-04 - mean_squared_error: 9.7110e-04 - val_loss: 8.2673e-04 - val_mean_squared_error: 8.2673e-04\n",
            "Epoch 20/100\n",
            "124/124 [==============================] - 0s 4ms/step - loss: 9.5426e-04 - mean_squared_error: 9.5426e-04 - val_loss: 8.1623e-04 - val_mean_squared_error: 8.1623e-04\n",
            "Epoch 21/100\n",
            "124/124 [==============================] - 0s 4ms/step - loss: 9.4900e-04 - mean_squared_error: 9.4900e-04 - val_loss: 7.9773e-04 - val_mean_squared_error: 7.9773e-04\n",
            "Epoch 22/100\n",
            "124/124 [==============================] - 0s 4ms/step - loss: 9.3788e-04 - mean_squared_error: 9.3788e-04 - val_loss: 8.0409e-04 - val_mean_squared_error: 8.0409e-04\n",
            "Epoch 23/100\n",
            "124/124 [==============================] - 0s 4ms/step - loss: 9.4778e-04 - mean_squared_error: 9.4778e-04 - val_loss: 8.6887e-04 - val_mean_squared_error: 8.6887e-04\n",
            "Epoch 24/100\n",
            "124/124 [==============================] - 0s 4ms/step - loss: 9.3722e-04 - mean_squared_error: 9.3722e-04 - val_loss: 8.3099e-04 - val_mean_squared_error: 8.3099e-04\n",
            "Epoch 25/100\n",
            "124/124 [==============================] - 0s 4ms/step - loss: 9.3937e-04 - mean_squared_error: 9.3937e-04 - val_loss: 8.1806e-04 - val_mean_squared_error: 8.1806e-04\n",
            "Epoch 26/100\n",
            "124/124 [==============================] - 0s 4ms/step - loss: 9.4383e-04 - mean_squared_error: 9.4383e-04 - val_loss: 8.1868e-04 - val_mean_squared_error: 8.1868e-04\n",
            "Epoch 27/100\n",
            "124/124 [==============================] - 1s 4ms/step - loss: 9.3992e-04 - mean_squared_error: 9.3992e-04 - val_loss: 8.0997e-04 - val_mean_squared_error: 8.0997e-04\n",
            "Epoch 28/100\n",
            "124/124 [==============================] - 1s 5ms/step - loss: 9.3486e-04 - mean_squared_error: 9.3486e-04 - val_loss: 7.9155e-04 - val_mean_squared_error: 7.9155e-04\n",
            "Epoch 29/100\n",
            "124/124 [==============================] - 0s 4ms/step - loss: 9.3740e-04 - mean_squared_error: 9.3740e-04 - val_loss: 8.1516e-04 - val_mean_squared_error: 8.1516e-04\n",
            "Epoch 30/100\n",
            "124/124 [==============================] - 0s 4ms/step - loss: 9.2926e-04 - mean_squared_error: 9.2926e-04 - val_loss: 7.9705e-04 - val_mean_squared_error: 7.9705e-04\n",
            "Epoch 31/100\n",
            "124/124 [==============================] - 1s 4ms/step - loss: 9.5168e-04 - mean_squared_error: 9.5168e-04 - val_loss: 7.9119e-04 - val_mean_squared_error: 7.9119e-04\n",
            "Epoch 32/100\n",
            "124/124 [==============================] - 1s 5ms/step - loss: 9.3061e-04 - mean_squared_error: 9.3061e-04 - val_loss: 7.9680e-04 - val_mean_squared_error: 7.9680e-04\n",
            "Epoch 33/100\n",
            "124/124 [==============================] - 1s 5ms/step - loss: 9.4010e-04 - mean_squared_error: 9.4010e-04 - val_loss: 7.9124e-04 - val_mean_squared_error: 7.9124e-04\n",
            "Epoch 34/100\n",
            "124/124 [==============================] - 1s 4ms/step - loss: 9.3582e-04 - mean_squared_error: 9.3582e-04 - val_loss: 8.0730e-04 - val_mean_squared_error: 8.0730e-04\n",
            "Epoch 35/100\n",
            "124/124 [==============================] - 1s 4ms/step - loss: 9.3587e-04 - mean_squared_error: 9.3587e-04 - val_loss: 8.0537e-04 - val_mean_squared_error: 8.0537e-04\n",
            "Epoch 36/100\n",
            "124/124 [==============================] - 1s 4ms/step - loss: 9.2934e-04 - mean_squared_error: 9.2934e-04 - val_loss: 7.9470e-04 - val_mean_squared_error: 7.9470e-04\n",
            "Epoch 37/100\n",
            "124/124 [==============================] - 1s 4ms/step - loss: 9.3221e-04 - mean_squared_error: 9.3221e-04 - val_loss: 7.9117e-04 - val_mean_squared_error: 7.9117e-04\n",
            "Epoch 38/100\n",
            "124/124 [==============================] - 0s 4ms/step - loss: 9.3034e-04 - mean_squared_error: 9.3034e-04 - val_loss: 8.1069e-04 - val_mean_squared_error: 8.1069e-04\n",
            "Epoch 39/100\n",
            "124/124 [==============================] - 0s 4ms/step - loss: 9.3302e-04 - mean_squared_error: 9.3302e-04 - val_loss: 8.0090e-04 - val_mean_squared_error: 8.0090e-04\n",
            "Epoch 40/100\n",
            "124/124 [==============================] - 1s 4ms/step - loss: 9.3624e-04 - mean_squared_error: 9.3624e-04 - val_loss: 7.9967e-04 - val_mean_squared_error: 7.9967e-04\n",
            "Epoch 41/100\n",
            "124/124 [==============================] - 1s 4ms/step - loss: 9.4414e-04 - mean_squared_error: 9.4414e-04 - val_loss: 7.9424e-04 - val_mean_squared_error: 7.9424e-04\n",
            "Epoch 42/100\n",
            "124/124 [==============================] - 1s 4ms/step - loss: 9.3582e-04 - mean_squared_error: 9.3582e-04 - val_loss: 7.9546e-04 - val_mean_squared_error: 7.9546e-04\n",
            "Epoch 43/100\n",
            "124/124 [==============================] - 1s 5ms/step - loss: 9.2759e-04 - mean_squared_error: 9.2759e-04 - val_loss: 8.4404e-04 - val_mean_squared_error: 8.4404e-04\n",
            "Epoch 44/100\n",
            "124/124 [==============================] - 0s 4ms/step - loss: 9.3581e-04 - mean_squared_error: 9.3581e-04 - val_loss: 7.9341e-04 - val_mean_squared_error: 7.9341e-04\n",
            "Epoch 45/100\n",
            "124/124 [==============================] - 1s 4ms/step - loss: 9.4734e-04 - mean_squared_error: 9.4734e-04 - val_loss: 7.9625e-04 - val_mean_squared_error: 7.9625e-04\n",
            "Epoch 46/100\n",
            "124/124 [==============================] - 1s 5ms/step - loss: 9.3592e-04 - mean_squared_error: 9.3592e-04 - val_loss: 7.9088e-04 - val_mean_squared_error: 7.9088e-04\n",
            "Epoch 47/100\n",
            "124/124 [==============================] - 1s 5ms/step - loss: 9.3788e-04 - mean_squared_error: 9.3788e-04 - val_loss: 7.9136e-04 - val_mean_squared_error: 7.9136e-04\n",
            "Epoch 48/100\n",
            "124/124 [==============================] - 1s 5ms/step - loss: 9.3347e-04 - mean_squared_error: 9.3347e-04 - val_loss: 7.9172e-04 - val_mean_squared_error: 7.9172e-04\n",
            "Epoch 49/100\n",
            "124/124 [==============================] - 1s 5ms/step - loss: 9.3743e-04 - mean_squared_error: 9.3743e-04 - val_loss: 7.9154e-04 - val_mean_squared_error: 7.9154e-04\n",
            "Epoch 50/100\n",
            "124/124 [==============================] - 1s 5ms/step - loss: 9.3746e-04 - mean_squared_error: 9.3746e-04 - val_loss: 8.0332e-04 - val_mean_squared_error: 8.0332e-04\n",
            "Epoch 51/100\n",
            "124/124 [==============================] - 1s 5ms/step - loss: 9.3186e-04 - mean_squared_error: 9.3186e-04 - val_loss: 7.9625e-04 - val_mean_squared_error: 7.9625e-04\n",
            "Epoch 52/100\n",
            "124/124 [==============================] - 1s 5ms/step - loss: 9.3426e-04 - mean_squared_error: 9.3426e-04 - val_loss: 7.9027e-04 - val_mean_squared_error: 7.9027e-04\n",
            "Epoch 53/100\n",
            "124/124 [==============================] - 0s 4ms/step - loss: 9.3898e-04 - mean_squared_error: 9.3898e-04 - val_loss: 7.9075e-04 - val_mean_squared_error: 7.9075e-04\n",
            "Epoch 54/100\n",
            "124/124 [==============================] - 1s 4ms/step - loss: 9.3720e-04 - mean_squared_error: 9.3720e-04 - val_loss: 7.9199e-04 - val_mean_squared_error: 7.9199e-04\n",
            "Epoch 55/100\n",
            "124/124 [==============================] - 1s 5ms/step - loss: 9.3015e-04 - mean_squared_error: 9.3015e-04 - val_loss: 7.9083e-04 - val_mean_squared_error: 7.9083e-04\n",
            "Epoch 56/100\n",
            "124/124 [==============================] - 1s 4ms/step - loss: 9.3289e-04 - mean_squared_error: 9.3289e-04 - val_loss: 8.1234e-04 - val_mean_squared_error: 8.1234e-04\n",
            "Epoch 57/100\n",
            "124/124 [==============================] - 0s 4ms/step - loss: 9.4176e-04 - mean_squared_error: 9.4176e-04 - val_loss: 7.9306e-04 - val_mean_squared_error: 7.9306e-04\n",
            "Epoch 58/100\n",
            "124/124 [==============================] - 1s 4ms/step - loss: 9.2890e-04 - mean_squared_error: 9.2890e-04 - val_loss: 8.5415e-04 - val_mean_squared_error: 8.5415e-04\n",
            "Epoch 59/100\n",
            "124/124 [==============================] - 1s 4ms/step - loss: 9.3749e-04 - mean_squared_error: 9.3749e-04 - val_loss: 7.9094e-04 - val_mean_squared_error: 7.9094e-04\n",
            "Epoch 60/100\n",
            "124/124 [==============================] - 1s 4ms/step - loss: 9.3929e-04 - mean_squared_error: 9.3929e-04 - val_loss: 7.9057e-04 - val_mean_squared_error: 7.9057e-04\n",
            "Epoch 61/100\n",
            "124/124 [==============================] - 1s 4ms/step - loss: 9.3223e-04 - mean_squared_error: 9.3223e-04 - val_loss: 8.4418e-04 - val_mean_squared_error: 8.4418e-04\n",
            "Epoch 62/100\n",
            "124/124 [==============================] - 1s 4ms/step - loss: 9.3628e-04 - mean_squared_error: 9.3628e-04 - val_loss: 7.9325e-04 - val_mean_squared_error: 7.9325e-04\n",
            "Epoch 63/100\n",
            "124/124 [==============================] - 1s 4ms/step - loss: 9.3422e-04 - mean_squared_error: 9.3422e-04 - val_loss: 7.9236e-04 - val_mean_squared_error: 7.9236e-04\n",
            "Epoch 64/100\n",
            "124/124 [==============================] - 0s 4ms/step - loss: 9.3371e-04 - mean_squared_error: 9.3371e-04 - val_loss: 8.1759e-04 - val_mean_squared_error: 8.1759e-04\n",
            "Epoch 65/100\n",
            "124/124 [==============================] - 1s 4ms/step - loss: 9.3924e-04 - mean_squared_error: 9.3924e-04 - val_loss: 8.0577e-04 - val_mean_squared_error: 8.0577e-04\n",
            "Epoch 66/100\n",
            "124/124 [==============================] - 1s 4ms/step - loss: 9.5993e-04 - mean_squared_error: 9.5993e-04 - val_loss: 8.2800e-04 - val_mean_squared_error: 8.2800e-04\n",
            "Epoch 67/100\n",
            "124/124 [==============================] - 1s 5ms/step - loss: 9.3907e-04 - mean_squared_error: 9.3907e-04 - val_loss: 7.9186e-04 - val_mean_squared_error: 7.9186e-04\n",
            "Epoch 68/100\n",
            "124/124 [==============================] - 1s 5ms/step - loss: 9.3407e-04 - mean_squared_error: 9.3407e-04 - val_loss: 7.9420e-04 - val_mean_squared_error: 7.9420e-04\n",
            "Epoch 69/100\n",
            "124/124 [==============================] - 1s 4ms/step - loss: 9.2942e-04 - mean_squared_error: 9.2942e-04 - val_loss: 7.9039e-04 - val_mean_squared_error: 7.9039e-04\n",
            "Epoch 70/100\n",
            "124/124 [==============================] - 1s 4ms/step - loss: 9.2851e-04 - mean_squared_error: 9.2851e-04 - val_loss: 7.9379e-04 - val_mean_squared_error: 7.9379e-04\n",
            "Epoch 71/100\n",
            "124/124 [==============================] - 1s 4ms/step - loss: 9.3529e-04 - mean_squared_error: 9.3529e-04 - val_loss: 7.9061e-04 - val_mean_squared_error: 7.9061e-04\n",
            "Epoch 72/100\n",
            "124/124 [==============================] - 0s 4ms/step - loss: 9.3541e-04 - mean_squared_error: 9.3541e-04 - val_loss: 8.1575e-04 - val_mean_squared_error: 8.1575e-04\n",
            "Epoch 73/100\n",
            "124/124 [==============================] - 1s 5ms/step - loss: 9.3090e-04 - mean_squared_error: 9.3090e-04 - val_loss: 7.8983e-04 - val_mean_squared_error: 7.8983e-04\n",
            "Epoch 74/100\n",
            "124/124 [==============================] - 1s 4ms/step - loss: 9.3670e-04 - mean_squared_error: 9.3670e-04 - val_loss: 7.9087e-04 - val_mean_squared_error: 7.9087e-04\n",
            "Epoch 75/100\n",
            "124/124 [==============================] - 1s 4ms/step - loss: 9.3625e-04 - mean_squared_error: 9.3625e-04 - val_loss: 7.9143e-04 - val_mean_squared_error: 7.9143e-04\n",
            "Epoch 76/100\n",
            "124/124 [==============================] - 1s 5ms/step - loss: 9.3664e-04 - mean_squared_error: 9.3664e-04 - val_loss: 8.2043e-04 - val_mean_squared_error: 8.2043e-04\n",
            "Epoch 77/100\n",
            "124/124 [==============================] - 1s 4ms/step - loss: 9.3049e-04 - mean_squared_error: 9.3049e-04 - val_loss: 7.9191e-04 - val_mean_squared_error: 7.9191e-04\n",
            "Epoch 78/100\n",
            "124/124 [==============================] - 1s 4ms/step - loss: 9.3238e-04 - mean_squared_error: 9.3238e-04 - val_loss: 8.1076e-04 - val_mean_squared_error: 8.1076e-04\n",
            "Epoch 79/100\n",
            "124/124 [==============================] - 1s 5ms/step - loss: 9.3780e-04 - mean_squared_error: 9.3780e-04 - val_loss: 7.9852e-04 - val_mean_squared_error: 7.9852e-04\n",
            "Epoch 80/100\n",
            "124/124 [==============================] - 1s 4ms/step - loss: 9.3186e-04 - mean_squared_error: 9.3186e-04 - val_loss: 7.9022e-04 - val_mean_squared_error: 7.9022e-04\n",
            "Epoch 81/100\n",
            "124/124 [==============================] - 1s 4ms/step - loss: 9.2899e-04 - mean_squared_error: 9.2899e-04 - val_loss: 7.9950e-04 - val_mean_squared_error: 7.9950e-04\n",
            "Epoch 82/100\n",
            "124/124 [==============================] - 1s 4ms/step - loss: 9.5252e-04 - mean_squared_error: 9.5252e-04 - val_loss: 8.1701e-04 - val_mean_squared_error: 8.1701e-04\n",
            "Epoch 83/100\n",
            "124/124 [==============================] - 1s 5ms/step - loss: 9.3264e-04 - mean_squared_error: 9.3264e-04 - val_loss: 7.9154e-04 - val_mean_squared_error: 7.9154e-04\n",
            "Epoch 84/100\n",
            "124/124 [==============================] - 1s 4ms/step - loss: 9.3616e-04 - mean_squared_error: 9.3616e-04 - val_loss: 7.9179e-04 - val_mean_squared_error: 7.9179e-04\n",
            "Epoch 85/100\n",
            "124/124 [==============================] - 1s 4ms/step - loss: 9.3205e-04 - mean_squared_error: 9.3205e-04 - val_loss: 8.0778e-04 - val_mean_squared_error: 8.0778e-04\n",
            "Epoch 86/100\n",
            "124/124 [==============================] - 1s 5ms/step - loss: 9.2920e-04 - mean_squared_error: 9.2920e-04 - val_loss: 7.9009e-04 - val_mean_squared_error: 7.9009e-04\n",
            "Epoch 87/100\n",
            "124/124 [==============================] - 1s 4ms/step - loss: 9.3624e-04 - mean_squared_error: 9.3624e-04 - val_loss: 7.9492e-04 - val_mean_squared_error: 7.9492e-04\n",
            "Epoch 88/100\n",
            "124/124 [==============================] - 0s 4ms/step - loss: 9.3396e-04 - mean_squared_error: 9.3396e-04 - val_loss: 7.9422e-04 - val_mean_squared_error: 7.9422e-04\n",
            "Epoch 89/100\n",
            "124/124 [==============================] - 1s 4ms/step - loss: 9.3550e-04 - mean_squared_error: 9.3550e-04 - val_loss: 7.9942e-04 - val_mean_squared_error: 7.9942e-04\n",
            "Epoch 90/100\n",
            "124/124 [==============================] - 0s 4ms/step - loss: 9.3611e-04 - mean_squared_error: 9.3611e-04 - val_loss: 7.9107e-04 - val_mean_squared_error: 7.9107e-04\n",
            "Epoch 91/100\n",
            "124/124 [==============================] - 1s 4ms/step - loss: 9.2951e-04 - mean_squared_error: 9.2951e-04 - val_loss: 7.9615e-04 - val_mean_squared_error: 7.9615e-04\n",
            "Epoch 92/100\n",
            "124/124 [==============================] - 0s 4ms/step - loss: 9.3453e-04 - mean_squared_error: 9.3453e-04 - val_loss: 7.9455e-04 - val_mean_squared_error: 7.9455e-04\n",
            "Epoch 93/100\n",
            "124/124 [==============================] - 1s 5ms/step - loss: 9.3425e-04 - mean_squared_error: 9.3425e-04 - val_loss: 7.9021e-04 - val_mean_squared_error: 7.9021e-04\n",
            "Epoch 94/100\n",
            "124/124 [==============================] - 1s 4ms/step - loss: 9.3439e-04 - mean_squared_error: 9.3439e-04 - val_loss: 7.9081e-04 - val_mean_squared_error: 7.9081e-04\n",
            "Epoch 95/100\n",
            "124/124 [==============================] - 1s 4ms/step - loss: 9.3909e-04 - mean_squared_error: 9.3909e-04 - val_loss: 7.9188e-04 - val_mean_squared_error: 7.9188e-04\n",
            "Epoch 96/100\n",
            "124/124 [==============================] - 0s 4ms/step - loss: 9.3266e-04 - mean_squared_error: 9.3266e-04 - val_loss: 7.9113e-04 - val_mean_squared_error: 7.9113e-04\n",
            "Epoch 97/100\n",
            "124/124 [==============================] - 1s 4ms/step - loss: 9.3048e-04 - mean_squared_error: 9.3048e-04 - val_loss: 7.9026e-04 - val_mean_squared_error: 7.9026e-04\n",
            "Epoch 98/100\n",
            "124/124 [==============================] - 0s 4ms/step - loss: 9.3662e-04 - mean_squared_error: 9.3662e-04 - val_loss: 8.0244e-04 - val_mean_squared_error: 8.0244e-04\n",
            "Epoch 99/100\n",
            "124/124 [==============================] - 1s 4ms/step - loss: 9.2886e-04 - mean_squared_error: 9.2886e-04 - val_loss: 7.9397e-04 - val_mean_squared_error: 7.9397e-04\n",
            "Epoch 100/100\n",
            "124/124 [==============================] - 0s 4ms/step - loss: 9.3258e-04 - mean_squared_error: 9.3258e-04 - val_loss: 7.9392e-04 - val_mean_squared_error: 7.9392e-04\n"
          ],
          "name": "stdout"
        }
      ]
    },
    {
      "cell_type": "code",
      "metadata": {
        "colab_type": "code",
        "id": "Z3xwkmCuOyc_",
        "colab": {}
      },
      "source": [
        "#predict on validation data\n",
        "val_prediction = model.predict(X_val)"
      ],
      "execution_count": null,
      "outputs": []
    },
    {
      "cell_type": "code",
      "metadata": {
        "colab_type": "code",
        "id": "qf2qpEUWOydF",
        "colab": {
          "base_uri": "https://localhost:8080/",
          "height": 34
        },
        "outputId": "42aea88f-cddb-4d57-fac5-78f997ffdf95"
      },
      "source": [
        "print('The validation mean squared error is ', mean_squared_error(Z_val, val_prediction))"
      ],
      "execution_count": null,
      "outputs": [
        {
          "output_type": "stream",
          "text": [
            "The validation mean squared error is  0.000793922818964189\n"
          ],
          "name": "stdout"
        }
      ]
    },
    {
      "cell_type": "code",
      "metadata": {
        "colab_type": "code",
        "id": "8aGUdRq7OydM",
        "colab": {}
      },
      "source": [
        "#evaluate on test data\n",
        "test_prediction = model.predict(X_test)"
      ],
      "execution_count": null,
      "outputs": []
    },
    {
      "cell_type": "code",
      "metadata": {
        "colab_type": "code",
        "id": "uXG_zCThOydQ",
        "colab": {
          "base_uri": "https://localhost:8080/",
          "height": 34
        },
        "outputId": "f2377a98-c956-4ea1-ad78-a219d3976c00"
      },
      "source": [
        " print('The testing mean squared error is ', mean_squared_error(Z_test, test_prediction))"
      ],
      "execution_count": null,
      "outputs": [
        {
          "output_type": "stream",
          "text": [
            "The testing mean squared error is  0.0007284474248070653\n"
          ],
          "name": "stdout"
        }
      ]
    },
    {
      "cell_type": "code",
      "metadata": {
        "colab_type": "code",
        "id": "pdi512hXOydW",
        "colab": {
          "base_uri": "https://localhost:8080/",
          "height": 404
        },
        "outputId": "5fae10af-bdcc-4f83-e574-3c6d73c06a10"
      },
      "source": [
        "#plot the mean square errors per the epochs\n",
        "plt.figure(figsize=(6,6))\n",
        "plt.plot(history.history['mean_squared_error'])\n",
        "plt.title('Model loss')\n",
        "plt.ylabel('Mean Squared Error')\n",
        "plt.xlabel('Epoch')\n",
        "plt.savefig('loss1')\n",
        "plt.show()"
      ],
      "execution_count": null,
      "outputs": [
        {
          "output_type": "display_data",
          "data": {
            "image/png": "[encoded data removed]",
            "text/plain": [
              "<Figure size 432x432 with 1 Axes>"
            ]
          },
          "metadata": {
            "tags": [],
            "needs_background": "light"
          }
        }
      ]
    },
    {
      "cell_type": "code",
      "metadata": {
        "colab_type": "code",
        "id": "PTqD9gSLOydc",
        "colab": {
          "base_uri": "https://localhost:8080/",
          "height": 374
        },
        "outputId": "effcdbbb-5105-48f9-c6f8-916319ea6437"
      },
      "source": [
        "##plot of validation and training loss per epoch\n",
        "plot_hist(history.history, xsize=8, ysize=12)\n",
        "plt.show()"
      ],
      "execution_count": null,
      "outputs": [
        {
          "output_type": "display_data",
          "data": {
            "image/png": "[encoded data removed]",
            "text/plain": [
              "<Figure size 576x864 with 1 Axes>"
            ]
          },
          "metadata": {
            "tags": [],
            "needs_background": "light"
          }
        }
      ]
    },
    {
      "cell_type": "markdown",
      "metadata": {
        "id": "OY-x7N4cD8Py",
        "colab_type": "text"
      },
      "source": [
        "#**MLP MODEL APPLE**"
      ]
    },
    {
      "cell_type": "markdown",
      "metadata": {
        "id": "SiRC320fEEZy",
        "colab_type": "text"
      },
      "source": [
        "Creating the neural network"
      ]
    },
    {
      "cell_type": "code",
      "metadata": {
        "colab_type": "code",
        "id": "7qo985lpXBc1",
        "colab": {}
      },
      "source": [
        "def baseline():\n",
        "    # create model\n",
        "    model = Sequential()\n",
        "    \n",
        "    model.add(Dense(units = 1, input_dim=1, activation='linear'))\n",
        "    model.add(Dense(units = 1, input_dim=1, activation='linear'))\n",
        "  \n",
        "    #a fully connected layer for the output\n",
        "    model.add(Dense(1, activation='linear'))\n",
        "    \n",
        "    # Compile model\n",
        "    model.compile(loss='mean_squared_error', optimizer='adam',metrics=[metrics.mse])\n",
        "    \n",
        "    return model"
      ],
      "execution_count": null,
      "outputs": []
    },
    {
      "cell_type": "code",
      "metadata": {
        "colab_type": "code",
        "id": "gov619LgXBdD",
        "colab": {}
      },
      "source": [
        "model = baseline()"
      ],
      "execution_count": null,
      "outputs": []
    },
    {
      "cell_type": "code",
      "metadata": {
        "colab_type": "code",
        "id": "5wHGcMneXBdN",
        "colab": {
          "base_uri": "https://localhost:8080/",
          "height": 260
        },
        "outputId": "0c4310af-0a64-46bc-a98b-5709a7241a58"
      },
      "source": [
        "model.summary() #View model parameters"
      ],
      "execution_count": null,
      "outputs": [
        {
          "output_type": "stream",
          "text": [
            "Model: \"sequential_10\"\n",
            "_________________________________________________________________\n",
            "Layer (type)                 Output Shape              Param #   \n",
            "=================================================================\n",
            "dense_30 (Dense)             (None, 1)                 2         \n",
            "_________________________________________________________________\n",
            "dense_31 (Dense)             (None, 1)                 2         \n",
            "_________________________________________________________________\n",
            "dense_32 (Dense)             (None, 1)                 2         \n",
            "=================================================================\n",
            "Total params: 6\n",
            "Trainable params: 6\n",
            "Non-trainable params: 0\n",
            "_________________________________________________________________\n"
          ],
          "name": "stdout"
        }
      ]
    },
    {
      "cell_type": "code",
      "metadata": {
        "colab_type": "code",
        "id": "h0huNK4YXBdS",
        "colab": {
          "base_uri": "https://localhost:8080/",
          "height": 1000
        },
        "outputId": "42afdf06-e8ee-43b0-f542-9cf06ee75691"
      },
      "source": [
        "#train the model and calculate loss at each epoch\n",
        "history = model.fit(X_train, Y_train,validation_data=(X_val,Y_val),batch_size=20,epochs=100)  "
      ],
      "execution_count": null,
      "outputs": [
        {
          "output_type": "stream",
          "text": [
            "Epoch 1/100\n",
            "124/124 [==============================] - 1s 4ms/step - loss: 0.0014 - mean_squared_error: 0.0014 - val_loss: 0.0012 - val_mean_squared_error: 0.0012\n",
            "Epoch 2/100\n",
            "124/124 [==============================] - 1s 4ms/step - loss: 0.0011 - mean_squared_error: 0.0011 - val_loss: 0.0011 - val_mean_squared_error: 0.0011\n",
            "Epoch 3/100\n",
            "124/124 [==============================] - 0s 4ms/step - loss: 9.9835e-04 - mean_squared_error: 9.9835e-04 - val_loss: 9.3777e-04 - val_mean_squared_error: 9.3777e-04\n",
            "Epoch 4/100\n",
            "124/124 [==============================] - 0s 4ms/step - loss: 8.9364e-04 - mean_squared_error: 8.9364e-04 - val_loss: 8.4326e-04 - val_mean_squared_error: 8.4326e-04\n",
            "Epoch 5/100\n",
            "124/124 [==============================] - 0s 4ms/step - loss: 8.2160e-04 - mean_squared_error: 8.2160e-04 - val_loss: 7.8282e-04 - val_mean_squared_error: 7.8282e-04\n",
            "Epoch 6/100\n",
            "124/124 [==============================] - 0s 4ms/step - loss: 7.7520e-04 - mean_squared_error: 7.7520e-04 - val_loss: 7.3868e-04 - val_mean_squared_error: 7.3868e-04\n",
            "Epoch 7/100\n",
            "124/124 [==============================] - 0s 4ms/step - loss: 7.3084e-04 - mean_squared_error: 7.3084e-04 - val_loss: 7.0192e-04 - val_mean_squared_error: 7.0192e-04\n",
            "Epoch 8/100\n",
            "124/124 [==============================] - 0s 4ms/step - loss: 6.9864e-04 - mean_squared_error: 6.9864e-04 - val_loss: 6.8749e-04 - val_mean_squared_error: 6.8749e-04\n",
            "Epoch 9/100\n",
            "124/124 [==============================] - 0s 4ms/step - loss: 6.7484e-04 - mean_squared_error: 6.7484e-04 - val_loss: 6.5333e-04 - val_mean_squared_error: 6.5333e-04\n",
            "Epoch 10/100\n",
            "124/124 [==============================] - 0s 4ms/step - loss: 6.5670e-04 - mean_squared_error: 6.5670e-04 - val_loss: 6.4536e-04 - val_mean_squared_error: 6.4536e-04\n",
            "Epoch 11/100\n",
            "124/124 [==============================] - 0s 4ms/step - loss: 6.4005e-04 - mean_squared_error: 6.4005e-04 - val_loss: 6.2184e-04 - val_mean_squared_error: 6.2184e-04\n",
            "Epoch 12/100\n",
            "124/124 [==============================] - 0s 4ms/step - loss: 6.2833e-04 - mean_squared_error: 6.2833e-04 - val_loss: 6.1127e-04 - val_mean_squared_error: 6.1127e-04\n",
            "Epoch 13/100\n",
            "124/124 [==============================] - 0s 4ms/step - loss: 6.1472e-04 - mean_squared_error: 6.1472e-04 - val_loss: 6.0265e-04 - val_mean_squared_error: 6.0265e-04\n",
            "Epoch 14/100\n",
            "124/124 [==============================] - 0s 4ms/step - loss: 6.0569e-04 - mean_squared_error: 6.0569e-04 - val_loss: 5.9256e-04 - val_mean_squared_error: 5.9256e-04\n",
            "Epoch 15/100\n",
            "124/124 [==============================] - 0s 4ms/step - loss: 5.9380e-04 - mean_squared_error: 5.9380e-04 - val_loss: 5.9376e-04 - val_mean_squared_error: 5.9376e-04\n",
            "Epoch 16/100\n",
            "124/124 [==============================] - 0s 4ms/step - loss: 5.8395e-04 - mean_squared_error: 5.8395e-04 - val_loss: 5.6809e-04 - val_mean_squared_error: 5.6809e-04\n",
            "Epoch 17/100\n",
            "124/124 [==============================] - 0s 4ms/step - loss: 5.7464e-04 - mean_squared_error: 5.7464e-04 - val_loss: 5.5825e-04 - val_mean_squared_error: 5.5825e-04\n",
            "Epoch 18/100\n",
            "124/124 [==============================] - 0s 4ms/step - loss: 5.6436e-04 - mean_squared_error: 5.6436e-04 - val_loss: 5.4716e-04 - val_mean_squared_error: 5.4716e-04\n",
            "Epoch 19/100\n",
            "124/124 [==============================] - 0s 4ms/step - loss: 5.5315e-04 - mean_squared_error: 5.5315e-04 - val_loss: 5.4067e-04 - val_mean_squared_error: 5.4067e-04\n",
            "Epoch 20/100\n",
            "124/124 [==============================] - 0s 4ms/step - loss: 5.3952e-04 - mean_squared_error: 5.3952e-04 - val_loss: 5.2208e-04 - val_mean_squared_error: 5.2208e-04\n",
            "Epoch 21/100\n",
            "124/124 [==============================] - 0s 4ms/step - loss: 5.2177e-04 - mean_squared_error: 5.2177e-04 - val_loss: 5.0801e-04 - val_mean_squared_error: 5.0801e-04\n",
            "Epoch 22/100\n",
            "124/124 [==============================] - 1s 4ms/step - loss: 5.0274e-04 - mean_squared_error: 5.0274e-04 - val_loss: 4.9641e-04 - val_mean_squared_error: 4.9641e-04\n",
            "Epoch 23/100\n",
            "124/124 [==============================] - 0s 4ms/step - loss: 4.8319e-04 - mean_squared_error: 4.8319e-04 - val_loss: 4.5701e-04 - val_mean_squared_error: 4.5701e-04\n",
            "Epoch 24/100\n",
            "124/124 [==============================] - 0s 4ms/step - loss: 4.6405e-04 - mean_squared_error: 4.6405e-04 - val_loss: 4.3644e-04 - val_mean_squared_error: 4.3644e-04\n",
            "Epoch 25/100\n",
            "124/124 [==============================] - 0s 4ms/step - loss: 4.4486e-04 - mean_squared_error: 4.4486e-04 - val_loss: 4.2361e-04 - val_mean_squared_error: 4.2361e-04\n",
            "Epoch 26/100\n",
            "124/124 [==============================] - 0s 4ms/step - loss: 4.3539e-04 - mean_squared_error: 4.3539e-04 - val_loss: 4.1232e-04 - val_mean_squared_error: 4.1232e-04\n",
            "Epoch 27/100\n",
            "124/124 [==============================] - 0s 4ms/step - loss: 4.3055e-04 - mean_squared_error: 4.3055e-04 - val_loss: 4.0788e-04 - val_mean_squared_error: 4.0788e-04\n",
            "Epoch 28/100\n",
            "124/124 [==============================] - 0s 4ms/step - loss: 4.2849e-04 - mean_squared_error: 4.2849e-04 - val_loss: 4.0718e-04 - val_mean_squared_error: 4.0718e-04\n",
            "Epoch 29/100\n",
            "124/124 [==============================] - 0s 4ms/step - loss: 4.2918e-04 - mean_squared_error: 4.2918e-04 - val_loss: 4.0705e-04 - val_mean_squared_error: 4.0705e-04\n",
            "Epoch 30/100\n",
            "124/124 [==============================] - 0s 4ms/step - loss: 4.2383e-04 - mean_squared_error: 4.2383e-04 - val_loss: 4.0708e-04 - val_mean_squared_error: 4.0708e-04\n",
            "Epoch 31/100\n",
            "124/124 [==============================] - 0s 4ms/step - loss: 4.2550e-04 - mean_squared_error: 4.2550e-04 - val_loss: 4.1156e-04 - val_mean_squared_error: 4.1156e-04\n",
            "Epoch 32/100\n",
            "124/124 [==============================] - 0s 4ms/step - loss: 4.2218e-04 - mean_squared_error: 4.2218e-04 - val_loss: 4.3414e-04 - val_mean_squared_error: 4.3414e-04\n",
            "Epoch 33/100\n",
            "124/124 [==============================] - 0s 4ms/step - loss: 4.2320e-04 - mean_squared_error: 4.2320e-04 - val_loss: 4.1805e-04 - val_mean_squared_error: 4.1805e-04\n",
            "Epoch 34/100\n",
            "124/124 [==============================] - 0s 4ms/step - loss: 4.2308e-04 - mean_squared_error: 4.2308e-04 - val_loss: 4.0549e-04 - val_mean_squared_error: 4.0549e-04\n",
            "Epoch 35/100\n",
            "124/124 [==============================] - 0s 4ms/step - loss: 4.2056e-04 - mean_squared_error: 4.2056e-04 - val_loss: 4.0895e-04 - val_mean_squared_error: 4.0895e-04\n",
            "Epoch 36/100\n",
            "124/124 [==============================] - 0s 4ms/step - loss: 4.2393e-04 - mean_squared_error: 4.2393e-04 - val_loss: 4.0374e-04 - val_mean_squared_error: 4.0374e-04\n",
            "Epoch 37/100\n",
            "124/124 [==============================] - 0s 4ms/step - loss: 4.2422e-04 - mean_squared_error: 4.2422e-04 - val_loss: 4.0683e-04 - val_mean_squared_error: 4.0683e-04\n",
            "Epoch 38/100\n",
            "124/124 [==============================] - 0s 4ms/step - loss: 4.2439e-04 - mean_squared_error: 4.2439e-04 - val_loss: 4.0784e-04 - val_mean_squared_error: 4.0784e-04\n",
            "Epoch 39/100\n",
            "124/124 [==============================] - 0s 4ms/step - loss: 4.2768e-04 - mean_squared_error: 4.2768e-04 - val_loss: 4.0536e-04 - val_mean_squared_error: 4.0536e-04\n",
            "Epoch 40/100\n",
            "124/124 [==============================] - 0s 4ms/step - loss: 4.1993e-04 - mean_squared_error: 4.1993e-04 - val_loss: 4.2423e-04 - val_mean_squared_error: 4.2423e-04\n",
            "Epoch 41/100\n",
            "124/124 [==============================] - 0s 4ms/step - loss: 4.2294e-04 - mean_squared_error: 4.2294e-04 - val_loss: 4.0393e-04 - val_mean_squared_error: 4.0393e-04\n",
            "Epoch 42/100\n",
            "124/124 [==============================] - 0s 4ms/step - loss: 4.2343e-04 - mean_squared_error: 4.2343e-04 - val_loss: 4.2753e-04 - val_mean_squared_error: 4.2753e-04\n",
            "Epoch 43/100\n",
            "124/124 [==============================] - 0s 4ms/step - loss: 4.2526e-04 - mean_squared_error: 4.2526e-04 - val_loss: 4.0395e-04 - val_mean_squared_error: 4.0395e-04\n",
            "Epoch 44/100\n",
            "124/124 [==============================] - 0s 4ms/step - loss: 4.2238e-04 - mean_squared_error: 4.2238e-04 - val_loss: 4.1471e-04 - val_mean_squared_error: 4.1471e-04\n",
            "Epoch 45/100\n",
            "124/124 [==============================] - 0s 4ms/step - loss: 4.2411e-04 - mean_squared_error: 4.2411e-04 - val_loss: 4.1087e-04 - val_mean_squared_error: 4.1087e-04\n",
            "Epoch 46/100\n",
            "124/124 [==============================] - 0s 4ms/step - loss: 4.2925e-04 - mean_squared_error: 4.2925e-04 - val_loss: 4.0376e-04 - val_mean_squared_error: 4.0376e-04\n",
            "Epoch 47/100\n",
            "124/124 [==============================] - 1s 4ms/step - loss: 4.2631e-04 - mean_squared_error: 4.2631e-04 - val_loss: 4.0989e-04 - val_mean_squared_error: 4.0989e-04\n",
            "Epoch 48/100\n",
            "124/124 [==============================] - 0s 4ms/step - loss: 4.2221e-04 - mean_squared_error: 4.2221e-04 - val_loss: 4.0942e-04 - val_mean_squared_error: 4.0942e-04\n",
            "Epoch 49/100\n",
            "124/124 [==============================] - 1s 4ms/step - loss: 4.2147e-04 - mean_squared_error: 4.2147e-04 - val_loss: 4.1139e-04 - val_mean_squared_error: 4.1139e-04\n",
            "Epoch 50/100\n",
            "124/124 [==============================] - 1s 4ms/step - loss: 4.2290e-04 - mean_squared_error: 4.2290e-04 - val_loss: 4.0449e-04 - val_mean_squared_error: 4.0449e-04\n",
            "Epoch 51/100\n",
            "124/124 [==============================] - 1s 4ms/step - loss: 4.2197e-04 - mean_squared_error: 4.2197e-04 - val_loss: 4.1000e-04 - val_mean_squared_error: 4.1000e-04\n",
            "Epoch 52/100\n",
            "124/124 [==============================] - 1s 4ms/step - loss: 4.2501e-04 - mean_squared_error: 4.2501e-04 - val_loss: 4.0370e-04 - val_mean_squared_error: 4.0370e-04\n",
            "Epoch 53/100\n",
            "124/124 [==============================] - 1s 4ms/step - loss: 4.2628e-04 - mean_squared_error: 4.2628e-04 - val_loss: 4.0396e-04 - val_mean_squared_error: 4.0396e-04\n",
            "Epoch 54/100\n",
            "124/124 [==============================] - 1s 4ms/step - loss: 4.2355e-04 - mean_squared_error: 4.2355e-04 - val_loss: 4.0472e-04 - val_mean_squared_error: 4.0472e-04\n",
            "Epoch 55/100\n",
            "124/124 [==============================] - 1s 4ms/step - loss: 4.2627e-04 - mean_squared_error: 4.2627e-04 - val_loss: 4.1211e-04 - val_mean_squared_error: 4.1211e-04\n",
            "Epoch 56/100\n",
            "124/124 [==============================] - 1s 4ms/step - loss: 4.2639e-04 - mean_squared_error: 4.2639e-04 - val_loss: 4.0461e-04 - val_mean_squared_error: 4.0461e-04\n",
            "Epoch 57/100\n",
            "124/124 [==============================] - 1s 4ms/step - loss: 4.2146e-04 - mean_squared_error: 4.2146e-04 - val_loss: 4.2353e-04 - val_mean_squared_error: 4.2353e-04\n",
            "Epoch 58/100\n",
            "124/124 [==============================] - 1s 4ms/step - loss: 4.2351e-04 - mean_squared_error: 4.2351e-04 - val_loss: 4.0422e-04 - val_mean_squared_error: 4.0422e-04\n",
            "Epoch 59/100\n",
            "124/124 [==============================] - 1s 4ms/step - loss: 4.2437e-04 - mean_squared_error: 4.2437e-04 - val_loss: 4.0769e-04 - val_mean_squared_error: 4.0769e-04\n",
            "Epoch 60/100\n",
            "124/124 [==============================] - 1s 4ms/step - loss: 4.2779e-04 - mean_squared_error: 4.2779e-04 - val_loss: 4.0374e-04 - val_mean_squared_error: 4.0374e-04\n",
            "Epoch 61/100\n",
            "124/124 [==============================] - 1s 4ms/step - loss: 4.2673e-04 - mean_squared_error: 4.2673e-04 - val_loss: 4.0732e-04 - val_mean_squared_error: 4.0732e-04\n",
            "Epoch 62/100\n",
            "124/124 [==============================] - 1s 4ms/step - loss: 4.2868e-04 - mean_squared_error: 4.2868e-04 - val_loss: 4.1160e-04 - val_mean_squared_error: 4.1160e-04\n",
            "Epoch 63/100\n",
            "124/124 [==============================] - 1s 4ms/step - loss: 4.2382e-04 - mean_squared_error: 4.2382e-04 - val_loss: 4.0475e-04 - val_mean_squared_error: 4.0475e-04\n",
            "Epoch 64/100\n",
            "124/124 [==============================] - 1s 4ms/step - loss: 4.2319e-04 - mean_squared_error: 4.2319e-04 - val_loss: 4.0968e-04 - val_mean_squared_error: 4.0968e-04\n",
            "Epoch 65/100\n",
            "124/124 [==============================] - 1s 4ms/step - loss: 4.2430e-04 - mean_squared_error: 4.2430e-04 - val_loss: 4.1181e-04 - val_mean_squared_error: 4.1181e-04\n",
            "Epoch 66/100\n",
            "124/124 [==============================] - 1s 4ms/step - loss: 4.2467e-04 - mean_squared_error: 4.2467e-04 - val_loss: 4.0803e-04 - val_mean_squared_error: 4.0803e-04\n",
            "Epoch 67/100\n",
            "124/124 [==============================] - 1s 4ms/step - loss: 4.2316e-04 - mean_squared_error: 4.2316e-04 - val_loss: 4.0397e-04 - val_mean_squared_error: 4.0397e-04\n",
            "Epoch 68/100\n",
            "124/124 [==============================] - 0s 4ms/step - loss: 4.2111e-04 - mean_squared_error: 4.2111e-04 - val_loss: 4.0389e-04 - val_mean_squared_error: 4.0389e-04\n",
            "Epoch 69/100\n",
            "124/124 [==============================] - 0s 4ms/step - loss: 4.2193e-04 - mean_squared_error: 4.2193e-04 - val_loss: 4.0869e-04 - val_mean_squared_error: 4.0869e-04\n",
            "Epoch 70/100\n",
            "124/124 [==============================] - 0s 4ms/step - loss: 4.2330e-04 - mean_squared_error: 4.2330e-04 - val_loss: 4.3572e-04 - val_mean_squared_error: 4.3572e-04\n",
            "Epoch 71/100\n",
            "124/124 [==============================] - 0s 4ms/step - loss: 4.2423e-04 - mean_squared_error: 4.2423e-04 - val_loss: 4.0372e-04 - val_mean_squared_error: 4.0372e-04\n",
            "Epoch 72/100\n",
            "124/124 [==============================] - 0s 4ms/step - loss: 4.2640e-04 - mean_squared_error: 4.2640e-04 - val_loss: 4.2348e-04 - val_mean_squared_error: 4.2348e-04\n",
            "Epoch 73/100\n",
            "124/124 [==============================] - 0s 4ms/step - loss: 4.2437e-04 - mean_squared_error: 4.2437e-04 - val_loss: 4.0370e-04 - val_mean_squared_error: 4.0370e-04\n",
            "Epoch 74/100\n",
            "124/124 [==============================] - 0s 4ms/step - loss: 4.2493e-04 - mean_squared_error: 4.2493e-04 - val_loss: 4.0363e-04 - val_mean_squared_error: 4.0363e-04\n",
            "Epoch 75/100\n",
            "124/124 [==============================] - 0s 4ms/step - loss: 4.2304e-04 - mean_squared_error: 4.2304e-04 - val_loss: 4.0545e-04 - val_mean_squared_error: 4.0545e-04\n",
            "Epoch 76/100\n",
            "124/124 [==============================] - 0s 4ms/step - loss: 4.2189e-04 - mean_squared_error: 4.2189e-04 - val_loss: 4.0960e-04 - val_mean_squared_error: 4.0960e-04\n",
            "Epoch 77/100\n",
            "124/124 [==============================] - 0s 4ms/step - loss: 4.2236e-04 - mean_squared_error: 4.2236e-04 - val_loss: 4.0386e-04 - val_mean_squared_error: 4.0386e-04\n",
            "Epoch 78/100\n",
            "124/124 [==============================] - 0s 4ms/step - loss: 4.2375e-04 - mean_squared_error: 4.2375e-04 - val_loss: 4.0568e-04 - val_mean_squared_error: 4.0568e-04\n",
            "Epoch 79/100\n",
            "124/124 [==============================] - 0s 4ms/step - loss: 4.2378e-04 - mean_squared_error: 4.2378e-04 - val_loss: 4.0644e-04 - val_mean_squared_error: 4.0644e-04\n",
            "Epoch 80/100\n",
            "124/124 [==============================] - 0s 4ms/step - loss: 4.2262e-04 - mean_squared_error: 4.2262e-04 - val_loss: 4.2064e-04 - val_mean_squared_error: 4.2064e-04\n",
            "Epoch 81/100\n",
            "124/124 [==============================] - 0s 4ms/step - loss: 4.2365e-04 - mean_squared_error: 4.2365e-04 - val_loss: 4.0500e-04 - val_mean_squared_error: 4.0500e-04\n",
            "Epoch 82/100\n",
            "124/124 [==============================] - 0s 4ms/step - loss: 4.2426e-04 - mean_squared_error: 4.2426e-04 - val_loss: 4.0613e-04 - val_mean_squared_error: 4.0613e-04\n",
            "Epoch 83/100\n",
            "124/124 [==============================] - 0s 4ms/step - loss: 4.2299e-04 - mean_squared_error: 4.2299e-04 - val_loss: 4.1211e-04 - val_mean_squared_error: 4.1211e-04\n",
            "Epoch 84/100\n",
            "124/124 [==============================] - 0s 4ms/step - loss: 4.2417e-04 - mean_squared_error: 4.2417e-04 - val_loss: 4.0374e-04 - val_mean_squared_error: 4.0374e-04\n",
            "Epoch 85/100\n",
            "124/124 [==============================] - 0s 4ms/step - loss: 4.2454e-04 - mean_squared_error: 4.2454e-04 - val_loss: 4.0708e-04 - val_mean_squared_error: 4.0708e-04\n",
            "Epoch 86/100\n",
            "124/124 [==============================] - 0s 4ms/step - loss: 4.2412e-04 - mean_squared_error: 4.2412e-04 - val_loss: 4.0386e-04 - val_mean_squared_error: 4.0386e-04\n",
            "Epoch 87/100\n",
            "124/124 [==============================] - 0s 4ms/step - loss: 4.2135e-04 - mean_squared_error: 4.2135e-04 - val_loss: 4.0415e-04 - val_mean_squared_error: 4.0415e-04\n",
            "Epoch 88/100\n",
            "124/124 [==============================] - 1s 4ms/step - loss: 4.2387e-04 - mean_squared_error: 4.2387e-04 - val_loss: 4.0364e-04 - val_mean_squared_error: 4.0364e-04\n",
            "Epoch 89/100\n",
            "124/124 [==============================] - 0s 4ms/step - loss: 4.2570e-04 - mean_squared_error: 4.2570e-04 - val_loss: 4.0419e-04 - val_mean_squared_error: 4.0419e-04\n",
            "Epoch 90/100\n",
            "124/124 [==============================] - 0s 4ms/step - loss: 4.2093e-04 - mean_squared_error: 4.2093e-04 - val_loss: 4.1141e-04 - val_mean_squared_error: 4.1141e-04\n",
            "Epoch 91/100\n",
            "124/124 [==============================] - 0s 4ms/step - loss: 4.2228e-04 - mean_squared_error: 4.2228e-04 - val_loss: 4.0643e-04 - val_mean_squared_error: 4.0643e-04\n",
            "Epoch 92/100\n",
            "124/124 [==============================] - 0s 4ms/step - loss: 4.2109e-04 - mean_squared_error: 4.2109e-04 - val_loss: 4.0411e-04 - val_mean_squared_error: 4.0411e-04\n",
            "Epoch 93/100\n",
            "124/124 [==============================] - 0s 4ms/step - loss: 4.2229e-04 - mean_squared_error: 4.2229e-04 - val_loss: 4.0534e-04 - val_mean_squared_error: 4.0534e-04\n",
            "Epoch 94/100\n",
            "124/124 [==============================] - 1s 4ms/step - loss: 4.2087e-04 - mean_squared_error: 4.2087e-04 - val_loss: 4.0892e-04 - val_mean_squared_error: 4.0892e-04\n",
            "Epoch 95/100\n",
            "124/124 [==============================] - 1s 4ms/step - loss: 4.2300e-04 - mean_squared_error: 4.2300e-04 - val_loss: 4.1082e-04 - val_mean_squared_error: 4.1082e-04\n",
            "Epoch 96/100\n",
            "124/124 [==============================] - 0s 4ms/step - loss: 4.2153e-04 - mean_squared_error: 4.2153e-04 - val_loss: 4.1812e-04 - val_mean_squared_error: 4.1812e-04\n",
            "Epoch 97/100\n",
            "124/124 [==============================] - 0s 4ms/step - loss: 4.2334e-04 - mean_squared_error: 4.2334e-04 - val_loss: 4.1392e-04 - val_mean_squared_error: 4.1392e-04\n",
            "Epoch 98/100\n",
            "124/124 [==============================] - 0s 4ms/step - loss: 4.2210e-04 - mean_squared_error: 4.2210e-04 - val_loss: 4.0382e-04 - val_mean_squared_error: 4.0382e-04\n",
            "Epoch 99/100\n",
            "124/124 [==============================] - 0s 4ms/step - loss: 4.2238e-04 - mean_squared_error: 4.2238e-04 - val_loss: 4.1691e-04 - val_mean_squared_error: 4.1691e-04\n",
            "Epoch 100/100\n",
            "124/124 [==============================] - 0s 4ms/step - loss: 4.2193e-04 - mean_squared_error: 4.2193e-04 - val_loss: 4.1718e-04 - val_mean_squared_error: 4.1718e-04\n"
          ],
          "name": "stdout"
        }
      ]
    },
    {
      "cell_type": "code",
      "metadata": {
        "colab_type": "code",
        "id": "U2hs0SHiXBdY",
        "colab": {}
      },
      "source": [
        "#predict on validation data\n",
        "val_prediction = model.predict(X_val)"
      ],
      "execution_count": null,
      "outputs": []
    },
    {
      "cell_type": "code",
      "metadata": {
        "colab_type": "code",
        "id": "meRbm5qAXBdf",
        "colab": {
          "base_uri": "https://localhost:8080/",
          "height": 34
        },
        "outputId": "4049b39d-1302-4be1-a8d5-b1c24b1ac78d"
      },
      "source": [
        "print('The validation mean squared error is ', mean_squared_error(Y_val, val_prediction))"
      ],
      "execution_count": null,
      "outputs": [
        {
          "output_type": "stream",
          "text": [
            "The validation mean squared error is  0.00041718491361223146\n"
          ],
          "name": "stdout"
        }
      ]
    },
    {
      "cell_type": "code",
      "metadata": {
        "colab_type": "code",
        "id": "zyZofxlsXBdj",
        "colab": {}
      },
      "source": [
        "#evaluate on test data\n",
        "test_prediction = model.predict(X_test)"
      ],
      "execution_count": null,
      "outputs": []
    },
    {
      "cell_type": "code",
      "metadata": {
        "colab_type": "code",
        "id": "-lrDZz1WXBdu",
        "colab": {
          "base_uri": "https://localhost:8080/",
          "height": 34
        },
        "outputId": "12a7d1ab-6e8e-4695-e65f-af18730e011a"
      },
      "source": [
        " print('The testing mean squared error is ', mean_squared_error(Y_test, test_prediction))"
      ],
      "execution_count": null,
      "outputs": [
        {
          "output_type": "stream",
          "text": [
            "The testing mean squared error is  0.0005889007004788525\n"
          ],
          "name": "stdout"
        }
      ]
    },
    {
      "cell_type": "code",
      "metadata": {
        "colab_type": "code",
        "id": "w8JjgxZgXBdz",
        "colab": {
          "base_uri": "https://localhost:8080/",
          "height": 404
        },
        "outputId": "5eab24e1-f5d0-4884-af1d-f1ee21e59160"
      },
      "source": [
        "#plot the mean square errors per the epochs\n",
        "plt.figure(figsize=(6,6))\n",
        "plt.plot(history.history['mean_squared_error'])\n",
        "plt.title('Model loss')\n",
        "plt.ylabel('Mean Squared Error')\n",
        "plt.xlabel('Epoch')\n",
        "plt.savefig('loss1')\n",
        "plt.show()"
      ],
      "execution_count": null,
      "outputs": [
        {
          "output_type": "display_data",
          "data": {
            "image/png": "[encoded data removed]",
            "text/plain": [
              "<Figure size 432x432 with 1 Axes>"
            ]
          },
          "metadata": {
            "tags": [],
            "needs_background": "light"
          }
        }
      ]
    },
    {
      "cell_type": "code",
      "metadata": {
        "colab_type": "code",
        "id": "XbT0GKwWXBd_",
        "colab": {
          "base_uri": "https://localhost:8080/",
          "height": 374
        },
        "outputId": "9fbd8172-8da2-406b-e910-e8901fd16c21"
      },
      "source": [
        "#plot the validation and training loss per epoch\n",
        "plot_hist(history.history, xsize=8, ysize=12)\n",
        "plt.show()"
      ],
      "execution_count": null,
      "outputs": [
        {
          "output_type": "display_data",
          "data": {
            "image/png": "[encoded data removed]",
            "text/plain": [
              "<Figure size 576x864 with 1 Axes>"
            ]
          },
          "metadata": {
            "tags": [],
            "needs_background": "light"
          }
        }
      ]
    },
    {
      "cell_type": "markdown",
      "metadata": {
        "id": "1kVZjzpCz7Qd",
        "colab_type": "text"
      },
      "source": [
        "#**MLP MODEL JPM**"
      ]
    },
    {
      "cell_type": "markdown",
      "metadata": {
        "id": "JdXSfPvkFFhC",
        "colab_type": "text"
      },
      "source": [
        "Creating the neural network"
      ]
    },
    {
      "cell_type": "code",
      "metadata": {
        "colab_type": "code",
        "id": "_mRkoMgBiY7T",
        "colab": {}
      },
      "source": [
        "def baseline():\n",
        "    # create model\n",
        "    model = Sequential()\n",
        "    \n",
        "    model.add(Dense(units = 1, input_dim=1, activation='linear'))\n",
        "    model.add(Dense(units = 1, input_dim=1, activation='tanh'))\n",
        "  \n",
        "    #a fully connected layer for the output\n",
        "    model.add(Dense(1, activation='linear'))\n",
        "    \n",
        "\n",
        "    # Compile model\n",
        "    model.compile(loss='mean_squared_error', optimizer='adam',metrics=[metrics.mse])\n",
        "    \n",
        "    return model"
      ],
      "execution_count": null,
      "outputs": []
    },
    {
      "cell_type": "code",
      "metadata": {
        "colab_type": "code",
        "id": "FYuxhgAviY7Z",
        "colab": {}
      },
      "source": [
        "model = baseline()"
      ],
      "execution_count": null,
      "outputs": []
    },
    {
      "cell_type": "code",
      "metadata": {
        "colab_type": "code",
        "id": "vMZqlmYDiY7f",
        "colab": {
          "base_uri": "https://localhost:8080/",
          "height": 260
        },
        "outputId": "a29f31d3-b4f0-4c87-f19b-30194322b0ed"
      },
      "source": [
        "model.summary() #View model parameters"
      ],
      "execution_count": null,
      "outputs": [
        {
          "output_type": "stream",
          "text": [
            "Model: \"sequential_13\"\n",
            "_________________________________________________________________\n",
            "Layer (type)                 Output Shape              Param #   \n",
            "=================================================================\n",
            "dense_39 (Dense)             (None, 1)                 2         \n",
            "_________________________________________________________________\n",
            "dense_40 (Dense)             (None, 1)                 2         \n",
            "_________________________________________________________________\n",
            "dense_41 (Dense)             (None, 1)                 2         \n",
            "=================================================================\n",
            "Total params: 6\n",
            "Trainable params: 6\n",
            "Non-trainable params: 0\n",
            "_________________________________________________________________\n"
          ],
          "name": "stdout"
        }
      ]
    },
    {
      "cell_type": "code",
      "metadata": {
        "colab_type": "code",
        "id": "RI-ff1DViY7m",
        "colab": {
          "base_uri": "https://localhost:8080/",
          "height": 1000
        },
        "outputId": "900bc098-874a-4c81-99d6-3f84c5ded32a"
      },
      "source": [
        "#train the model and calculate loss at each epoch\n",
        "history = model.fit(X_train, J_train,validation_data=(X_val,J_val),batch_size=20,epochs=60)  "
      ],
      "execution_count": null,
      "outputs": [
        {
          "output_type": "stream",
          "text": [
            "Epoch 1/60\n",
            "124/124 [==============================] - 0s 2ms/step - loss: 0.0028 - mean_squared_error: 0.0028 - val_loss: 0.0024 - val_mean_squared_error: 0.0024\n",
            "Epoch 2/60\n",
            "124/124 [==============================] - 0s 2ms/step - loss: 0.0023 - mean_squared_error: 0.0023 - val_loss: 0.0020 - val_mean_squared_error: 0.0020\n",
            "Epoch 3/60\n",
            "124/124 [==============================] - 0s 2ms/step - loss: 0.0019 - mean_squared_error: 0.0019 - val_loss: 0.0017 - val_mean_squared_error: 0.0017\n",
            "Epoch 4/60\n",
            "124/124 [==============================] - 0s 2ms/step - loss: 0.0016 - mean_squared_error: 0.0016 - val_loss: 0.0015 - val_mean_squared_error: 0.0015\n",
            "Epoch 5/60\n",
            "124/124 [==============================] - 0s 2ms/step - loss: 0.0014 - mean_squared_error: 0.0014 - val_loss: 0.0013 - val_mean_squared_error: 0.0013\n",
            "Epoch 6/60\n",
            "124/124 [==============================] - 0s 2ms/step - loss: 0.0013 - mean_squared_error: 0.0013 - val_loss: 0.0012 - val_mean_squared_error: 0.0012\n",
            "Epoch 7/60\n",
            "124/124 [==============================] - 0s 2ms/step - loss: 0.0011 - mean_squared_error: 0.0011 - val_loss: 0.0010 - val_mean_squared_error: 0.0010\n",
            "Epoch 8/60\n",
            "124/124 [==============================] - 0s 2ms/step - loss: 0.0010 - mean_squared_error: 0.0010 - val_loss: 9.7478e-04 - val_mean_squared_error: 9.7478e-04\n",
            "Epoch 9/60\n",
            "124/124 [==============================] - 0s 2ms/step - loss: 9.7324e-04 - mean_squared_error: 9.7324e-04 - val_loss: 9.0709e-04 - val_mean_squared_error: 9.0709e-04\n",
            "Epoch 10/60\n",
            "124/124 [==============================] - 0s 2ms/step - loss: 9.1482e-04 - mean_squared_error: 9.1482e-04 - val_loss: 8.5148e-04 - val_mean_squared_error: 8.5148e-04\n",
            "Epoch 11/60\n",
            "124/124 [==============================] - 0s 2ms/step - loss: 8.6440e-04 - mean_squared_error: 8.6440e-04 - val_loss: 8.0801e-04 - val_mean_squared_error: 8.0801e-04\n",
            "Epoch 12/60\n",
            "124/124 [==============================] - 0s 2ms/step - loss: 8.2270e-04 - mean_squared_error: 8.2270e-04 - val_loss: 7.7815e-04 - val_mean_squared_error: 7.7815e-04\n",
            "Epoch 13/60\n",
            "124/124 [==============================] - 0s 2ms/step - loss: 7.9047e-04 - mean_squared_error: 7.9047e-04 - val_loss: 7.4582e-04 - val_mean_squared_error: 7.4582e-04\n",
            "Epoch 14/60\n",
            "124/124 [==============================] - 0s 2ms/step - loss: 7.5544e-04 - mean_squared_error: 7.5544e-04 - val_loss: 7.1580e-04 - val_mean_squared_error: 7.1580e-04\n",
            "Epoch 15/60\n",
            "124/124 [==============================] - 0s 2ms/step - loss: 7.3168e-04 - mean_squared_error: 7.3168e-04 - val_loss: 6.8892e-04 - val_mean_squared_error: 6.8892e-04\n",
            "Epoch 16/60\n",
            "124/124 [==============================] - 0s 2ms/step - loss: 7.0965e-04 - mean_squared_error: 7.0965e-04 - val_loss: 6.6713e-04 - val_mean_squared_error: 6.6713e-04\n",
            "Epoch 17/60\n",
            "124/124 [==============================] - 0s 2ms/step - loss: 6.8685e-04 - mean_squared_error: 6.8685e-04 - val_loss: 6.5055e-04 - val_mean_squared_error: 6.5055e-04\n",
            "Epoch 18/60\n",
            "124/124 [==============================] - 0s 2ms/step - loss: 6.6994e-04 - mean_squared_error: 6.6994e-04 - val_loss: 6.2858e-04 - val_mean_squared_error: 6.2858e-04\n",
            "Epoch 19/60\n",
            "124/124 [==============================] - 0s 2ms/step - loss: 6.5020e-04 - mean_squared_error: 6.5020e-04 - val_loss: 6.2966e-04 - val_mean_squared_error: 6.2966e-04\n",
            "Epoch 20/60\n",
            "124/124 [==============================] - 0s 2ms/step - loss: 6.3149e-04 - mean_squared_error: 6.3149e-04 - val_loss: 5.9319e-04 - val_mean_squared_error: 5.9319e-04\n",
            "Epoch 21/60\n",
            "124/124 [==============================] - 0s 2ms/step - loss: 6.1233e-04 - mean_squared_error: 6.1233e-04 - val_loss: 5.7461e-04 - val_mean_squared_error: 5.7461e-04\n",
            "Epoch 22/60\n",
            "124/124 [==============================] - 0s 2ms/step - loss: 5.9475e-04 - mean_squared_error: 5.9475e-04 - val_loss: 5.5634e-04 - val_mean_squared_error: 5.5634e-04\n",
            "Epoch 23/60\n",
            "124/124 [==============================] - 0s 2ms/step - loss: 5.7410e-04 - mean_squared_error: 5.7410e-04 - val_loss: 5.3255e-04 - val_mean_squared_error: 5.3255e-04\n",
            "Epoch 24/60\n",
            "124/124 [==============================] - 0s 2ms/step - loss: 5.4980e-04 - mean_squared_error: 5.4980e-04 - val_loss: 5.0781e-04 - val_mean_squared_error: 5.0781e-04\n",
            "Epoch 25/60\n",
            "124/124 [==============================] - 0s 2ms/step - loss: 5.2369e-04 - mean_squared_error: 5.2369e-04 - val_loss: 4.7994e-04 - val_mean_squared_error: 4.7994e-04\n",
            "Epoch 26/60\n",
            "124/124 [==============================] - 0s 2ms/step - loss: 4.8929e-04 - mean_squared_error: 4.8929e-04 - val_loss: 4.4491e-04 - val_mean_squared_error: 4.4491e-04\n",
            "Epoch 27/60\n",
            "124/124 [==============================] - 0s 2ms/step - loss: 4.5479e-04 - mean_squared_error: 4.5479e-04 - val_loss: 4.1361e-04 - val_mean_squared_error: 4.1361e-04\n",
            "Epoch 28/60\n",
            "124/124 [==============================] - 0s 2ms/step - loss: 4.1675e-04 - mean_squared_error: 4.1675e-04 - val_loss: 3.6929e-04 - val_mean_squared_error: 3.6929e-04\n",
            "Epoch 29/60\n",
            "124/124 [==============================] - 0s 2ms/step - loss: 3.7397e-04 - mean_squared_error: 3.7397e-04 - val_loss: 3.3194e-04 - val_mean_squared_error: 3.3194e-04\n",
            "Epoch 30/60\n",
            "124/124 [==============================] - 0s 2ms/step - loss: 3.3980e-04 - mean_squared_error: 3.3980e-04 - val_loss: 2.9761e-04 - val_mean_squared_error: 2.9761e-04\n",
            "Epoch 31/60\n",
            "124/124 [==============================] - 0s 2ms/step - loss: 3.1448e-04 - mean_squared_error: 3.1448e-04 - val_loss: 2.7588e-04 - val_mean_squared_error: 2.7588e-04\n",
            "Epoch 32/60\n",
            "124/124 [==============================] - 0s 2ms/step - loss: 2.9711e-04 - mean_squared_error: 2.9711e-04 - val_loss: 2.6744e-04 - val_mean_squared_error: 2.6744e-04\n",
            "Epoch 33/60\n",
            "124/124 [==============================] - 0s 2ms/step - loss: 2.8808e-04 - mean_squared_error: 2.8808e-04 - val_loss: 2.5901e-04 - val_mean_squared_error: 2.5901e-04\n",
            "Epoch 34/60\n",
            "124/124 [==============================] - 0s 2ms/step - loss: 2.8458e-04 - mean_squared_error: 2.8458e-04 - val_loss: 2.5456e-04 - val_mean_squared_error: 2.5456e-04\n",
            "Epoch 35/60\n",
            "124/124 [==============================] - 0s 2ms/step - loss: 2.8404e-04 - mean_squared_error: 2.8404e-04 - val_loss: 2.6297e-04 - val_mean_squared_error: 2.6297e-04\n",
            "Epoch 36/60\n",
            "124/124 [==============================] - 0s 2ms/step - loss: 2.8041e-04 - mean_squared_error: 2.8041e-04 - val_loss: 2.5080e-04 - val_mean_squared_error: 2.5080e-04\n",
            "Epoch 37/60\n",
            "124/124 [==============================] - 0s 2ms/step - loss: 2.7942e-04 - mean_squared_error: 2.7942e-04 - val_loss: 2.5178e-04 - val_mean_squared_error: 2.5178e-04\n",
            "Epoch 38/60\n",
            "124/124 [==============================] - 0s 2ms/step - loss: 2.8209e-04 - mean_squared_error: 2.8209e-04 - val_loss: 2.5045e-04 - val_mean_squared_error: 2.5045e-04\n",
            "Epoch 39/60\n",
            "124/124 [==============================] - 0s 2ms/step - loss: 2.8047e-04 - mean_squared_error: 2.8047e-04 - val_loss: 2.6744e-04 - val_mean_squared_error: 2.6744e-04\n",
            "Epoch 40/60\n",
            "124/124 [==============================] - 0s 2ms/step - loss: 2.7992e-04 - mean_squared_error: 2.7992e-04 - val_loss: 2.5347e-04 - val_mean_squared_error: 2.5347e-04\n",
            "Epoch 41/60\n",
            "124/124 [==============================] - 0s 2ms/step - loss: 2.7908e-04 - mean_squared_error: 2.7908e-04 - val_loss: 2.5353e-04 - val_mean_squared_error: 2.5353e-04\n",
            "Epoch 42/60\n",
            "124/124 [==============================] - 0s 2ms/step - loss: 2.8047e-04 - mean_squared_error: 2.8047e-04 - val_loss: 2.7196e-04 - val_mean_squared_error: 2.7196e-04\n",
            "Epoch 43/60\n",
            "124/124 [==============================] - 0s 2ms/step - loss: 2.9056e-04 - mean_squared_error: 2.9056e-04 - val_loss: 2.5025e-04 - val_mean_squared_error: 2.5025e-04\n",
            "Epoch 44/60\n",
            "124/124 [==============================] - 0s 2ms/step - loss: 2.7809e-04 - mean_squared_error: 2.7809e-04 - val_loss: 2.7639e-04 - val_mean_squared_error: 2.7639e-04\n",
            "Epoch 45/60\n",
            "124/124 [==============================] - 0s 2ms/step - loss: 2.8215e-04 - mean_squared_error: 2.8215e-04 - val_loss: 2.5341e-04 - val_mean_squared_error: 2.5341e-04\n",
            "Epoch 46/60\n",
            "124/124 [==============================] - 0s 2ms/step - loss: 2.8332e-04 - mean_squared_error: 2.8332e-04 - val_loss: 2.5081e-04 - val_mean_squared_error: 2.5081e-04\n",
            "Epoch 47/60\n",
            "124/124 [==============================] - 0s 2ms/step - loss: 2.7817e-04 - mean_squared_error: 2.7817e-04 - val_loss: 2.5027e-04 - val_mean_squared_error: 2.5027e-04\n",
            "Epoch 48/60\n",
            "124/124 [==============================] - 0s 2ms/step - loss: 2.7830e-04 - mean_squared_error: 2.7830e-04 - val_loss: 2.5565e-04 - val_mean_squared_error: 2.5565e-04\n",
            "Epoch 49/60\n",
            "124/124 [==============================] - 0s 2ms/step - loss: 2.7963e-04 - mean_squared_error: 2.7963e-04 - val_loss: 2.5028e-04 - val_mean_squared_error: 2.5028e-04\n",
            "Epoch 50/60\n",
            "124/124 [==============================] - 0s 2ms/step - loss: 2.7845e-04 - mean_squared_error: 2.7845e-04 - val_loss: 2.5041e-04 - val_mean_squared_error: 2.5041e-04\n",
            "Epoch 51/60\n",
            "124/124 [==============================] - 0s 2ms/step - loss: 2.7808e-04 - mean_squared_error: 2.7808e-04 - val_loss: 2.5151e-04 - val_mean_squared_error: 2.5151e-04\n",
            "Epoch 52/60\n",
            "124/124 [==============================] - 0s 2ms/step - loss: 2.7826e-04 - mean_squared_error: 2.7826e-04 - val_loss: 2.5055e-04 - val_mean_squared_error: 2.5055e-04\n",
            "Epoch 53/60\n",
            "124/124 [==============================] - 0s 2ms/step - loss: 2.7951e-04 - mean_squared_error: 2.7951e-04 - val_loss: 2.5236e-04 - val_mean_squared_error: 2.5236e-04\n",
            "Epoch 54/60\n",
            "124/124 [==============================] - 0s 2ms/step - loss: 2.7813e-04 - mean_squared_error: 2.7813e-04 - val_loss: 2.5269e-04 - val_mean_squared_error: 2.5269e-04\n",
            "Epoch 55/60\n",
            "124/124 [==============================] - 0s 2ms/step - loss: 2.7852e-04 - mean_squared_error: 2.7852e-04 - val_loss: 2.5084e-04 - val_mean_squared_error: 2.5084e-04\n",
            "Epoch 56/60\n",
            "124/124 [==============================] - 0s 2ms/step - loss: 2.7905e-04 - mean_squared_error: 2.7905e-04 - val_loss: 2.5110e-04 - val_mean_squared_error: 2.5110e-04\n",
            "Epoch 57/60\n",
            "124/124 [==============================] - 0s 2ms/step - loss: 2.8184e-04 - mean_squared_error: 2.8184e-04 - val_loss: 2.5128e-04 - val_mean_squared_error: 2.5128e-04\n",
            "Epoch 58/60\n",
            "124/124 [==============================] - 0s 2ms/step - loss: 2.7939e-04 - mean_squared_error: 2.7939e-04 - val_loss: 2.5167e-04 - val_mean_squared_error: 2.5167e-04\n",
            "Epoch 59/60\n",
            "124/124 [==============================] - 0s 2ms/step - loss: 2.8086e-04 - mean_squared_error: 2.8086e-04 - val_loss: 2.5023e-04 - val_mean_squared_error: 2.5023e-04\n",
            "Epoch 60/60\n",
            "124/124 [==============================] - 0s 2ms/step - loss: 2.7948e-04 - mean_squared_error: 2.7948e-04 - val_loss: 2.5152e-04 - val_mean_squared_error: 2.5152e-04\n"
          ],
          "name": "stdout"
        }
      ]
    },
    {
      "cell_type": "code",
      "metadata": {
        "colab_type": "code",
        "id": "CvH5iJzpiY7t",
        "colab": {}
      },
      "source": [
        "#predict on validation data\n",
        "val_prediction = model.predict(X_val)\n"
      ],
      "execution_count": null,
      "outputs": []
    },
    {
      "cell_type": "code",
      "metadata": {
        "colab_type": "code",
        "id": "Ksby4-BOiY7y",
        "colab": {
          "base_uri": "https://localhost:8080/",
          "height": 34
        },
        "outputId": "50f7905b-8e7e-4bee-f8be-54d15328edc2"
      },
      "source": [
        "print('The validation mean squared error is ', mean_squared_error(J_val, val_prediction))"
      ],
      "execution_count": null,
      "outputs": [
        {
          "output_type": "stream",
          "text": [
            "The validation mean squared error is  0.0002515243741389263\n"
          ],
          "name": "stdout"
        }
      ]
    },
    {
      "cell_type": "code",
      "metadata": {
        "colab_type": "code",
        "id": "WQaxuHrZiY76",
        "colab": {}
      },
      "source": [
        "#evaluate on test data\n",
        "test_prediction = model.predict(X_test)"
      ],
      "execution_count": null,
      "outputs": []
    },
    {
      "cell_type": "code",
      "metadata": {
        "colab_type": "code",
        "id": "OItYRml5iY8A",
        "colab": {
          "base_uri": "https://localhost:8080/",
          "height": 34
        },
        "outputId": "c208cf82-a3f3-4614-ed8c-f751582cc4a1"
      },
      "source": [
        "print('The testing mean squared error is ', mean_squared_error(J_test, test_prediction))"
      ],
      "execution_count": null,
      "outputs": [
        {
          "output_type": "stream",
          "text": [
            "The testing mean squared error is  0.00025840548960887625\n"
          ],
          "name": "stdout"
        }
      ]
    },
    {
      "cell_type": "code",
      "metadata": {
        "colab_type": "code",
        "id": "pFOGbwIaiY8F",
        "colab": {
          "base_uri": "https://localhost:8080/",
          "height": 404
        },
        "outputId": "a731a874-bee5-42eb-c07a-c7bf07ca4f09"
      },
      "source": [
        "#plot the mean square errors per the epochs\n",
        "plt.figure(figsize=(6,6))\n",
        "plt.plot(history.history['mean_squared_error'])\n",
        "plt.title('Model loss')\n",
        "plt.ylabel('Mean Squared Error')\n",
        "plt.xlabel('Epoch')\n",
        "plt.savefig('loss1')\n",
        "plt.show()"
      ],
      "execution_count": null,
      "outputs": [
        {
          "output_type": "display_data",
          "data": {
            "image/png": "[encoded data removed]",
            "text/plain": [
              "<Figure size 432x432 with 1 Axes>"
            ]
          },
          "metadata": {
            "tags": [],
            "needs_background": "light"
          }
        }
      ]
    },
    {
      "cell_type": "code",
      "metadata": {
        "colab_type": "code",
        "id": "cSc9INXliY8M",
        "colab": {
          "base_uri": "https://localhost:8080/",
          "height": 374
        },
        "outputId": "1878586b-9fe1-4e3b-a1d8-8b9dd0b962e3"
      },
      "source": [
        "##plot of the validation adn training loss per epoch\n",
        "plot_hist(history.history, xsize=8, ysize=12)\n",
        "plt.show()"
      ],
      "execution_count": null,
      "outputs": [
        {
          "output_type": "display_data",
          "data": {
            "image/png": "[encoded data removed]",
            "text/plain": [
              "<Figure size 576x864 with 1 Axes>"
            ]
          },
          "metadata": {
            "tags": [],
            "needs_background": "light"
          }
        }
      ]
    },
    {
      "cell_type": "code",
      "metadata": {
        "id": "AyLnXWPtBgeS",
        "colab_type": "code",
        "colab": {}
      },
      "source": [
        ""
      ],
      "execution_count": null,
      "outputs": []
    },
    {
      "cell_type": "code",
      "metadata": {
        "colab_type": "code",
        "id": "xFqEfx9OBg16",
        "colab": {}
      },
      "source": [
        "def baseline():\n",
        "    # create model\n",
        "    model = Sequential()\n",
        "    \n",
        "    model.add(Dense(units = 1, input_dim=1, activation='linear'))\n",
        "    model.add(Dense(units = 1, input_dim=1, activation='tanh'))\n",
        "  \n",
        "    #a fully connected layer for the output\n",
        "    model.add(Dense(1, activation='linear'))\n",
        "    \n",
        "\n",
        "    # Compile model\n",
        "    model.compile(loss='mean_squared_error', optimizer='adam',metrics=[metrics.mse])\n",
        "    \n",
        "    return model"
      ],
      "execution_count": null,
      "outputs": []
    },
    {
      "cell_type": "code",
      "metadata": {
        "colab_type": "code",
        "id": "mvSjIyV1Bg2Q",
        "colab": {}
      },
      "source": [
        "model = baseline()"
      ],
      "execution_count": null,
      "outputs": []
    },
    {
      "cell_type": "code",
      "metadata": {
        "colab_type": "code",
        "id": "usog1BbrBg2f",
        "colab": {
          "base_uri": "https://localhost:8080/",
          "height": 260
        },
        "outputId": "1dee2567-f986-46f9-b104-86419caefa38"
      },
      "source": [
        "model.summary() #View model parameters"
      ],
      "execution_count": null,
      "outputs": [
        {
          "output_type": "stream",
          "text": [
            "Model: \"sequential_4\"\n",
            "_________________________________________________________________\n",
            "Layer (type)                 Output Shape              Param #   \n",
            "=================================================================\n",
            "dense_12 (Dense)             (None, 1)                 2         \n",
            "_________________________________________________________________\n",
            "dense_13 (Dense)             (None, 1)                 2         \n",
            "_________________________________________________________________\n",
            "dense_14 (Dense)             (None, 1)                 2         \n",
            "=================================================================\n",
            "Total params: 6\n",
            "Trainable params: 6\n",
            "Non-trainable params: 0\n",
            "_________________________________________________________________\n"
          ],
          "name": "stdout"
        }
      ]
    },
    {
      "cell_type": "code",
      "metadata": {
        "colab_type": "code",
        "id": "GBlEmVOPBg2r",
        "colab": {
          "base_uri": "https://localhost:8080/",
          "height": 1000
        },
        "outputId": "32c251ac-56f9-477a-dd67-3d9e860c0139"
      },
      "source": [
        "#train the model and calculate loss at each epoch\n",
        "history = model.fit(X_train, J_train,validation_data=(X_val,J_val),batch_size=20,epochs=100)  "
      ],
      "execution_count": null,
      "outputs": [
        {
          "output_type": "stream",
          "text": [
            "Epoch 1/100\n",
            "124/124 [==============================] - 1s 4ms/step - loss: 9.3222e-04 - mean_squared_error: 9.3222e-04 - val_loss: 0.0011 - val_mean_squared_error: 0.0011\n",
            "Epoch 2/100\n",
            "124/124 [==============================] - 0s 4ms/step - loss: 8.2464e-04 - mean_squared_error: 8.2464e-04 - val_loss: 9.4846e-04 - val_mean_squared_error: 9.4846e-04\n",
            "Epoch 3/100\n",
            "124/124 [==============================] - 0s 4ms/step - loss: 7.5858e-04 - mean_squared_error: 7.5858e-04 - val_loss: 9.0083e-04 - val_mean_squared_error: 9.0083e-04\n",
            "Epoch 4/100\n",
            "124/124 [==============================] - 0s 4ms/step - loss: 7.1804e-04 - mean_squared_error: 7.1804e-04 - val_loss: 8.3419e-04 - val_mean_squared_error: 8.3419e-04\n",
            "Epoch 5/100\n",
            "124/124 [==============================] - 0s 4ms/step - loss: 6.8239e-04 - mean_squared_error: 6.8239e-04 - val_loss: 8.0391e-04 - val_mean_squared_error: 8.0391e-04\n",
            "Epoch 6/100\n",
            "124/124 [==============================] - 0s 4ms/step - loss: 6.6034e-04 - mean_squared_error: 6.6034e-04 - val_loss: 7.8093e-04 - val_mean_squared_error: 7.8093e-04\n",
            "Epoch 7/100\n",
            "124/124 [==============================] - 1s 4ms/step - loss: 6.4418e-04 - mean_squared_error: 6.4418e-04 - val_loss: 7.6839e-04 - val_mean_squared_error: 7.6839e-04\n",
            "Epoch 8/100\n",
            "124/124 [==============================] - 0s 4ms/step - loss: 6.2897e-04 - mean_squared_error: 6.2897e-04 - val_loss: 7.6531e-04 - val_mean_squared_error: 7.6531e-04\n",
            "Epoch 9/100\n",
            "124/124 [==============================] - 0s 4ms/step - loss: 6.2287e-04 - mean_squared_error: 6.2287e-04 - val_loss: 7.4960e-04 - val_mean_squared_error: 7.4960e-04\n",
            "Epoch 10/100\n",
            "124/124 [==============================] - 0s 4ms/step - loss: 6.1066e-04 - mean_squared_error: 6.1066e-04 - val_loss: 7.3488e-04 - val_mean_squared_error: 7.3488e-04\n",
            "Epoch 11/100\n",
            "124/124 [==============================] - 0s 4ms/step - loss: 6.1012e-04 - mean_squared_error: 6.1012e-04 - val_loss: 7.2880e-04 - val_mean_squared_error: 7.2880e-04\n",
            "Epoch 12/100\n",
            "124/124 [==============================] - 1s 4ms/step - loss: 6.0593e-04 - mean_squared_error: 6.0593e-04 - val_loss: 7.2967e-04 - val_mean_squared_error: 7.2967e-04\n",
            "Epoch 13/100\n",
            "124/124 [==============================] - 0s 4ms/step - loss: 5.9637e-04 - mean_squared_error: 5.9637e-04 - val_loss: 7.3113e-04 - val_mean_squared_error: 7.3113e-04\n",
            "Epoch 14/100\n",
            "124/124 [==============================] - 0s 4ms/step - loss: 5.9527e-04 - mean_squared_error: 5.9527e-04 - val_loss: 7.3153e-04 - val_mean_squared_error: 7.3153e-04\n",
            "Epoch 15/100\n",
            "124/124 [==============================] - 0s 4ms/step - loss: 5.8982e-04 - mean_squared_error: 5.8982e-04 - val_loss: 7.0858e-04 - val_mean_squared_error: 7.0858e-04\n",
            "Epoch 16/100\n",
            "124/124 [==============================] - 0s 4ms/step - loss: 5.8520e-04 - mean_squared_error: 5.8520e-04 - val_loss: 6.9683e-04 - val_mean_squared_error: 6.9683e-04\n",
            "Epoch 17/100\n",
            "124/124 [==============================] - 0s 4ms/step - loss: 5.7457e-04 - mean_squared_error: 5.7457e-04 - val_loss: 6.9475e-04 - val_mean_squared_error: 6.9475e-04\n",
            "Epoch 18/100\n",
            "124/124 [==============================] - 0s 4ms/step - loss: 5.5989e-04 - mean_squared_error: 5.5989e-04 - val_loss: 6.6347e-04 - val_mean_squared_error: 6.6347e-04\n",
            "Epoch 19/100\n",
            "124/124 [==============================] - 0s 4ms/step - loss: 5.2995e-04 - mean_squared_error: 5.2995e-04 - val_loss: 6.2145e-04 - val_mean_squared_error: 6.2145e-04\n",
            "Epoch 20/100\n",
            "124/124 [==============================] - 0s 4ms/step - loss: 4.8171e-04 - mean_squared_error: 4.8171e-04 - val_loss: 5.4157e-04 - val_mean_squared_error: 5.4157e-04\n",
            "Epoch 21/100\n",
            "124/124 [==============================] - 0s 4ms/step - loss: 4.2059e-04 - mean_squared_error: 4.2059e-04 - val_loss: 4.5690e-04 - val_mean_squared_error: 4.5690e-04\n",
            "Epoch 22/100\n",
            "124/124 [==============================] - 0s 4ms/step - loss: 3.5237e-04 - mean_squared_error: 3.5237e-04 - val_loss: 3.8675e-04 - val_mean_squared_error: 3.8675e-04\n",
            "Epoch 23/100\n",
            "124/124 [==============================] - 0s 4ms/step - loss: 3.0386e-04 - mean_squared_error: 3.0386e-04 - val_loss: 3.5602e-04 - val_mean_squared_error: 3.5602e-04\n",
            "Epoch 24/100\n",
            "124/124 [==============================] - 1s 4ms/step - loss: 2.8453e-04 - mean_squared_error: 2.8453e-04 - val_loss: 3.1390e-04 - val_mean_squared_error: 3.1390e-04\n",
            "Epoch 25/100\n",
            "124/124 [==============================] - 0s 4ms/step - loss: 2.7780e-04 - mean_squared_error: 2.7780e-04 - val_loss: 3.1374e-04 - val_mean_squared_error: 3.1374e-04\n",
            "Epoch 26/100\n",
            "124/124 [==============================] - 1s 4ms/step - loss: 2.7449e-04 - mean_squared_error: 2.7449e-04 - val_loss: 3.1314e-04 - val_mean_squared_error: 3.1314e-04\n",
            "Epoch 27/100\n",
            "124/124 [==============================] - 0s 4ms/step - loss: 2.7180e-04 - mean_squared_error: 2.7180e-04 - val_loss: 3.0624e-04 - val_mean_squared_error: 3.0624e-04\n",
            "Epoch 28/100\n",
            "124/124 [==============================] - 0s 4ms/step - loss: 2.7359e-04 - mean_squared_error: 2.7359e-04 - val_loss: 3.0310e-04 - val_mean_squared_error: 3.0310e-04\n",
            "Epoch 29/100\n",
            "124/124 [==============================] - 0s 4ms/step - loss: 2.7312e-04 - mean_squared_error: 2.7312e-04 - val_loss: 3.0432e-04 - val_mean_squared_error: 3.0432e-04\n",
            "Epoch 30/100\n",
            "124/124 [==============================] - 0s 4ms/step - loss: 2.7269e-04 - mean_squared_error: 2.7269e-04 - val_loss: 3.0229e-04 - val_mean_squared_error: 3.0229e-04\n",
            "Epoch 31/100\n",
            "124/124 [==============================] - 0s 4ms/step - loss: 2.7256e-04 - mean_squared_error: 2.7256e-04 - val_loss: 3.0293e-04 - val_mean_squared_error: 3.0293e-04\n",
            "Epoch 32/100\n",
            "124/124 [==============================] - 0s 4ms/step - loss: 2.7230e-04 - mean_squared_error: 2.7230e-04 - val_loss: 3.0647e-04 - val_mean_squared_error: 3.0647e-04\n",
            "Epoch 33/100\n",
            "124/124 [==============================] - 0s 4ms/step - loss: 2.7045e-04 - mean_squared_error: 2.7045e-04 - val_loss: 3.0787e-04 - val_mean_squared_error: 3.0787e-04\n",
            "Epoch 34/100\n",
            "124/124 [==============================] - 0s 4ms/step - loss: 2.7171e-04 - mean_squared_error: 2.7171e-04 - val_loss: 3.1104e-04 - val_mean_squared_error: 3.1104e-04\n",
            "Epoch 35/100\n",
            "124/124 [==============================] - 0s 4ms/step - loss: 2.7610e-04 - mean_squared_error: 2.7610e-04 - val_loss: 3.2927e-04 - val_mean_squared_error: 3.2927e-04\n",
            "Epoch 36/100\n",
            "124/124 [==============================] - 0s 4ms/step - loss: 2.7089e-04 - mean_squared_error: 2.7089e-04 - val_loss: 3.0448e-04 - val_mean_squared_error: 3.0448e-04\n",
            "Epoch 37/100\n",
            "124/124 [==============================] - 0s 4ms/step - loss: 2.6944e-04 - mean_squared_error: 2.6944e-04 - val_loss: 3.0719e-04 - val_mean_squared_error: 3.0719e-04\n",
            "Epoch 38/100\n",
            "124/124 [==============================] - 1s 4ms/step - loss: 2.7316e-04 - mean_squared_error: 2.7316e-04 - val_loss: 3.0969e-04 - val_mean_squared_error: 3.0969e-04\n",
            "Epoch 39/100\n",
            "124/124 [==============================] - 0s 4ms/step - loss: 2.7315e-04 - mean_squared_error: 2.7315e-04 - val_loss: 3.0350e-04 - val_mean_squared_error: 3.0350e-04\n",
            "Epoch 40/100\n",
            "124/124 [==============================] - 0s 4ms/step - loss: 2.7376e-04 - mean_squared_error: 2.7376e-04 - val_loss: 3.0309e-04 - val_mean_squared_error: 3.0309e-04\n",
            "Epoch 41/100\n",
            "124/124 [==============================] - 0s 4ms/step - loss: 2.7047e-04 - mean_squared_error: 2.7047e-04 - val_loss: 3.0782e-04 - val_mean_squared_error: 3.0782e-04\n",
            "Epoch 42/100\n",
            "124/124 [==============================] - 0s 4ms/step - loss: 2.7051e-04 - mean_squared_error: 2.7051e-04 - val_loss: 3.1016e-04 - val_mean_squared_error: 3.1016e-04\n",
            "Epoch 43/100\n",
            "124/124 [==============================] - 0s 4ms/step - loss: 2.7250e-04 - mean_squared_error: 2.7250e-04 - val_loss: 3.0324e-04 - val_mean_squared_error: 3.0324e-04\n",
            "Epoch 44/100\n",
            "124/124 [==============================] - 0s 4ms/step - loss: 2.7399e-04 - mean_squared_error: 2.7399e-04 - val_loss: 3.1777e-04 - val_mean_squared_error: 3.1777e-04\n",
            "Epoch 45/100\n",
            "124/124 [==============================] - 0s 4ms/step - loss: 2.7520e-04 - mean_squared_error: 2.7520e-04 - val_loss: 3.0529e-04 - val_mean_squared_error: 3.0529e-04\n",
            "Epoch 46/100\n",
            "124/124 [==============================] - 1s 4ms/step - loss: 2.7031e-04 - mean_squared_error: 2.7031e-04 - val_loss: 3.0610e-04 - val_mean_squared_error: 3.0610e-04\n",
            "Epoch 47/100\n",
            "124/124 [==============================] - 0s 4ms/step - loss: 2.7620e-04 - mean_squared_error: 2.7620e-04 - val_loss: 3.0513e-04 - val_mean_squared_error: 3.0513e-04\n",
            "Epoch 48/100\n",
            "124/124 [==============================] - 0s 4ms/step - loss: 2.7309e-04 - mean_squared_error: 2.7309e-04 - val_loss: 3.0241e-04 - val_mean_squared_error: 3.0241e-04\n",
            "Epoch 49/100\n",
            "124/124 [==============================] - 0s 4ms/step - loss: 2.7323e-04 - mean_squared_error: 2.7323e-04 - val_loss: 3.0273e-04 - val_mean_squared_error: 3.0273e-04\n",
            "Epoch 50/100\n",
            "124/124 [==============================] - 1s 4ms/step - loss: 2.7688e-04 - mean_squared_error: 2.7688e-04 - val_loss: 3.0254e-04 - val_mean_squared_error: 3.0254e-04\n",
            "Epoch 51/100\n",
            "124/124 [==============================] - 0s 4ms/step - loss: 2.7619e-04 - mean_squared_error: 2.7619e-04 - val_loss: 3.1914e-04 - val_mean_squared_error: 3.1914e-04\n",
            "Epoch 52/100\n",
            "124/124 [==============================] - 0s 4ms/step - loss: 2.7052e-04 - mean_squared_error: 2.7052e-04 - val_loss: 3.0685e-04 - val_mean_squared_error: 3.0685e-04\n",
            "Epoch 53/100\n",
            "124/124 [==============================] - 0s 4ms/step - loss: 2.7392e-04 - mean_squared_error: 2.7392e-04 - val_loss: 3.0450e-04 - val_mean_squared_error: 3.0450e-04\n",
            "Epoch 54/100\n",
            "124/124 [==============================] - 0s 4ms/step - loss: 2.7276e-04 - mean_squared_error: 2.7276e-04 - val_loss: 3.0472e-04 - val_mean_squared_error: 3.0472e-04\n",
            "Epoch 55/100\n",
            "124/124 [==============================] - 0s 4ms/step - loss: 2.7221e-04 - mean_squared_error: 2.7221e-04 - val_loss: 3.0448e-04 - val_mean_squared_error: 3.0448e-04\n",
            "Epoch 56/100\n",
            "124/124 [==============================] - 1s 4ms/step - loss: 2.7425e-04 - mean_squared_error: 2.7425e-04 - val_loss: 3.0474e-04 - val_mean_squared_error: 3.0474e-04\n",
            "Epoch 57/100\n",
            "124/124 [==============================] - 0s 4ms/step - loss: 2.7448e-04 - mean_squared_error: 2.7448e-04 - val_loss: 3.1267e-04 - val_mean_squared_error: 3.1267e-04\n",
            "Epoch 58/100\n",
            "124/124 [==============================] - 0s 4ms/step - loss: 2.7342e-04 - mean_squared_error: 2.7342e-04 - val_loss: 3.0919e-04 - val_mean_squared_error: 3.0919e-04\n",
            "Epoch 59/100\n",
            "124/124 [==============================] - 0s 4ms/step - loss: 2.7323e-04 - mean_squared_error: 2.7323e-04 - val_loss: 3.0276e-04 - val_mean_squared_error: 3.0276e-04\n",
            "Epoch 60/100\n",
            "124/124 [==============================] - 0s 4ms/step - loss: 2.7931e-04 - mean_squared_error: 2.7932e-04 - val_loss: 3.0389e-04 - val_mean_squared_error: 3.0389e-04\n",
            "Epoch 61/100\n",
            "124/124 [==============================] - 0s 4ms/step - loss: 2.7384e-04 - mean_squared_error: 2.7384e-04 - val_loss: 3.1253e-04 - val_mean_squared_error: 3.1253e-04\n",
            "Epoch 62/100\n",
            "124/124 [==============================] - 0s 4ms/step - loss: 2.7213e-04 - mean_squared_error: 2.7213e-04 - val_loss: 3.1347e-04 - val_mean_squared_error: 3.1347e-04\n",
            "Epoch 63/100\n",
            "124/124 [==============================] - 0s 4ms/step - loss: 2.7607e-04 - mean_squared_error: 2.7607e-04 - val_loss: 3.1399e-04 - val_mean_squared_error: 3.1399e-04\n",
            "Epoch 64/100\n",
            "124/124 [==============================] - 0s 4ms/step - loss: 2.7368e-04 - mean_squared_error: 2.7368e-04 - val_loss: 3.0343e-04 - val_mean_squared_error: 3.0343e-04\n",
            "Epoch 65/100\n",
            "124/124 [==============================] - 0s 4ms/step - loss: 2.7270e-04 - mean_squared_error: 2.7270e-04 - val_loss: 3.0327e-04 - val_mean_squared_error: 3.0327e-04\n",
            "Epoch 66/100\n",
            "124/124 [==============================] - 0s 4ms/step - loss: 2.7376e-04 - mean_squared_error: 2.7376e-04 - val_loss: 3.0525e-04 - val_mean_squared_error: 3.0525e-04\n",
            "Epoch 67/100\n",
            "124/124 [==============================] - 1s 4ms/step - loss: 2.7343e-04 - mean_squared_error: 2.7343e-04 - val_loss: 3.1864e-04 - val_mean_squared_error: 3.1864e-04\n",
            "Epoch 68/100\n",
            "124/124 [==============================] - 0s 4ms/step - loss: 2.7104e-04 - mean_squared_error: 2.7104e-04 - val_loss: 3.0404e-04 - val_mean_squared_error: 3.0404e-04\n",
            "Epoch 69/100\n",
            "124/124 [==============================] - 0s 4ms/step - loss: 2.7942e-04 - mean_squared_error: 2.7942e-04 - val_loss: 3.0510e-04 - val_mean_squared_error: 3.0510e-04\n",
            "Epoch 70/100\n",
            "124/124 [==============================] - 0s 4ms/step - loss: 2.7265e-04 - mean_squared_error: 2.7265e-04 - val_loss: 3.1039e-04 - val_mean_squared_error: 3.1039e-04\n",
            "Epoch 71/100\n",
            "124/124 [==============================] - 0s 4ms/step - loss: 2.7768e-04 - mean_squared_error: 2.7768e-04 - val_loss: 3.0369e-04 - val_mean_squared_error: 3.0369e-04\n",
            "Epoch 72/100\n",
            "124/124 [==============================] - 0s 4ms/step - loss: 2.7710e-04 - mean_squared_error: 2.7710e-04 - val_loss: 3.0499e-04 - val_mean_squared_error: 3.0499e-04\n",
            "Epoch 73/100\n",
            "124/124 [==============================] - 1s 4ms/step - loss: 2.7416e-04 - mean_squared_error: 2.7416e-04 - val_loss: 3.1580e-04 - val_mean_squared_error: 3.1580e-04\n",
            "Epoch 74/100\n",
            "124/124 [==============================] - 0s 4ms/step - loss: 2.7534e-04 - mean_squared_error: 2.7534e-04 - val_loss: 3.0425e-04 - val_mean_squared_error: 3.0425e-04\n",
            "Epoch 75/100\n",
            "124/124 [==============================] - 0s 4ms/step - loss: 2.6953e-04 - mean_squared_error: 2.6953e-04 - val_loss: 3.0319e-04 - val_mean_squared_error: 3.0319e-04\n",
            "Epoch 76/100\n",
            "124/124 [==============================] - 0s 4ms/step - loss: 2.7223e-04 - mean_squared_error: 2.7223e-04 - val_loss: 3.1556e-04 - val_mean_squared_error: 3.1556e-04\n",
            "Epoch 77/100\n",
            "124/124 [==============================] - 1s 4ms/step - loss: 2.7510e-04 - mean_squared_error: 2.7510e-04 - val_loss: 3.0404e-04 - val_mean_squared_error: 3.0404e-04\n",
            "Epoch 78/100\n",
            "124/124 [==============================] - 0s 4ms/step - loss: 2.7214e-04 - mean_squared_error: 2.7214e-04 - val_loss: 3.0607e-04 - val_mean_squared_error: 3.0607e-04\n",
            "Epoch 79/100\n",
            "124/124 [==============================] - 0s 4ms/step - loss: 2.7183e-04 - mean_squared_error: 2.7183e-04 - val_loss: 3.0380e-04 - val_mean_squared_error: 3.0380e-04\n",
            "Epoch 80/100\n",
            "124/124 [==============================] - 0s 4ms/step - loss: 2.7201e-04 - mean_squared_error: 2.7201e-04 - val_loss: 3.1089e-04 - val_mean_squared_error: 3.1089e-04\n",
            "Epoch 81/100\n",
            "124/124 [==============================] - 0s 4ms/step - loss: 2.7589e-04 - mean_squared_error: 2.7589e-04 - val_loss: 3.0875e-04 - val_mean_squared_error: 3.0875e-04\n",
            "Epoch 82/100\n",
            "124/124 [==============================] - 0s 4ms/step - loss: 2.7309e-04 - mean_squared_error: 2.7309e-04 - val_loss: 3.2632e-04 - val_mean_squared_error: 3.2632e-04\n",
            "Epoch 83/100\n",
            "124/124 [==============================] - 0s 4ms/step - loss: 2.7252e-04 - mean_squared_error: 2.7252e-04 - val_loss: 3.1384e-04 - val_mean_squared_error: 3.1384e-04\n",
            "Epoch 84/100\n",
            "124/124 [==============================] - 0s 4ms/step - loss: 2.7606e-04 - mean_squared_error: 2.7606e-04 - val_loss: 3.0654e-04 - val_mean_squared_error: 3.0654e-04\n",
            "Epoch 85/100\n",
            "124/124 [==============================] - 0s 4ms/step - loss: 2.7044e-04 - mean_squared_error: 2.7044e-04 - val_loss: 3.1973e-04 - val_mean_squared_error: 3.1973e-04\n",
            "Epoch 86/100\n",
            "124/124 [==============================] - 0s 4ms/step - loss: 2.7639e-04 - mean_squared_error: 2.7639e-04 - val_loss: 3.1041e-04 - val_mean_squared_error: 3.1041e-04\n",
            "Epoch 87/100\n",
            "124/124 [==============================] - 0s 4ms/step - loss: 2.7580e-04 - mean_squared_error: 2.7580e-04 - val_loss: 3.0251e-04 - val_mean_squared_error: 3.0251e-04\n",
            "Epoch 88/100\n",
            "124/124 [==============================] - 0s 4ms/step - loss: 2.7854e-04 - mean_squared_error: 2.7854e-04 - val_loss: 3.0253e-04 - val_mean_squared_error: 3.0253e-04\n",
            "Epoch 89/100\n",
            "124/124 [==============================] - 0s 4ms/step - loss: 2.7208e-04 - mean_squared_error: 2.7208e-04 - val_loss: 3.0745e-04 - val_mean_squared_error: 3.0745e-04\n",
            "Epoch 90/100\n",
            "124/124 [==============================] - 0s 4ms/step - loss: 2.7333e-04 - mean_squared_error: 2.7333e-04 - val_loss: 3.0281e-04 - val_mean_squared_error: 3.0281e-04\n",
            "Epoch 91/100\n",
            "124/124 [==============================] - 0s 4ms/step - loss: 2.7488e-04 - mean_squared_error: 2.7488e-04 - val_loss: 3.0253e-04 - val_mean_squared_error: 3.0253e-04\n",
            "Epoch 92/100\n",
            "124/124 [==============================] - 0s 4ms/step - loss: 2.7641e-04 - mean_squared_error: 2.7641e-04 - val_loss: 3.0261e-04 - val_mean_squared_error: 3.0261e-04\n",
            "Epoch 93/100\n",
            "124/124 [==============================] - 0s 4ms/step - loss: 2.7027e-04 - mean_squared_error: 2.7027e-04 - val_loss: 3.1649e-04 - val_mean_squared_error: 3.1649e-04\n",
            "Epoch 94/100\n",
            "124/124 [==============================] - 0s 4ms/step - loss: 2.7077e-04 - mean_squared_error: 2.7077e-04 - val_loss: 3.0279e-04 - val_mean_squared_error: 3.0279e-04\n",
            "Epoch 95/100\n",
            "124/124 [==============================] - 0s 4ms/step - loss: 2.7397e-04 - mean_squared_error: 2.7397e-04 - val_loss: 3.0302e-04 - val_mean_squared_error: 3.0302e-04\n",
            "Epoch 96/100\n",
            "124/124 [==============================] - 0s 4ms/step - loss: 2.7487e-04 - mean_squared_error: 2.7487e-04 - val_loss: 3.0416e-04 - val_mean_squared_error: 3.0416e-04\n",
            "Epoch 97/100\n",
            "124/124 [==============================] - 0s 4ms/step - loss: 2.7255e-04 - mean_squared_error: 2.7255e-04 - val_loss: 3.0741e-04 - val_mean_squared_error: 3.0741e-04\n",
            "Epoch 98/100\n",
            "124/124 [==============================] - 0s 4ms/step - loss: 2.7281e-04 - mean_squared_error: 2.7281e-04 - val_loss: 3.0288e-04 - val_mean_squared_error: 3.0288e-04\n",
            "Epoch 99/100\n",
            "124/124 [==============================] - 0s 4ms/step - loss: 2.7088e-04 - mean_squared_error: 2.7088e-04 - val_loss: 3.1248e-04 - val_mean_squared_error: 3.1248e-04\n",
            "Epoch 100/100\n",
            "124/124 [==============================] - 1s 4ms/step - loss: 2.7132e-04 - mean_squared_error: 2.7132e-04 - val_loss: 3.0380e-04 - val_mean_squared_error: 3.0380e-04\n"
          ],
          "name": "stdout"
        }
      ]
    },
    {
      "cell_type": "code",
      "metadata": {
        "colab_type": "code",
        "id": "q4MnydpbBg20",
        "colab": {}
      },
      "source": [
        "#predict on validation data\n",
        "val_prediction = model.predict(X_val)\n"
      ],
      "execution_count": null,
      "outputs": []
    },
    {
      "cell_type": "code",
      "metadata": {
        "colab_type": "code",
        "id": "KNZy19nABg29",
        "colab": {
          "base_uri": "https://localhost:8080/",
          "height": 34
        },
        "outputId": "488350c3-ed69-406b-f94a-5b917a44dc86"
      },
      "source": [
        "print('The validation mean squared error is ', mean_squared_error(J_val, val_prediction))"
      ],
      "execution_count": null,
      "outputs": [
        {
          "output_type": "stream",
          "text": [
            "The validation mean squared error is  0.0003038018885303403\n"
          ],
          "name": "stdout"
        }
      ]
    },
    {
      "cell_type": "code",
      "metadata": {
        "colab_type": "code",
        "id": "Nwit2Rl2Bg3F",
        "colab": {}
      },
      "source": [
        "#evaluate on test data\n",
        "test_prediction = model.predict(X_test)"
      ],
      "execution_count": null,
      "outputs": []
    },
    {
      "cell_type": "code",
      "metadata": {
        "colab_type": "code",
        "id": "uJjQtF8aBg3P",
        "colab": {
          "base_uri": "https://localhost:8080/",
          "height": 34
        },
        "outputId": "e4384af5-5d30-45cb-f7b0-c2e6f2a1d01c"
      },
      "source": [
        "print('The testing mean squared error is ', mean_squared_error(J_test, test_prediction))"
      ],
      "execution_count": null,
      "outputs": [
        {
          "output_type": "stream",
          "text": [
            "The testing mean squared error is  0.000231850145642436\n"
          ],
          "name": "stdout"
        }
      ]
    },
    {
      "cell_type": "code",
      "metadata": {
        "colab_type": "code",
        "id": "dbomCHJYBlxA",
        "colab": {
          "base_uri": "https://localhost:8080/",
          "height": 404
        },
        "outputId": "54e126df-0cf5-496e-a9f2-08d3e9c55d87"
      },
      "source": [
        "#plot the mean square errors per the epochs\n",
        "plt.figure(figsize=(6,6))\n",
        "plt.plot(history.history['mean_squared_error'])\n",
        "plt.title('Model loss')\n",
        "plt.ylabel('Mean Squared Error')\n",
        "plt.xlabel('Epoch')\n",
        "plt.savefig('loss1')\n",
        "plt.show()"
      ],
      "execution_count": null,
      "outputs": [
        {
          "output_type": "display_data",
          "data": {
            "image/png": "[encoded data removed]",
            "text/plain": [
              "<Figure size 432x432 with 1 Axes>"
            ]
          },
          "metadata": {
            "tags": [],
            "needs_background": "light"
          }
        }
      ]
    },
    {
      "cell_type": "code",
      "metadata": {
        "colab_type": "code",
        "id": "aMxqeyqcBlxL",
        "colab": {
          "base_uri": "https://localhost:8080/",
          "height": 374
        },
        "outputId": "a7106732-ff91-47ef-ab77-1caaf6e81dac"
      },
      "source": [
        "##plot of the validation adn training loss per epoch\n",
        "plot_hist(history.history, xsize=8, ysize=12)\n",
        "plt.show()"
      ],
      "execution_count": null,
      "outputs": [
        {
          "output_type": "display_data",
          "data": {
            "image/png": "[encoded data removed]",
            "text/plain": [
              "<Figure size 576x864 with 1 Axes>"
            ]
          },
          "metadata": {
            "tags": [],
            "needs_background": "light"
          }
        }
      ]
    },
    {
      "cell_type": "markdown",
      "metadata": {
        "id": "aA3_1i8vTBh5",
        "colab_type": "text"
      },
      "source": [
        "#**BEST MODEL FOR MICROSOFT**"
      ]
    },
    {
      "cell_type": "markdown",
      "metadata": {
        "id": "olfFtX03GAjC",
        "colab_type": "text"
      },
      "source": [
        "Creating the neural network"
      ]
    },
    {
      "cell_type": "code",
      "metadata": {
        "colab_type": "code",
        "id": "_ZpHj_WMg2vz",
        "colab": {}
      },
      "source": [
        "def baseline():\n",
        "    # create model\n",
        "    model = Sequential()\n",
        "    \n",
        "    model.add(Dense(units = 1, input_dim=1, activation='linear'))\n",
        "    model.add(Dense(units = 4, input_dim=1, activation='tanh'))\n",
        "    \n",
        "    #a fully connected layer for the output\n",
        "    model.add(Dense(1, activation='linear'))\n",
        "    \n",
        "    # Compile model\n",
        "    model.compile(loss='mean_squared_error', optimizer='adam',metrics=[metrics.mse])\n",
        "    \n",
        "    return model"
      ],
      "execution_count": null,
      "outputs": []
    },
    {
      "cell_type": "code",
      "metadata": {
        "colab_type": "code",
        "id": "LzGxl4aOg2wV",
        "colab": {}
      },
      "source": [
        "model = baseline()"
      ],
      "execution_count": null,
      "outputs": []
    },
    {
      "cell_type": "code",
      "metadata": {
        "colab_type": "code",
        "id": "UuQzfIFhg2wn",
        "colab": {
          "base_uri": "https://localhost:8080/",
          "height": 260
        },
        "outputId": "15c19c65-863a-4b91-8f7e-deabcc48cee9"
      },
      "source": [
        "model.summary() #View model parameters"
      ],
      "execution_count": null,
      "outputs": [
        {
          "output_type": "stream",
          "text": [
            "Model: \"sequential_27\"\n",
            "_________________________________________________________________\n",
            "Layer (type)                 Output Shape              Param #   \n",
            "=================================================================\n",
            "dense_89 (Dense)             (None, 1)                 2         \n",
            "_________________________________________________________________\n",
            "dense_90 (Dense)             (None, 4)                 8         \n",
            "_________________________________________________________________\n",
            "dense_91 (Dense)             (None, 1)                 5         \n",
            "=================================================================\n",
            "Total params: 15\n",
            "Trainable params: 15\n",
            "Non-trainable params: 0\n",
            "_________________________________________________________________\n"
          ],
          "name": "stdout"
        }
      ]
    },
    {
      "cell_type": "code",
      "metadata": {
        "colab_type": "code",
        "id": "aijSR1rLg2wt",
        "colab": {
          "base_uri": "https://localhost:8080/",
          "height": 1000
        },
        "outputId": "4900f68f-e5dd-4993-d689-bad073bf4d1a"
      },
      "source": [
        "#train the model and calculate loss at each epoch\n",
        "history = model.fit(X_train, M_train,validation_data=(X_val,M_val),batch_size=20,epochs=80) "
      ],
      "execution_count": null,
      "outputs": [
        {
          "output_type": "stream",
          "text": [
            "Epoch 1/80\n",
            "124/124 [==============================] - 0s 2ms/step - loss: 5.7425e-04 - mean_squared_error: 5.7425e-04 - val_loss: 3.9985e-04 - val_mean_squared_error: 3.9985e-04\n",
            "Epoch 2/80\n",
            "124/124 [==============================] - 0s 2ms/step - loss: 3.7297e-04 - mean_squared_error: 3.7297e-04 - val_loss: 2.8928e-04 - val_mean_squared_error: 2.8928e-04\n",
            "Epoch 3/80\n",
            "124/124 [==============================] - 0s 2ms/step - loss: 2.7243e-04 - mean_squared_error: 2.7243e-04 - val_loss: 2.2296e-04 - val_mean_squared_error: 2.2296e-04\n",
            "Epoch 4/80\n",
            "124/124 [==============================] - 0s 2ms/step - loss: 2.2367e-04 - mean_squared_error: 2.2367e-04 - val_loss: 2.0097e-04 - val_mean_squared_error: 2.0097e-04\n",
            "Epoch 5/80\n",
            "124/124 [==============================] - 0s 2ms/step - loss: 2.1189e-04 - mean_squared_error: 2.1189e-04 - val_loss: 2.0862e-04 - val_mean_squared_error: 2.0862e-04\n",
            "Epoch 6/80\n",
            "124/124 [==============================] - 0s 2ms/step - loss: 2.0875e-04 - mean_squared_error: 2.0875e-04 - val_loss: 1.9939e-04 - val_mean_squared_error: 1.9939e-04\n",
            "Epoch 7/80\n",
            "124/124 [==============================] - 0s 2ms/step - loss: 2.0652e-04 - mean_squared_error: 2.0652e-04 - val_loss: 1.9916e-04 - val_mean_squared_error: 1.9916e-04\n",
            "Epoch 8/80\n",
            "124/124 [==============================] - 0s 2ms/step - loss: 2.0594e-04 - mean_squared_error: 2.0594e-04 - val_loss: 2.0759e-04 - val_mean_squared_error: 2.0759e-04\n",
            "Epoch 9/80\n",
            "124/124 [==============================] - 0s 2ms/step - loss: 2.0809e-04 - mean_squared_error: 2.0809e-04 - val_loss: 2.0057e-04 - val_mean_squared_error: 2.0057e-04\n",
            "Epoch 10/80\n",
            "124/124 [==============================] - 0s 2ms/step - loss: 2.1179e-04 - mean_squared_error: 2.1179e-04 - val_loss: 2.1035e-04 - val_mean_squared_error: 2.1035e-04\n",
            "Epoch 11/80\n",
            "124/124 [==============================] - 0s 2ms/step - loss: 2.0577e-04 - mean_squared_error: 2.0577e-04 - val_loss: 2.0313e-04 - val_mean_squared_error: 2.0313e-04\n",
            "Epoch 12/80\n",
            "124/124 [==============================] - 0s 2ms/step - loss: 2.0555e-04 - mean_squared_error: 2.0555e-04 - val_loss: 2.0428e-04 - val_mean_squared_error: 2.0428e-04\n",
            "Epoch 13/80\n",
            "124/124 [==============================] - 0s 2ms/step - loss: 2.0965e-04 - mean_squared_error: 2.0965e-04 - val_loss: 2.0155e-04 - val_mean_squared_error: 2.0155e-04\n",
            "Epoch 14/80\n",
            "124/124 [==============================] - 0s 2ms/step - loss: 2.0703e-04 - mean_squared_error: 2.0703e-04 - val_loss: 2.0096e-04 - val_mean_squared_error: 2.0096e-04\n",
            "Epoch 15/80\n",
            "124/124 [==============================] - 0s 2ms/step - loss: 2.0714e-04 - mean_squared_error: 2.0714e-04 - val_loss: 2.0159e-04 - val_mean_squared_error: 2.0159e-04\n",
            "Epoch 16/80\n",
            "124/124 [==============================] - 0s 2ms/step - loss: 2.0760e-04 - mean_squared_error: 2.0760e-04 - val_loss: 2.0567e-04 - val_mean_squared_error: 2.0567e-04\n",
            "Epoch 17/80\n",
            "124/124 [==============================] - 0s 2ms/step - loss: 2.1056e-04 - mean_squared_error: 2.1056e-04 - val_loss: 1.9910e-04 - val_mean_squared_error: 1.9910e-04\n",
            "Epoch 18/80\n",
            "124/124 [==============================] - 0s 2ms/step - loss: 2.0642e-04 - mean_squared_error: 2.0642e-04 - val_loss: 1.9959e-04 - val_mean_squared_error: 1.9959e-04\n",
            "Epoch 19/80\n",
            "124/124 [==============================] - 0s 2ms/step - loss: 2.0653e-04 - mean_squared_error: 2.0653e-04 - val_loss: 2.0036e-04 - val_mean_squared_error: 2.0036e-04\n",
            "Epoch 20/80\n",
            "124/124 [==============================] - 0s 2ms/step - loss: 2.1012e-04 - mean_squared_error: 2.1012e-04 - val_loss: 2.0421e-04 - val_mean_squared_error: 2.0421e-04\n",
            "Epoch 21/80\n",
            "124/124 [==============================] - 0s 2ms/step - loss: 2.0952e-04 - mean_squared_error: 2.0952e-04 - val_loss: 2.1972e-04 - val_mean_squared_error: 2.1972e-04\n",
            "Epoch 22/80\n",
            "124/124 [==============================] - 0s 2ms/step - loss: 2.0865e-04 - mean_squared_error: 2.0865e-04 - val_loss: 2.0423e-04 - val_mean_squared_error: 2.0423e-04\n",
            "Epoch 23/80\n",
            "124/124 [==============================] - 0s 2ms/step - loss: 2.0623e-04 - mean_squared_error: 2.0623e-04 - val_loss: 2.1053e-04 - val_mean_squared_error: 2.1053e-04\n",
            "Epoch 24/80\n",
            "124/124 [==============================] - 0s 2ms/step - loss: 2.0606e-04 - mean_squared_error: 2.0606e-04 - val_loss: 1.9965e-04 - val_mean_squared_error: 1.9965e-04\n",
            "Epoch 25/80\n",
            "124/124 [==============================] - 0s 2ms/step - loss: 2.0694e-04 - mean_squared_error: 2.0694e-04 - val_loss: 2.0027e-04 - val_mean_squared_error: 2.0027e-04\n",
            "Epoch 26/80\n",
            "124/124 [==============================] - 0s 2ms/step - loss: 2.0741e-04 - mean_squared_error: 2.0741e-04 - val_loss: 1.9950e-04 - val_mean_squared_error: 1.9950e-04\n",
            "Epoch 27/80\n",
            "124/124 [==============================] - 0s 2ms/step - loss: 2.0880e-04 - mean_squared_error: 2.0880e-04 - val_loss: 1.9986e-04 - val_mean_squared_error: 1.9986e-04\n",
            "Epoch 28/80\n",
            "124/124 [==============================] - 0s 2ms/step - loss: 2.0553e-04 - mean_squared_error: 2.0553e-04 - val_loss: 1.9892e-04 - val_mean_squared_error: 1.9892e-04\n",
            "Epoch 29/80\n",
            "124/124 [==============================] - 0s 2ms/step - loss: 2.0827e-04 - mean_squared_error: 2.0827e-04 - val_loss: 2.0104e-04 - val_mean_squared_error: 2.0104e-04\n",
            "Epoch 30/80\n",
            "124/124 [==============================] - 0s 2ms/step - loss: 2.0797e-04 - mean_squared_error: 2.0797e-04 - val_loss: 2.2683e-04 - val_mean_squared_error: 2.2683e-04\n",
            "Epoch 31/80\n",
            "124/124 [==============================] - 0s 2ms/step - loss: 2.1043e-04 - mean_squared_error: 2.1043e-04 - val_loss: 2.2644e-04 - val_mean_squared_error: 2.2644e-04\n",
            "Epoch 32/80\n",
            "124/124 [==============================] - 0s 2ms/step - loss: 2.0944e-04 - mean_squared_error: 2.0944e-04 - val_loss: 1.9947e-04 - val_mean_squared_error: 1.9947e-04\n",
            "Epoch 33/80\n",
            "124/124 [==============================] - 0s 2ms/step - loss: 2.1149e-04 - mean_squared_error: 2.1149e-04 - val_loss: 1.9976e-04 - val_mean_squared_error: 1.9976e-04\n",
            "Epoch 34/80\n",
            "124/124 [==============================] - 0s 2ms/step - loss: 2.0598e-04 - mean_squared_error: 2.0598e-04 - val_loss: 2.0782e-04 - val_mean_squared_error: 2.0782e-04\n",
            "Epoch 35/80\n",
            "124/124 [==============================] - 0s 2ms/step - loss: 2.0801e-04 - mean_squared_error: 2.0801e-04 - val_loss: 2.2620e-04 - val_mean_squared_error: 2.2620e-04\n",
            "Epoch 36/80\n",
            "124/124 [==============================] - 0s 2ms/step - loss: 2.0622e-04 - mean_squared_error: 2.0622e-04 - val_loss: 2.0385e-04 - val_mean_squared_error: 2.0385e-04\n",
            "Epoch 37/80\n",
            "124/124 [==============================] - 0s 2ms/step - loss: 2.0841e-04 - mean_squared_error: 2.0841e-04 - val_loss: 1.9939e-04 - val_mean_squared_error: 1.9939e-04\n",
            "Epoch 38/80\n",
            "124/124 [==============================] - 0s 2ms/step - loss: 2.0697e-04 - mean_squared_error: 2.0697e-04 - val_loss: 2.0369e-04 - val_mean_squared_error: 2.0369e-04\n",
            "Epoch 39/80\n",
            "124/124 [==============================] - 0s 2ms/step - loss: 2.0793e-04 - mean_squared_error: 2.0793e-04 - val_loss: 2.2639e-04 - val_mean_squared_error: 2.2639e-04\n",
            "Epoch 40/80\n",
            "124/124 [==============================] - 0s 2ms/step - loss: 2.0807e-04 - mean_squared_error: 2.0807e-04 - val_loss: 1.9902e-04 - val_mean_squared_error: 1.9902e-04\n",
            "Epoch 41/80\n",
            "124/124 [==============================] - 0s 2ms/step - loss: 2.0703e-04 - mean_squared_error: 2.0703e-04 - val_loss: 2.1028e-04 - val_mean_squared_error: 2.1028e-04\n",
            "Epoch 42/80\n",
            "124/124 [==============================] - 0s 2ms/step - loss: 2.0933e-04 - mean_squared_error: 2.0933e-04 - val_loss: 2.0842e-04 - val_mean_squared_error: 2.0842e-04\n",
            "Epoch 43/80\n",
            "124/124 [==============================] - 0s 2ms/step - loss: 2.0576e-04 - mean_squared_error: 2.0576e-04 - val_loss: 2.0063e-04 - val_mean_squared_error: 2.0063e-04\n",
            "Epoch 44/80\n",
            "124/124 [==============================] - 0s 2ms/step - loss: 2.0469e-04 - mean_squared_error: 2.0469e-04 - val_loss: 2.0210e-04 - val_mean_squared_error: 2.0210e-04\n",
            "Epoch 45/80\n",
            "124/124 [==============================] - 0s 2ms/step - loss: 2.0870e-04 - mean_squared_error: 2.0870e-04 - val_loss: 1.9963e-04 - val_mean_squared_error: 1.9963e-04\n",
            "Epoch 46/80\n",
            "124/124 [==============================] - 0s 2ms/step - loss: 2.0541e-04 - mean_squared_error: 2.0541e-04 - val_loss: 1.9903e-04 - val_mean_squared_error: 1.9903e-04\n",
            "Epoch 47/80\n",
            "124/124 [==============================] - 0s 2ms/step - loss: 2.0599e-04 - mean_squared_error: 2.0599e-04 - val_loss: 2.0532e-04 - val_mean_squared_error: 2.0532e-04\n",
            "Epoch 48/80\n",
            "124/124 [==============================] - 0s 2ms/step - loss: 2.0924e-04 - mean_squared_error: 2.0924e-04 - val_loss: 2.1052e-04 - val_mean_squared_error: 2.1052e-04\n",
            "Epoch 49/80\n",
            "124/124 [==============================] - 0s 2ms/step - loss: 2.1155e-04 - mean_squared_error: 2.1155e-04 - val_loss: 1.9907e-04 - val_mean_squared_error: 1.9907e-04\n",
            "Epoch 50/80\n",
            "124/124 [==============================] - 0s 2ms/step - loss: 2.0740e-04 - mean_squared_error: 2.0740e-04 - val_loss: 2.0110e-04 - val_mean_squared_error: 2.0110e-04\n",
            "Epoch 51/80\n",
            "124/124 [==============================] - 0s 2ms/step - loss: 2.0975e-04 - mean_squared_error: 2.0975e-04 - val_loss: 1.9966e-04 - val_mean_squared_error: 1.9966e-04\n",
            "Epoch 52/80\n",
            "124/124 [==============================] - 0s 2ms/step - loss: 2.1035e-04 - mean_squared_error: 2.1035e-04 - val_loss: 2.0515e-04 - val_mean_squared_error: 2.0515e-04\n",
            "Epoch 53/80\n",
            "124/124 [==============================] - 0s 2ms/step - loss: 2.0971e-04 - mean_squared_error: 2.0971e-04 - val_loss: 1.9911e-04 - val_mean_squared_error: 1.9911e-04\n",
            "Epoch 54/80\n",
            "124/124 [==============================] - 0s 2ms/step - loss: 2.0615e-04 - mean_squared_error: 2.0615e-04 - val_loss: 1.9888e-04 - val_mean_squared_error: 1.9888e-04\n",
            "Epoch 55/80\n",
            "124/124 [==============================] - 0s 2ms/step - loss: 2.0603e-04 - mean_squared_error: 2.0603e-04 - val_loss: 2.0276e-04 - val_mean_squared_error: 2.0276e-04\n",
            "Epoch 56/80\n",
            "124/124 [==============================] - 0s 2ms/step - loss: 2.0392e-04 - mean_squared_error: 2.0392e-04 - val_loss: 2.0250e-04 - val_mean_squared_error: 2.0250e-04\n",
            "Epoch 57/80\n",
            "124/124 [==============================] - 0s 2ms/step - loss: 2.0741e-04 - mean_squared_error: 2.0741e-04 - val_loss: 2.0077e-04 - val_mean_squared_error: 2.0077e-04\n",
            "Epoch 58/80\n",
            "124/124 [==============================] - 0s 2ms/step - loss: 2.0953e-04 - mean_squared_error: 2.0953e-04 - val_loss: 2.0847e-04 - val_mean_squared_error: 2.0847e-04\n",
            "Epoch 59/80\n",
            "124/124 [==============================] - 0s 2ms/step - loss: 2.0646e-04 - mean_squared_error: 2.0646e-04 - val_loss: 2.0060e-04 - val_mean_squared_error: 2.0060e-04\n",
            "Epoch 60/80\n",
            "124/124 [==============================] - 0s 2ms/step - loss: 2.0702e-04 - mean_squared_error: 2.0702e-04 - val_loss: 2.1159e-04 - val_mean_squared_error: 2.1159e-04\n",
            "Epoch 61/80\n",
            "124/124 [==============================] - 0s 2ms/step - loss: 2.0894e-04 - mean_squared_error: 2.0894e-04 - val_loss: 2.0621e-04 - val_mean_squared_error: 2.0621e-04\n",
            "Epoch 62/80\n",
            "124/124 [==============================] - 0s 2ms/step - loss: 2.0570e-04 - mean_squared_error: 2.0570e-04 - val_loss: 1.9993e-04 - val_mean_squared_error: 1.9993e-04\n",
            "Epoch 63/80\n",
            "124/124 [==============================] - 0s 2ms/step - loss: 2.0479e-04 - mean_squared_error: 2.0479e-04 - val_loss: 2.2972e-04 - val_mean_squared_error: 2.2972e-04\n",
            "Epoch 64/80\n",
            "124/124 [==============================] - 0s 2ms/step - loss: 2.0832e-04 - mean_squared_error: 2.0832e-04 - val_loss: 1.9930e-04 - val_mean_squared_error: 1.9930e-04\n",
            "Epoch 65/80\n",
            "124/124 [==============================] - 0s 2ms/step - loss: 2.0727e-04 - mean_squared_error: 2.0727e-04 - val_loss: 2.0630e-04 - val_mean_squared_error: 2.0630e-04\n",
            "Epoch 66/80\n",
            "124/124 [==============================] - 0s 2ms/step - loss: 2.0657e-04 - mean_squared_error: 2.0657e-04 - val_loss: 2.0653e-04 - val_mean_squared_error: 2.0653e-04\n",
            "Epoch 67/80\n",
            "124/124 [==============================] - 0s 2ms/step - loss: 2.0529e-04 - mean_squared_error: 2.0529e-04 - val_loss: 2.0605e-04 - val_mean_squared_error: 2.0605e-04\n",
            "Epoch 68/80\n",
            "124/124 [==============================] - 0s 2ms/step - loss: 2.0678e-04 - mean_squared_error: 2.0678e-04 - val_loss: 1.9924e-04 - val_mean_squared_error: 1.9924e-04\n",
            "Epoch 69/80\n",
            "124/124 [==============================] - 0s 2ms/step - loss: 2.0584e-04 - mean_squared_error: 2.0584e-04 - val_loss: 1.9870e-04 - val_mean_squared_error: 1.9870e-04\n",
            "Epoch 70/80\n",
            "124/124 [==============================] - 0s 2ms/step - loss: 2.0595e-04 - mean_squared_error: 2.0595e-04 - val_loss: 2.0051e-04 - val_mean_squared_error: 2.0051e-04\n",
            "Epoch 71/80\n",
            "124/124 [==============================] - 0s 2ms/step - loss: 2.0996e-04 - mean_squared_error: 2.0996e-04 - val_loss: 2.0116e-04 - val_mean_squared_error: 2.0116e-04\n",
            "Epoch 72/80\n",
            "124/124 [==============================] - 0s 2ms/step - loss: 2.0479e-04 - mean_squared_error: 2.0479e-04 - val_loss: 2.1211e-04 - val_mean_squared_error: 2.1211e-04\n",
            "Epoch 73/80\n",
            "124/124 [==============================] - 0s 2ms/step - loss: 2.0676e-04 - mean_squared_error: 2.0676e-04 - val_loss: 2.0824e-04 - val_mean_squared_error: 2.0824e-04\n",
            "Epoch 74/80\n",
            "124/124 [==============================] - 0s 2ms/step - loss: 2.0844e-04 - mean_squared_error: 2.0844e-04 - val_loss: 2.0427e-04 - val_mean_squared_error: 2.0427e-04\n",
            "Epoch 75/80\n",
            "124/124 [==============================] - 0s 2ms/step - loss: 2.0933e-04 - mean_squared_error: 2.0933e-04 - val_loss: 1.9934e-04 - val_mean_squared_error: 1.9934e-04\n",
            "Epoch 76/80\n",
            "124/124 [==============================] - 0s 2ms/step - loss: 2.0513e-04 - mean_squared_error: 2.0513e-04 - val_loss: 2.0174e-04 - val_mean_squared_error: 2.0174e-04\n",
            "Epoch 77/80\n",
            "124/124 [==============================] - 0s 2ms/step - loss: 2.0741e-04 - mean_squared_error: 2.0741e-04 - val_loss: 2.1709e-04 - val_mean_squared_error: 2.1709e-04\n",
            "Epoch 78/80\n",
            "124/124 [==============================] - 0s 2ms/step - loss: 2.0650e-04 - mean_squared_error: 2.0650e-04 - val_loss: 2.0623e-04 - val_mean_squared_error: 2.0623e-04\n",
            "Epoch 79/80\n",
            "124/124 [==============================] - 0s 2ms/step - loss: 2.0449e-04 - mean_squared_error: 2.0449e-04 - val_loss: 1.9943e-04 - val_mean_squared_error: 1.9943e-04\n",
            "Epoch 80/80\n",
            "124/124 [==============================] - 0s 2ms/step - loss: 2.0659e-04 - mean_squared_error: 2.0659e-04 - val_loss: 1.9986e-04 - val_mean_squared_error: 1.9986e-04\n"
          ],
          "name": "stdout"
        }
      ]
    },
    {
      "cell_type": "code",
      "metadata": {
        "colab_type": "code",
        "id": "LVKK9Mfqg2wz",
        "colab": {}
      },
      "source": [
        "#predict on validation data\n",
        "val_prediction = model.predict(X_val)"
      ],
      "execution_count": null,
      "outputs": []
    },
    {
      "cell_type": "code",
      "metadata": {
        "colab_type": "code",
        "id": "uEUrHR2Mg2w6",
        "colab": {
          "base_uri": "https://localhost:8080/",
          "height": 34
        },
        "outputId": "c6840cba-994c-44f5-b41f-d3ef60777249"
      },
      "source": [
        "print('The validation mean squared error is ', mean_squared_error(M_val, val_prediction))"
      ],
      "execution_count": null,
      "outputs": [
        {
          "output_type": "stream",
          "text": [
            "The validation mean squared error is  0.0001998626352758347\n"
          ],
          "name": "stdout"
        }
      ]
    },
    {
      "cell_type": "code",
      "metadata": {
        "colab_type": "code",
        "id": "3aVVT9BVg2w_",
        "colab": {}
      },
      "source": [
        "#evaluate on test data\n",
        "test_prediction = model.predict(X_test)"
      ],
      "execution_count": null,
      "outputs": []
    },
    {
      "cell_type": "code",
      "metadata": {
        "colab_type": "code",
        "id": "ps35RHkCg2xF",
        "colab": {
          "base_uri": "https://localhost:8080/",
          "height": 34
        },
        "outputId": "13c637cb-86d0-4454-e684-c9fe695fdf3e"
      },
      "source": [
        "print('The testing mean squared error is ', mean_squared_error(M_test, test_prediction))"
      ],
      "execution_count": null,
      "outputs": [
        {
          "output_type": "stream",
          "text": [
            "The testing mean squared error is  0.00018005939712854564\n"
          ],
          "name": "stdout"
        }
      ]
    },
    {
      "cell_type": "code",
      "metadata": {
        "colab_type": "code",
        "id": "6Bohlh8xg2xL",
        "colab": {
          "base_uri": "https://localhost:8080/",
          "height": 404
        },
        "outputId": "40f5b94a-404d-4bdc-bd4f-e5e541c74e6c"
      },
      "source": [
        "#plot the mean square errors per the epochs\n",
        "plt.figure(figsize=(6,6))\n",
        "plt.plot(history.history['mean_squared_error'])\n",
        "plt.title('Model loss')\n",
        "plt.ylabel('Mean Squared Error')\n",
        "plt.xlabel('Epoch')\n",
        "plt.savefig('loss1')\n",
        "plt.show()"
      ],
      "execution_count": null,
      "outputs": [
        {
          "output_type": "display_data",
          "data": {
            "image/png": "[encoded data removed]",
            "text/plain": [
              "<Figure size 432x432 with 1 Axes>"
            ]
          },
          "metadata": {
            "tags": [],
            "needs_background": "light"
          }
        }
      ]
    },
    {
      "cell_type": "code",
      "metadata": {
        "colab_type": "code",
        "id": "q4xoSEPYg2xX",
        "colab": {
          "base_uri": "https://localhost:8080/",
          "height": 374
        },
        "outputId": "aac93ce3-768a-449c-f529-97d5eedbd8fd"
      },
      "source": [
        "##plot of the training and validation loss per epoch\n",
        "plot_hist(history.history, xsize=8, ysize=12)\n",
        "plt.show()"
      ],
      "execution_count": null,
      "outputs": [
        {
          "output_type": "display_data",
          "data": {
            "image/png": "[encoded data removed]",
            "text/plain": [
              "<Figure size 576x864 with 1 Axes>"
            ]
          },
          "metadata": {
            "tags": [],
            "needs_background": "light"
          }
        }
      ]
    }
  ]
}